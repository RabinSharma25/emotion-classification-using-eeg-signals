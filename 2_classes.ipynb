{
  "nbformat": 4,
  "nbformat_minor": 0,
  "metadata": {
    "colab": {
      "provenance": [],
      "include_colab_link": true
    },
    "kernelspec": {
      "name": "python3",
      "display_name": "Python 3"
    },
    "language_info": {
      "name": "python"
    }
  },
  "cells": [
    {
      "cell_type": "markdown",
      "metadata": {
        "id": "view-in-github",
        "colab_type": "text"
      },
      "source": [
        "<a href=\"https://colab.research.google.com/github/RabinSharma25/emotion-classification-using-eeg-signals/blob/main/2_classes.ipynb\" target=\"_parent\"><img src=\"https://colab.research.google.com/assets/colab-badge.svg\" alt=\"Open In Colab\"/></a>"
      ]
    },
    {
      "cell_type": "code",
      "execution_count": 1,
      "metadata": {
        "id": "pwwbhMy0pssx"
      },
      "outputs": [],
      "source": [
        "#import the required libraries\n",
        "import os\n",
        "import time\n",
        "import pickle\n",
        "import pandas as pd\n",
        "import numpy as np\n",
        "from google.colab import drive\n",
        "\n",
        "#for feature extraction\n",
        "from scipy.signal import welch\n",
        "from scipy.integrate import simps\n",
        "\n",
        "#classifier libraries\n",
        "from sklearn.model_selection import train_test_split\n",
        "from sklearn.preprocessing import StandardScaler\n",
        "from sklearn.svm import SVC\n",
        "from sklearn.neighbors import KNeighborsClassifier\n",
        "from sklearn.neural_network import MLPClassifier\n",
        "from sklearn.tree import DecisionTreeClassifier\n",
        "from sklearn.naive_bayes import GaussianNB\n",
        "\n",
        "\n",
        "from sklearn.ensemble import RandomForestClassifier\n",
        "from sklearn.ensemble import AdaBoostClassifier\n",
        "\n",
        "import xgboost as xgb\n",
        "\n",
        "from sklearn import model_selection\n",
        "from sklearn.metrics import classification_report, confusion_matrix\n",
        "import itertools\n",
        "from sklearn.metrics import accuracy_score\n",
        "from sklearn.metrics import f1_score\n",
        "from sklearn.metrics import precision_recall_curve"
      ]
    },
    {
      "cell_type": "code",
      "source": [
        "def read_data(filename):\n",
        "    x = pickle._Unpickler(open(filename, 'rb'))\n",
        "    x.encoding = 'latin1'\n",
        "    p = x.load()\n",
        "    return p"
      ],
      "metadata": {
        "id": "7ZUAXilSp_n9"
      },
      "execution_count": 2,
      "outputs": []
    },
    {
      "cell_type": "code",
      "source": [
        "#creating the file names of the dataset to load it\n",
        "files = []\n",
        "for n in range (1, 33):\n",
        "    s = 's'\n",
        "    if n < 10:\n",
        "        s += '0'\n",
        "    s += str(n)\n",
        "    s+=str(\".dat\")\n",
        "    files.append(s)\n",
        "print(files)"
      ],
      "metadata": {
        "colab": {
          "base_uri": "https://localhost:8080/"
        },
        "id": "wYK5hgFMqFNy",
        "outputId": "063e0725-2774-49b1-d11a-0a06758d153f"
      },
      "execution_count": 3,
      "outputs": [
        {
          "output_type": "stream",
          "name": "stdout",
          "text": [
            "['s01.dat', 's02.dat', 's03.dat', 's04.dat', 's05.dat', 's06.dat', 's07.dat', 's08.dat', 's09.dat', 's10.dat', 's11.dat', 's12.dat', 's13.dat', 's14.dat', 's15.dat', 's16.dat', 's17.dat', 's18.dat', 's19.dat', 's20.dat', 's21.dat', 's22.dat', 's23.dat', 's24.dat', 's25.dat', 's26.dat', 's27.dat', 's28.dat', 's29.dat', 's30.dat', 's31.dat', 's32.dat']\n"
          ]
        }
      ]
    },
    {
      "cell_type": "code",
      "source": [
        "# 32x40 = 1280 trials for 32 participants\n",
        "labels = []\n",
        "data = []\n",
        "drive.mount('/content/drive')\n",
        "for i in files:\n",
        "  filename = \"/content/drive/My Drive/major-project/major-project-dataset/\" + i\n",
        "  trial = read_data(filename)\n",
        "  labels.append(trial['labels'])\n",
        "  data.append(trial['data'])\n"
      ],
      "metadata": {
        "id": "2Ru2cxT3qrtI",
        "colab": {
          "base_uri": "https://localhost:8080/"
        },
        "outputId": "2c7ad3b4-a258-4abf-df05-d159e504d308"
      },
      "execution_count": 4,
      "outputs": [
        {
          "output_type": "stream",
          "name": "stdout",
          "text": [
            "Mounted at /content/drive\n"
          ]
        }
      ]
    },
    {
      "cell_type": "code",
      "source": [
        "# Lets see the shapes of the raw data\n",
        "labels = np.array(labels)\n",
        "data = np.array(data)\n",
        "print(\"Labels: \", labels.shape) # participants x videos x labels\n",
        "print(\"Data: \", data.shape) # participants x videos x channels x data"
      ],
      "metadata": {
        "colab": {
          "base_uri": "https://localhost:8080/"
        },
        "id": "AwIUirXzuY_3",
        "outputId": "6ecd9203-36ff-445f-dcf2-1200023e1b04"
      },
      "execution_count": 5,
      "outputs": [
        {
          "output_type": "stream",
          "name": "stdout",
          "text": [
            "Labels:  (32, 40, 4)\n",
            "Data:  (32, 40, 40, 8064)\n"
          ]
        }
      ]
    },
    {
      "cell_type": "code",
      "source": [
        "# Re-shape arrays into desired shapes\n",
        "labels = labels.flatten()\n",
        "labels = labels.reshape(1280, 4)\n",
        "\n",
        "data = data.flatten()\n",
        "data = data.reshape(1280, 40, 8064)"
      ],
      "metadata": {
        "id": "6JhtYReeudzh"
      },
      "execution_count": 6,
      "outputs": []
    },
    {
      "cell_type": "code",
      "source": [
        "# Double-check the new arrays\n",
        "#Here trial = participants x vidoes = 32 x 40 = 1280\n",
        "\n",
        "print(\"Labels: \", labels.shape) # trial x label\n",
        "print(\"Data: \", data.shape) # trial x channel x data"
      ],
      "metadata": {
        "colab": {
          "base_uri": "https://localhost:8080/"
        },
        "id": "Pw4kk4WasX14",
        "outputId": "7deb0a4b-315f-491a-a359-b1fdcadbc259"
      },
      "execution_count": 7,
      "outputs": [
        {
          "output_type": "stream",
          "name": "stdout",
          "text": [
            "Labels:  (1280, 4)\n",
            "Data:  (1280, 40, 8064)\n"
          ]
        }
      ]
    },
    {
      "cell_type": "code",
      "source": [
        "#creating the dataframes for the labels\n",
        "labelsDf = pd.DataFrame(labels)\n",
        "print(\"printing the labels dataframe\\n\")\n",
        "print(labelsDf)\n",
        "print(\"\\n\\nDescribing the labels dataframe\")\n",
        "labelsDf.describe()"
      ],
      "metadata": {
        "id": "puNQxQcOx0Gq",
        "colab": {
          "base_uri": "https://localhost:8080/",
          "height": 630
        },
        "outputId": "8458bc44-ddbe-49be-f31b-1832ed9b4b34"
      },
      "execution_count": 8,
      "outputs": [
        {
          "output_type": "stream",
          "name": "stdout",
          "text": [
            "printing the labels dataframe\n",
            "\n",
            "         0     1     2     3\n",
            "0     7.71  7.60  6.90  7.83\n",
            "1     8.10  7.31  7.28  8.47\n",
            "2     8.58  7.54  9.00  7.08\n",
            "3     4.94  6.01  6.12  8.06\n",
            "4     6.96  3.92  7.19  6.05\n",
            "...    ...   ...   ...   ...\n",
            "1275  3.91  6.96  5.82  3.12\n",
            "1276  2.81  6.13  6.06  1.04\n",
            "1277  3.05  7.01  5.10  1.10\n",
            "1278  3.99  7.17  4.85  1.00\n",
            "1279  7.15  4.03  9.00  1.88\n",
            "\n",
            "[1280 rows x 4 columns]\n",
            "\n",
            "\n",
            "Describing the labels dataframe\n"
          ]
        },
        {
          "output_type": "execute_result",
          "data": {
            "text/plain": [
              "                 0            1            2            3\n",
              "count  1280.000000  1280.000000  1280.000000  1280.000000\n",
              "mean      5.254313     5.156711     5.382750     5.518133\n",
              "std       2.130816     2.020499     2.096321     2.282780\n",
              "min       1.000000     1.000000     1.000000     1.000000\n",
              "25%       3.867500     3.762500     3.932500     3.960000\n",
              "50%       5.040000     5.230000     5.240000     6.050000\n",
              "75%       7.050000     6.950000     7.040000     7.090000\n",
              "max       9.000000     9.000000     9.000000     9.000000"
            ],
            "text/html": [
              "\n",
              "  <div id=\"df-9414a060-0f4b-4ece-a42e-145a379a8549\" class=\"colab-df-container\">\n",
              "    <div>\n",
              "<style scoped>\n",
              "    .dataframe tbody tr th:only-of-type {\n",
              "        vertical-align: middle;\n",
              "    }\n",
              "\n",
              "    .dataframe tbody tr th {\n",
              "        vertical-align: top;\n",
              "    }\n",
              "\n",
              "    .dataframe thead th {\n",
              "        text-align: right;\n",
              "    }\n",
              "</style>\n",
              "<table border=\"1\" class=\"dataframe\">\n",
              "  <thead>\n",
              "    <tr style=\"text-align: right;\">\n",
              "      <th></th>\n",
              "      <th>0</th>\n",
              "      <th>1</th>\n",
              "      <th>2</th>\n",
              "      <th>3</th>\n",
              "    </tr>\n",
              "  </thead>\n",
              "  <tbody>\n",
              "    <tr>\n",
              "      <th>count</th>\n",
              "      <td>1280.000000</td>\n",
              "      <td>1280.000000</td>\n",
              "      <td>1280.000000</td>\n",
              "      <td>1280.000000</td>\n",
              "    </tr>\n",
              "    <tr>\n",
              "      <th>mean</th>\n",
              "      <td>5.254313</td>\n",
              "      <td>5.156711</td>\n",
              "      <td>5.382750</td>\n",
              "      <td>5.518133</td>\n",
              "    </tr>\n",
              "    <tr>\n",
              "      <th>std</th>\n",
              "      <td>2.130816</td>\n",
              "      <td>2.020499</td>\n",
              "      <td>2.096321</td>\n",
              "      <td>2.282780</td>\n",
              "    </tr>\n",
              "    <tr>\n",
              "      <th>min</th>\n",
              "      <td>1.000000</td>\n",
              "      <td>1.000000</td>\n",
              "      <td>1.000000</td>\n",
              "      <td>1.000000</td>\n",
              "    </tr>\n",
              "    <tr>\n",
              "      <th>25%</th>\n",
              "      <td>3.867500</td>\n",
              "      <td>3.762500</td>\n",
              "      <td>3.932500</td>\n",
              "      <td>3.960000</td>\n",
              "    </tr>\n",
              "    <tr>\n",
              "      <th>50%</th>\n",
              "      <td>5.040000</td>\n",
              "      <td>5.230000</td>\n",
              "      <td>5.240000</td>\n",
              "      <td>6.050000</td>\n",
              "    </tr>\n",
              "    <tr>\n",
              "      <th>75%</th>\n",
              "      <td>7.050000</td>\n",
              "      <td>6.950000</td>\n",
              "      <td>7.040000</td>\n",
              "      <td>7.090000</td>\n",
              "    </tr>\n",
              "    <tr>\n",
              "      <th>max</th>\n",
              "      <td>9.000000</td>\n",
              "      <td>9.000000</td>\n",
              "      <td>9.000000</td>\n",
              "      <td>9.000000</td>\n",
              "    </tr>\n",
              "  </tbody>\n",
              "</table>\n",
              "</div>\n",
              "    <div class=\"colab-df-buttons\">\n",
              "\n",
              "  <div class=\"colab-df-container\">\n",
              "    <button class=\"colab-df-convert\" onclick=\"convertToInteractive('df-9414a060-0f4b-4ece-a42e-145a379a8549')\"\n",
              "            title=\"Convert this dataframe to an interactive table.\"\n",
              "            style=\"display:none;\">\n",
              "\n",
              "  <svg xmlns=\"http://www.w3.org/2000/svg\" height=\"24px\" viewBox=\"0 -960 960 960\">\n",
              "    <path d=\"M120-120v-720h720v720H120Zm60-500h600v-160H180v160Zm220 220h160v-160H400v160Zm0 220h160v-160H400v160ZM180-400h160v-160H180v160Zm440 0h160v-160H620v160ZM180-180h160v-160H180v160Zm440 0h160v-160H620v160Z\"/>\n",
              "  </svg>\n",
              "    </button>\n",
              "\n",
              "  <style>\n",
              "    .colab-df-container {\n",
              "      display:flex;\n",
              "      gap: 12px;\n",
              "    }\n",
              "\n",
              "    .colab-df-convert {\n",
              "      background-color: #E8F0FE;\n",
              "      border: none;\n",
              "      border-radius: 50%;\n",
              "      cursor: pointer;\n",
              "      display: none;\n",
              "      fill: #1967D2;\n",
              "      height: 32px;\n",
              "      padding: 0 0 0 0;\n",
              "      width: 32px;\n",
              "    }\n",
              "\n",
              "    .colab-df-convert:hover {\n",
              "      background-color: #E2EBFA;\n",
              "      box-shadow: 0px 1px 2px rgba(60, 64, 67, 0.3), 0px 1px 3px 1px rgba(60, 64, 67, 0.15);\n",
              "      fill: #174EA6;\n",
              "    }\n",
              "\n",
              "    .colab-df-buttons div {\n",
              "      margin-bottom: 4px;\n",
              "    }\n",
              "\n",
              "    [theme=dark] .colab-df-convert {\n",
              "      background-color: #3B4455;\n",
              "      fill: #D2E3FC;\n",
              "    }\n",
              "\n",
              "    [theme=dark] .colab-df-convert:hover {\n",
              "      background-color: #434B5C;\n",
              "      box-shadow: 0px 1px 3px 1px rgba(0, 0, 0, 0.15);\n",
              "      filter: drop-shadow(0px 1px 2px rgba(0, 0, 0, 0.3));\n",
              "      fill: #FFFFFF;\n",
              "    }\n",
              "  </style>\n",
              "\n",
              "    <script>\n",
              "      const buttonEl =\n",
              "        document.querySelector('#df-9414a060-0f4b-4ece-a42e-145a379a8549 button.colab-df-convert');\n",
              "      buttonEl.style.display =\n",
              "        google.colab.kernel.accessAllowed ? 'block' : 'none';\n",
              "\n",
              "      async function convertToInteractive(key) {\n",
              "        const element = document.querySelector('#df-9414a060-0f4b-4ece-a42e-145a379a8549');\n",
              "        const dataTable =\n",
              "          await google.colab.kernel.invokeFunction('convertToInteractive',\n",
              "                                                    [key], {});\n",
              "        if (!dataTable) return;\n",
              "\n",
              "        const docLinkHtml = 'Like what you see? Visit the ' +\n",
              "          '<a target=\"_blank\" href=https://colab.research.google.com/notebooks/data_table.ipynb>data table notebook</a>'\n",
              "          + ' to learn more about interactive tables.';\n",
              "        element.innerHTML = '';\n",
              "        dataTable['output_type'] = 'display_data';\n",
              "        await google.colab.output.renderOutput(dataTable, element);\n",
              "        const docLink = document.createElement('div');\n",
              "        docLink.innerHTML = docLinkHtml;\n",
              "        element.appendChild(docLink);\n",
              "      }\n",
              "    </script>\n",
              "  </div>\n",
              "\n",
              "\n",
              "<div id=\"df-cd1e2a53-0705-41a4-92c1-3956fc375e63\">\n",
              "  <button class=\"colab-df-quickchart\" onclick=\"quickchart('df-cd1e2a53-0705-41a4-92c1-3956fc375e63')\"\n",
              "            title=\"Suggest charts\"\n",
              "            style=\"display:none;\">\n",
              "\n",
              "<svg xmlns=\"http://www.w3.org/2000/svg\" height=\"24px\"viewBox=\"0 0 24 24\"\n",
              "     width=\"24px\">\n",
              "    <g>\n",
              "        <path d=\"M19 3H5c-1.1 0-2 .9-2 2v14c0 1.1.9 2 2 2h14c1.1 0 2-.9 2-2V5c0-1.1-.9-2-2-2zM9 17H7v-7h2v7zm4 0h-2V7h2v10zm4 0h-2v-4h2v4z\"/>\n",
              "    </g>\n",
              "</svg>\n",
              "  </button>\n",
              "\n",
              "<style>\n",
              "  .colab-df-quickchart {\n",
              "      --bg-color: #E8F0FE;\n",
              "      --fill-color: #1967D2;\n",
              "      --hover-bg-color: #E2EBFA;\n",
              "      --hover-fill-color: #174EA6;\n",
              "      --disabled-fill-color: #AAA;\n",
              "      --disabled-bg-color: #DDD;\n",
              "  }\n",
              "\n",
              "  [theme=dark] .colab-df-quickchart {\n",
              "      --bg-color: #3B4455;\n",
              "      --fill-color: #D2E3FC;\n",
              "      --hover-bg-color: #434B5C;\n",
              "      --hover-fill-color: #FFFFFF;\n",
              "      --disabled-bg-color: #3B4455;\n",
              "      --disabled-fill-color: #666;\n",
              "  }\n",
              "\n",
              "  .colab-df-quickchart {\n",
              "    background-color: var(--bg-color);\n",
              "    border: none;\n",
              "    border-radius: 50%;\n",
              "    cursor: pointer;\n",
              "    display: none;\n",
              "    fill: var(--fill-color);\n",
              "    height: 32px;\n",
              "    padding: 0;\n",
              "    width: 32px;\n",
              "  }\n",
              "\n",
              "  .colab-df-quickchart:hover {\n",
              "    background-color: var(--hover-bg-color);\n",
              "    box-shadow: 0 1px 2px rgba(60, 64, 67, 0.3), 0 1px 3px 1px rgba(60, 64, 67, 0.15);\n",
              "    fill: var(--button-hover-fill-color);\n",
              "  }\n",
              "\n",
              "  .colab-df-quickchart-complete:disabled,\n",
              "  .colab-df-quickchart-complete:disabled:hover {\n",
              "    background-color: var(--disabled-bg-color);\n",
              "    fill: var(--disabled-fill-color);\n",
              "    box-shadow: none;\n",
              "  }\n",
              "\n",
              "  .colab-df-spinner {\n",
              "    border: 2px solid var(--fill-color);\n",
              "    border-color: transparent;\n",
              "    border-bottom-color: var(--fill-color);\n",
              "    animation:\n",
              "      spin 1s steps(1) infinite;\n",
              "  }\n",
              "\n",
              "  @keyframes spin {\n",
              "    0% {\n",
              "      border-color: transparent;\n",
              "      border-bottom-color: var(--fill-color);\n",
              "      border-left-color: var(--fill-color);\n",
              "    }\n",
              "    20% {\n",
              "      border-color: transparent;\n",
              "      border-left-color: var(--fill-color);\n",
              "      border-top-color: var(--fill-color);\n",
              "    }\n",
              "    30% {\n",
              "      border-color: transparent;\n",
              "      border-left-color: var(--fill-color);\n",
              "      border-top-color: var(--fill-color);\n",
              "      border-right-color: var(--fill-color);\n",
              "    }\n",
              "    40% {\n",
              "      border-color: transparent;\n",
              "      border-right-color: var(--fill-color);\n",
              "      border-top-color: var(--fill-color);\n",
              "    }\n",
              "    60% {\n",
              "      border-color: transparent;\n",
              "      border-right-color: var(--fill-color);\n",
              "    }\n",
              "    80% {\n",
              "      border-color: transparent;\n",
              "      border-right-color: var(--fill-color);\n",
              "      border-bottom-color: var(--fill-color);\n",
              "    }\n",
              "    90% {\n",
              "      border-color: transparent;\n",
              "      border-bottom-color: var(--fill-color);\n",
              "    }\n",
              "  }\n",
              "</style>\n",
              "\n",
              "  <script>\n",
              "    async function quickchart(key) {\n",
              "      const quickchartButtonEl =\n",
              "        document.querySelector('#' + key + ' button');\n",
              "      quickchartButtonEl.disabled = true;  // To prevent multiple clicks.\n",
              "      quickchartButtonEl.classList.add('colab-df-spinner');\n",
              "      try {\n",
              "        const charts = await google.colab.kernel.invokeFunction(\n",
              "            'suggestCharts', [key], {});\n",
              "      } catch (error) {\n",
              "        console.error('Error during call to suggestCharts:', error);\n",
              "      }\n",
              "      quickchartButtonEl.classList.remove('colab-df-spinner');\n",
              "      quickchartButtonEl.classList.add('colab-df-quickchart-complete');\n",
              "    }\n",
              "    (() => {\n",
              "      let quickchartButtonEl =\n",
              "        document.querySelector('#df-cd1e2a53-0705-41a4-92c1-3956fc375e63 button');\n",
              "      quickchartButtonEl.style.display =\n",
              "        google.colab.kernel.accessAllowed ? 'block' : 'none';\n",
              "    })();\n",
              "  </script>\n",
              "</div>\n",
              "\n",
              "    </div>\n",
              "  </div>\n"
            ],
            "application/vnd.google.colaboratory.intrinsic+json": {
              "type": "dataframe",
              "summary": "{\n  \"name\": \"labelsDf\",\n  \"rows\": 8,\n  \"fields\": [\n    {\n      \"column\": 0,\n      \"properties\": {\n        \"dtype\": \"number\",\n        \"std\": 450.87147400594165,\n        \"min\": 1.0,\n        \"max\": 1280.0,\n        \"num_unique_values\": 8,\n        \"samples\": [\n          5.2543125,\n          5.04,\n          1280.0\n        ],\n        \"semantic_type\": \"\",\n        \"description\": \"\"\n      }\n    },\n    {\n      \"column\": 1,\n      \"properties\": {\n        \"dtype\": \"number\",\n        \"std\": 450.88279505775586,\n        \"min\": 1.0,\n        \"max\": 1280.0,\n        \"num_unique_values\": 8,\n        \"samples\": [\n          5.1567109375,\n          5.23,\n          1280.0\n        ],\n        \"semantic_type\": \"\",\n        \"description\": \"\"\n      }\n    },\n    {\n      \"column\": 2,\n      \"properties\": {\n        \"dtype\": \"number\",\n        \"std\": 450.85389766830843,\n        \"min\": 1.0,\n        \"max\": 1280.0,\n        \"num_unique_values\": 8,\n        \"samples\": [\n          5.38275,\n          5.24,\n          1280.0\n        ],\n        \"semantic_type\": \"\",\n        \"description\": \"\"\n      }\n    },\n    {\n      \"column\": 3,\n      \"properties\": {\n        \"dtype\": \"number\",\n        \"std\": 450.79289858765816,\n        \"min\": 1.0,\n        \"max\": 1280.0,\n        \"num_unique_values\": 8,\n        \"samples\": [\n          5.5181328125,\n          6.05,\n          1280.0\n        ],\n        \"semantic_type\": \"\",\n        \"description\": \"\"\n      }\n    }\n  ]\n}"
            }
          },
          "metadata": {},
          "execution_count": 8
        }
      ]
    },
    {
      "cell_type": "code",
      "source": [
        "#giving names to the label columns\n",
        "labelsDf= pd.DataFrame({'Valence': labels[:,0], 'Arousal': labels[:,1], 'Dominance': labels[:,2], 'Liking': labels[:,3]})\n",
        "print(labelsDf.describe())\n"
      ],
      "metadata": {
        "colab": {
          "base_uri": "https://localhost:8080/"
        },
        "id": "0SGS2ghM3uYC",
        "outputId": "3aeac8cc-1ede-49d0-f779-15bbcadcb52c"
      },
      "execution_count": 9,
      "outputs": [
        {
          "output_type": "stream",
          "name": "stdout",
          "text": [
            "           Valence      Arousal    Dominance       Liking\n",
            "count  1280.000000  1280.000000  1280.000000  1280.000000\n",
            "mean      5.254313     5.156711     5.382750     5.518133\n",
            "std       2.130816     2.020499     2.096321     2.282780\n",
            "min       1.000000     1.000000     1.000000     1.000000\n",
            "25%       3.867500     3.762500     3.932500     3.960000\n",
            "50%       5.040000     5.230000     5.240000     6.050000\n",
            "75%       7.050000     6.950000     7.040000     7.090000\n",
            "max       9.000000     9.000000     9.000000     9.000000\n"
          ]
        }
      ]
    },
    {
      "cell_type": "code",
      "source": [
        "#Dropping the Dominance and Liking columns\n",
        "labelsDf=labelsDf.drop('Dominance',axis=1)\n",
        "labelsDf=labelsDf.drop('Liking',axis=1)\n",
        "print(labelsDf.describe())\n",
        "# df = df.drop('B', axis=1)"
      ],
      "metadata": {
        "colab": {
          "base_uri": "https://localhost:8080/"
        },
        "id": "3boVQ1FE4var",
        "outputId": "e6a19467-0474-4877-b4f1-7b8315a4f397"
      },
      "execution_count": 10,
      "outputs": [
        {
          "output_type": "stream",
          "name": "stdout",
          "text": [
            "           Valence      Arousal\n",
            "count  1280.000000  1280.000000\n",
            "mean      5.254313     5.156711\n",
            "std       2.130816     2.020499\n",
            "min       1.000000     1.000000\n",
            "25%       3.867500     3.762500\n",
            "50%       5.040000     5.230000\n",
            "75%       7.050000     6.950000\n",
            "max       9.000000     9.000000\n"
          ]
        }
      ]
    },
    {
      "cell_type": "code",
      "source": [
        "# Dataset with only Valence column\n",
        "df_val = labelsDf['Valence']\n",
        "# Dataset with only Arousal column\n",
        "df_aro = labelsDf['Arousal']"
      ],
      "metadata": {
        "id": "Pjhzu_pQlWDv"
      },
      "execution_count": 11,
      "outputs": []
    },
    {
      "cell_type": "code",
      "source": [
        "# Function to check if each trial has positive or negative valence\n",
        "def positive_valence(trial):\n",
        "    return 1 if labels[trial,0] >= np.median(labels[:,0]) else 0\n",
        "# Function to check if each trial has high or low arousal\n",
        "def high_arousal(trial):\n",
        "    return 1 if labels[trial,1] >= np.median(labels[:,1]) else 0"
      ],
      "metadata": {
        "id": "u8H4KOWLll-C"
      },
      "execution_count": 12,
      "outputs": []
    },
    {
      "cell_type": "code",
      "source": [
        "# Convert all ratings to boolean values\n",
        "labels_encoded = []\n",
        "for i in range (len(labels)):\n",
        "    labels_encoded.append([positive_valence(i), high_arousal(i)])\n",
        "labels_encoded = np.reshape(labels_encoded, (1280, 2))\n",
        "df_labels = pd.DataFrame(data=labels_encoded, columns=[\"High Valence\", \"High Arousal\"])\n",
        "print(df_labels.describe())"
      ],
      "metadata": {
        "colab": {
          "base_uri": "https://localhost:8080/"
        },
        "id": "37Gsz-Z_lp_2",
        "outputId": "14445673-4ee8-4c86-a79f-87139f3319e3"
      },
      "execution_count": 13,
      "outputs": [
        {
          "output_type": "stream",
          "name": "stdout",
          "text": [
            "       High Valence  High Arousal\n",
            "count   1280.000000   1280.000000\n",
            "mean       0.531250      0.500000\n",
            "std        0.499218      0.500195\n",
            "min        0.000000      0.000000\n",
            "25%        0.000000      0.000000\n",
            "50%        1.000000      0.500000\n",
            "75%        1.000000      1.000000\n",
            "max        1.000000      1.000000\n"
          ]
        }
      ]
    },
    {
      "cell_type": "code",
      "source": [
        "# Dataset with only Valence column\n",
        "df_valence = df_labels['High Valence']\n",
        "# Dataset with only Arousal column\n",
        "df_arousal = df_labels['High Arousal']"
      ],
      "metadata": {
        "id": "4BrMAjqult5R"
      },
      "execution_count": 14,
      "outputs": []
    },
    {
      "cell_type": "markdown",
      "source": [
        "# FEATURE EXTRACTION USING WELCH'S METHOD"
      ],
      "metadata": {
        "id": "Gh0IevZcnKtX"
      }
    },
    {
      "cell_type": "code",
      "source": [
        "eeg_channels = np.array([\"Fp1\", \"AF3\", \"F3\", \"F7\", \"FC5\", \"FC1\", \"C3\", \"T7\", \"CP5\", \"CP1\", \"P3\", \"P7\", \"PO3\", \"O1\", \"Oz\", \"Pz\", \"Fp2\", \"AF4\", \"Fz\", \"F4\", \"F8\", \"FC6\", \"FC2\", \"Cz\", \"C4\", \"T8\", \"CP6\", \"CP2\", \"P4\", \"P8\", \"PO4\", \"O2\"])\n",
        "peripheral_channels = np.array([\"hEOG\", \"vEOG\", \"zEMG\", \"tEMG\", \"GSR\", \"Respiration belt\", \"Plethysmograph\", \"Temperature\"])"
      ],
      "metadata": {
        "id": "QGtC7nRipvA8"
      },
      "execution_count": 15,
      "outputs": []
    },
    {
      "cell_type": "code",
      "source": [
        "eeg_data = []\n",
        "for i in range (len(data)):\n",
        "  for j in range (len(eeg_channels)):\n",
        "    eeg_data.append(data[i,j])\n",
        "eeg_data = np.reshape(eeg_data, (len(data), len(eeg_channels), len(data[0,0])))\n",
        "print(eeg_data.shape)"
      ],
      "metadata": {
        "colab": {
          "base_uri": "https://localhost:8080/"
        },
        "id": "cyC_7IWLp93t",
        "outputId": "3e59f4c1-0fee-419a-8d5c-bbd6d3d889ee"
      },
      "execution_count": 16,
      "outputs": [
        {
          "output_type": "stream",
          "name": "stdout",
          "text": [
            "(1280, 32, 8064)\n"
          ]
        }
      ]
    },
    {
      "cell_type": "code",
      "source": [
        "peripheral_data = []\n",
        "for i in range (len(data)):\n",
        "  for j in range (32,len(data[0])):\n",
        "    peripheral_data.append(data[i,j])\n",
        "peripheral_data = np.reshape(peripheral_data, (len(data), len(peripheral_channels), len(data[0,0])))\n",
        "print(peripheral_data.shape)"
      ],
      "metadata": {
        "colab": {
          "base_uri": "https://localhost:8080/"
        },
        "id": "u5P3G0PWqEsM",
        "outputId": "1daac2a2-d78f-4641-fce3-382ac979682b"
      },
      "execution_count": 17,
      "outputs": [
        {
          "output_type": "stream",
          "name": "stdout",
          "text": [
            "(1280, 8, 8064)\n"
          ]
        }
      ]
    },
    {
      "cell_type": "code",
      "source": [
        "def bandpower(data, sf, band, window_sec=None, relative=False):\n",
        "    band = np.asarray(band)\n",
        "    low, high = band\n",
        "\n",
        "    # Define window length\n",
        "    if window_sec is not None:\n",
        "        nperseg = window_sec * sf\n",
        "    else:\n",
        "        nperseg = (2 / low) * sf\n",
        "\n",
        "    # Compute the modified periodogram (Welch)\n",
        "    freqs, psd = welch(data, sf, nperseg=nperseg)\n",
        "\n",
        "    # Frequency resolution\n",
        "    freq_res = freqs[1] - freqs[0]\n",
        "\n",
        "    # Find closest indices of band in frequency vector\n",
        "    idx_band = np.logical_and(freqs >= low, freqs <= high)\n",
        "\n",
        "    # Integral approximation of the spectrum using Simpson's rule.\n",
        "    bp = simps(psd[idx_band], dx=freq_res)\n",
        "\n",
        "    if relative:\n",
        "        bp /= simps(psd, dx=freq_res)\n",
        "    return bp"
      ],
      "metadata": {
        "id": "Xc9rTRGHnYKt"
      },
      "execution_count": 18,
      "outputs": []
    },
    {
      "cell_type": "code",
      "source": [
        "def get_band_power(trial, channel, band):\n",
        "  bd = (0,0)\n",
        "\n",
        "  if (band == \"theta\"): # drownsiness, emotional connection, intuition, creativity\n",
        "    bd = (4,8)\n",
        "  elif (band == \"alpha\"): # reflection, relaxation\n",
        "    bd = (8,12)\n",
        "  elif (band == \"beta\"): # concentration, problem solving, memory\n",
        "    bd = (12,30)\n",
        "  elif (band == \"gamma\"): # cognition, perception, learning, multi-tasking\n",
        "    bd = (30,64)\n",
        "\n",
        "  return bandpower(eeg_data[trial,channel], 128, bd)\n"
      ],
      "metadata": {
        "id": "mIxttAuQnrel"
      },
      "execution_count": 19,
      "outputs": []
    },
    {
      "cell_type": "code",
      "source": [
        "print(get_band_power(0,31,\"theta\"))\n",
        "print(get_band_power(0,31,\"alpha\"))\n",
        "print(get_band_power(0,31,\"beta\"))\n",
        "print(get_band_power(0,31,\"gamma\"))"
      ],
      "metadata": {
        "colab": {
          "base_uri": "https://localhost:8080/"
        },
        "id": "UpNyS4s8n9Q3",
        "outputId": "b904bafd-6ce7-46ec-baa8-4fb62be7515e"
      },
      "execution_count": 20,
      "outputs": [
        {
          "output_type": "stream",
          "name": "stdout",
          "text": [
            "5.434119660168186\n",
            "5.369595513295193\n",
            "6.286556266834863\n",
            "0.9879159580139809\n"
          ]
        }
      ]
    },
    {
      "cell_type": "markdown",
      "source": [
        "# Process new datasets with 6 EEG regions and 4 band power values"
      ],
      "metadata": {
        "id": "8psQHMB9xqpj"
      }
    },
    {
      "cell_type": "code",
      "source": [
        "# Transform 1280x 32 x 8064 => 1280 x 128\n",
        "eeg_band_arr = []\n",
        "for i in range (len(eeg_data)):\n",
        "  for j in range (len(eeg_data[0])):\n",
        "    eeg_band_arr.append(get_band_power(i,j,\"theta\"))\n",
        "    eeg_band_arr.append(get_band_power(i,j,\"alpha\"))\n",
        "    eeg_band_arr.append(get_band_power(i,j,\"beta\"))\n",
        "    eeg_band_arr.append(get_band_power(i,j,\"gamma\"))\n",
        "eeg_band_arr = np.reshape(eeg_band_arr, (1280, 128))"
      ],
      "metadata": {
        "id": "r0y_hNHIxoxi"
      },
      "execution_count": 21,
      "outputs": []
    },
    {
      "cell_type": "code",
      "source": [
        "frontal = np.array([\"F3\", \"FC1\", \"Fz\", \"F4\", \"FC2\"])\n",
        "parietal = np.array([\"P3\", \"P7\", \"Pz\", \"P4\", \"P8\"])\n",
        "occipital = np.array([\"O1\", \"Oz\", \"O2\", \"PO3\", \"PO4\"])\n",
        "central = np.array([\"CP5\", \"CP1\", \"Cz\", \"C4\", \"C3\", \"CP6\", \"CP2\"])"
      ],
      "metadata": {
        "id": "HVksA4V2ypUD"
      },
      "execution_count": 22,
      "outputs": []
    },
    {
      "cell_type": "code",
      "source": [
        "eeg_theta = []\n",
        "for i in range (len(eeg_data)):\n",
        "  for j in range (len(eeg_data[0])):\n",
        "    eeg_theta.append(get_band_power(i,j,\"theta\"))\n",
        "eeg_theta = np.reshape(eeg_theta, (1280, 32))\n",
        "\n",
        "df_theta = pd.DataFrame(data = eeg_theta, columns=eeg_channels)\n",
        "print(df_theta.describe())"
      ],
      "metadata": {
        "colab": {
          "base_uri": "https://localhost:8080/"
        },
        "id": "4YQbtKTRzmdG",
        "outputId": "c9f72e34-b62e-4025-9c3e-c9b1f7550645"
      },
      "execution_count": 23,
      "outputs": [
        {
          "output_type": "stream",
          "name": "stdout",
          "text": [
            "                Fp1           AF3            F3            F7           FC5  \\\n",
            "count   1280.000000   1280.000000   1280.000000   1280.000000   1280.000000   \n",
            "mean     517.431002    974.493856    795.093910   1515.004071    746.435950   \n",
            "std     1165.295163   3147.555132   3020.711666   4990.544508   2188.101734   \n",
            "min        2.698928      1.995398      1.820656      3.283107      1.311200   \n",
            "25%       23.306027     17.117475     18.392335     30.827191     14.023436   \n",
            "50%       65.468048     82.102529     60.241953     91.266539     48.704968   \n",
            "75%      331.636624    304.949248    175.394835    248.308696    218.358248   \n",
            "max    15524.135098  38122.870846  39431.320394  49272.793208  20182.668545   \n",
            "\n",
            "               FC1            C3           T7           CP5          CP1  ...  \\\n",
            "count  1280.000000   1280.000000  1280.000000   1280.000000  1280.000000  ...   \n",
            "mean    345.936665    486.095113   354.004358    664.656754   276.667812  ...   \n",
            "std     717.328768   1497.636647   641.432373   2146.857585   498.823733  ...   \n",
            "min       2.025214      1.200156     3.418167      1.857737     1.340340  ...   \n",
            "25%      17.383454     18.273844    43.838157     19.178089    28.281757  ...   \n",
            "50%      55.561232     46.451432   128.629588     61.998792    60.330974  ...   \n",
            "75%     281.828747    234.342275   348.249862    312.653366   237.040645  ...   \n",
            "max    8542.244175  26021.167025  7023.985761  23255.512271  5972.589469  ...   \n",
            "\n",
            "                FC2            Cz            C4            T8           CP6  \\\n",
            "count   1280.000000   1280.000000   1280.000000   1280.000000   1280.000000   \n",
            "mean     669.953166    518.975872    471.905917    763.990397    544.785103   \n",
            "std     1714.340609   1407.210210   1896.584105   2236.655420   1563.878765   \n",
            "min        2.809501      1.637028      1.713283      2.133474      1.496299   \n",
            "25%       14.927239     23.440039      9.724978     25.143155     18.202863   \n",
            "50%       66.078472     67.044674     24.318235     90.110040     77.517763   \n",
            "75%      214.293557    305.766182    109.715681    386.232875    297.742897   \n",
            "max    18617.218099  16408.471958  24826.365142  28038.714329  19908.437378   \n",
            "\n",
            "               CP2            P4           P8           PO4            O2  \n",
            "count  1280.000000   1280.000000  1280.000000   1280.000000   1280.000000  \n",
            "mean    303.158814    527.491149   222.759444    780.700914    327.242856  \n",
            "std     650.093432   1429.084909   451.119818   1802.083002   1080.707954  \n",
            "min       1.439077      1.791296     1.641482      1.995230      3.681268  \n",
            "25%      26.754006     18.110041    18.064264     23.491991     19.333926  \n",
            "50%      88.083088     62.269206    90.914662     69.772647     49.630345  \n",
            "75%     257.959593    246.195582   225.463786    495.202699    113.117403  \n",
            "max    7210.746793  17568.065100  5487.311705  17167.017710  12314.030522  \n",
            "\n",
            "[8 rows x 32 columns]\n"
          ]
        }
      ]
    },
    {
      "cell_type": "code",
      "source": [
        "# Transform 880 x 32 x 8064 => 880 x 32\n",
        "eeg_alpha = []\n",
        "for i in range (len(eeg_data)):\n",
        "  for j in range (len(eeg_data[0])):\n",
        "    eeg_alpha.append(get_band_power(i,j,\"alpha\"))\n",
        "eeg_alpha = np.reshape(eeg_alpha, (1280, 32))\n",
        "\n",
        "df_alpha = pd.DataFrame(data = eeg_alpha, columns=eeg_channels)\n",
        "print(df_alpha.describe())"
      ],
      "metadata": {
        "colab": {
          "base_uri": "https://localhost:8080/"
        },
        "id": "Q1uT6ZlnzqL-",
        "outputId": "7910c210-3bec-4953-c262-de7646d292f5"
      },
      "execution_count": 24,
      "outputs": [
        {
          "output_type": "stream",
          "name": "stdout",
          "text": [
            "               Fp1           AF3            F3            F7          FC5  \\\n",
            "count  1280.000000   1280.000000   1280.000000   1280.000000  1280.000000   \n",
            "mean    173.544174    333.184883    285.545436    573.725974   249.793720   \n",
            "std     378.371554   1058.758333   1036.330438   1943.692827   702.436934   \n",
            "min       2.770151      1.793012      1.724442      2.793554     0.975527   \n",
            "25%      14.082681     10.737435     10.012318     15.888935    10.074042   \n",
            "50%      33.713172     34.992442     30.026795     38.178299    20.079100   \n",
            "75%     125.508396    114.334883     73.488279     93.987498    74.040939   \n",
            "max    5627.906982  12380.702125  12764.724842  20843.070851  6575.781434   \n",
            "\n",
            "               FC1           C3           T7          CP5          CP1  ...  \\\n",
            "count  1280.000000  1280.000000  1280.000000  1280.000000  1280.000000  ...   \n",
            "mean    138.011594   170.423962   124.101183   232.750895    97.610644  ...   \n",
            "std     275.218934   497.507620   200.171342   735.717912   166.430024  ...   \n",
            "min       1.682977     1.963403     2.545447     2.251935     1.682386  ...   \n",
            "25%       9.228670    10.197058    21.452775    11.461012    13.367379  ...   \n",
            "50%      24.929907    22.318468    51.473641    25.364340    26.229818  ...   \n",
            "75%     117.988147    83.518174   129.890552   110.822931    91.941255  ...   \n",
            "max    3030.077791  9215.549575  2142.437275  7894.273428  2148.109415  ...   \n",
            "\n",
            "               FC2           Cz            C4           T8          CP6  \\\n",
            "count  1280.000000  1280.000000   1280.000000  1280.000000  1280.000000   \n",
            "mean    228.331178   199.941306    193.380344   276.638039   213.620700   \n",
            "std     569.202821   578.947819    812.031964   782.782127   661.135030   \n",
            "min       2.390011     1.315395      1.227024     1.636114     2.181082   \n",
            "25%       8.715210    12.127290      6.665166    15.980086    11.300805   \n",
            "50%      26.880000    29.827367     14.169702    34.252038    31.722499   \n",
            "75%      95.964685   102.480314     40.800135   142.704220   106.673844   \n",
            "max    6038.451512  6881.486185  10501.570698  9022.269308  8394.200372   \n",
            "\n",
            "               CP2           P4           P8          PO4           O2  \n",
            "count  1280.000000  1280.000000  1280.000000  1280.000000  1280.000000  \n",
            "mean    112.138023   181.507936    89.003586   269.572920   126.053116  \n",
            "std     236.260122   482.163785   186.841170   597.330120   400.465505  \n",
            "min       1.520363     2.158950     1.212432     2.002769     3.617116  \n",
            "25%      15.797490    11.564300    10.971965    13.489443    10.548845  \n",
            "50%      37.807211    28.494994    38.758864    29.247807    23.906708  \n",
            "75%      86.070815    92.261617    88.107272   162.117585    45.294454  \n",
            "max    2368.537880  5666.733316  2323.499853  5542.263376  3966.714864  \n",
            "\n",
            "[8 rows x 32 columns]\n"
          ]
        }
      ]
    },
    {
      "cell_type": "code",
      "source": [
        "# Transform 880 x 32 x 8064 => 880 x 32\n",
        "eeg_beta = []\n",
        "for i in range (len(eeg_data)):\n",
        "  for j in range (len(eeg_data[0])):\n",
        "    eeg_beta.append(get_band_power(i,j,\"beta\"))\n",
        "eeg_beta = np.reshape(eeg_beta, (1280, 32))\n",
        "\n",
        "df_beta = pd.DataFrame(data = eeg_beta, columns=eeg_channels)\n",
        "print(df_beta.describe())"
      ],
      "metadata": {
        "colab": {
          "base_uri": "https://localhost:8080/"
        },
        "id": "mUNGxdRLzvAW",
        "outputId": "ca9c835a-0919-45a9-8ad4-d86d17c28459"
      },
      "execution_count": 25,
      "outputs": [
        {
          "output_type": "stream",
          "name": "stdout",
          "text": [
            "               Fp1          AF3           F3            F7          FC5  \\\n",
            "count  1280.000000  1280.000000  1280.000000   1280.000000  1280.000000   \n",
            "mean     92.200266   200.684361   193.372441    341.951096   140.642394   \n",
            "std     176.162562   668.027842   668.771074   1274.679748   386.740178   \n",
            "min       4.486703     2.650970     2.784376      3.363422     2.788531   \n",
            "25%      17.999409    13.190613    10.170223     17.951892    11.341571   \n",
            "50%      34.413828    29.155242    28.120517     33.617573    22.402198   \n",
            "75%      80.774739   107.619088    59.807546     62.087123    53.162211   \n",
            "max    3528.485435  5784.160193  5841.475721  14848.700463  3094.687504   \n",
            "\n",
            "               FC1           C3           T7          CP5          CP1  ...  \\\n",
            "count  1280.000000  1280.000000  1280.000000  1280.000000  1280.000000  ...   \n",
            "mean     99.397187    96.901859    77.540922   137.387625    55.047411  ...   \n",
            "std     197.556641   247.621839    90.107877   409.366974    85.846400  ...   \n",
            "min       3.145262     2.991550     2.477519     2.886994     2.237445  ...   \n",
            "25%       8.919796     9.331138    23.668656    11.097811     9.370318  ...   \n",
            "50%      17.625226    19.698019    44.350493    22.622621    18.748879  ...   \n",
            "75%      79.066898    46.494215    93.087474    58.273844    51.308093  ...   \n",
            "max    1702.542675  5187.441594   634.645675  4094.116788  1238.024108  ...   \n",
            "\n",
            "               FC2           Cz           C4           T8          CP6  \\\n",
            "count  1280.000000  1280.000000  1280.000000  1280.000000  1280.000000   \n",
            "mean    130.756212   131.961699   136.536661   178.534190   144.021213   \n",
            "std     338.843374   409.481195   603.902680   506.405387   484.806320   \n",
            "min       3.037555     1.816169     2.079646     2.429178     2.524762   \n",
            "25%       9.115906    10.803851     7.350435    17.466794    11.400277   \n",
            "50%      17.479204    25.300435    12.926731    30.157902    23.679679   \n",
            "75%      75.259937    54.745901    25.609433    93.320360    64.338413   \n",
            "max    2786.622358  4842.537927  7489.480637  4064.418656  5955.637009   \n",
            "\n",
            "               CP2           P4           P8          PO4           O2  \n",
            "count  1280.000000  1280.000000  1280.000000  1280.000000  1280.000000  \n",
            "mean     74.751315   103.971557    62.850280   148.868580    90.837375  \n",
            "std     165.803855   288.941591   134.177873   329.650542   275.150372  \n",
            "min       2.272088     2.914214     3.059450     2.461123     5.084168  \n",
            "25%      13.014515    11.560334    12.312069    13.732279    11.291516  \n",
            "50%      24.705624    20.439224    27.763129    23.940855    19.688820  \n",
            "75%      53.062550    67.593128    64.187473    99.947093    36.076683  \n",
            "max    1265.234960  2533.794744  1653.743590  2516.334382  2454.759737  \n",
            "\n",
            "[8 rows x 32 columns]\n"
          ]
        }
      ]
    },
    {
      "cell_type": "code",
      "source": [
        "# Transform 880 x 32 x 8064 => 880 x 32\n",
        "eeg_gamma = []\n",
        "for i in range (len(eeg_data)):\n",
        "  for j in range (len(eeg_data[0])):\n",
        "    eeg_gamma.append(get_band_power(i,j,\"gamma\"))\n",
        "eeg_gamma = np.reshape(eeg_gamma, (1280, 32))\n",
        "\n",
        "df_gamma = pd.DataFrame(data = eeg_gamma, columns=eeg_channels)\n",
        "print(df_gamma.describe())"
      ],
      "metadata": {
        "colab": {
          "base_uri": "https://localhost:8080/"
        },
        "id": "DJP58i-60AEV",
        "outputId": "c4f7c8ce-fc8e-4743-b7e3-3d5b99cf15fc"
      },
      "execution_count": 26,
      "outputs": [
        {
          "output_type": "stream",
          "name": "stdout",
          "text": [
            "               Fp1          AF3           F3           F7          FC5  \\\n",
            "count  1280.000000  1280.000000  1280.000000  1280.000000  1280.000000   \n",
            "mean     50.663247   150.492372   149.210824   122.775294    91.633571   \n",
            "std     135.591365   645.635199   632.049548   496.744509   340.562025   \n",
            "min       1.069233     1.119910     0.791859     1.177512     0.712624   \n",
            "25%       8.292302     5.605668     4.352724     7.591098     5.172920   \n",
            "50%      18.329100    14.069330    11.828027    15.919877    12.648067   \n",
            "75%      39.995543    43.454610    28.586812    36.456420    38.094737   \n",
            "max    3213.255538  6060.539788  5758.756812  6348.177208  3472.515858   \n",
            "\n",
            "               FC1           C3           T7          CP5          CP1  ...  \\\n",
            "count  1280.000000  1280.000000  1280.000000  1280.000000  1280.000000  ...   \n",
            "mean     60.487715    56.236468    43.792285    77.048369    29.250057  ...   \n",
            "std     139.230040   180.285647    62.089299   267.809883    68.503827  ...   \n",
            "min       0.694928     0.684210     0.562676     0.788359     0.509259  ...   \n",
            "25%       2.666459     3.534375    10.492723     3.837095     3.156311  ...   \n",
            "50%       5.313502     9.056340    23.540152     9.532963     7.735783  ...   \n",
            "75%      41.027482    29.838450    54.382720    22.302862    18.604669  ...   \n",
            "max    1413.985901  4376.356658   809.935644  2294.561961  1011.985310  ...   \n",
            "\n",
            "               FC2           Cz           C4           T8          CP6  \\\n",
            "count  1280.000000  1280.000000  1280.000000  1280.000000  1280.000000   \n",
            "mean     79.191679    56.547283    55.989289   117.745424    64.340498   \n",
            "std     306.464243   167.968314   239.143748   428.381018   199.387966   \n",
            "min       0.692350     0.395680     0.697486     1.027260     0.609425   \n",
            "25%       2.893590     3.800780     2.286229     7.221083     3.850387   \n",
            "50%       7.535055     8.493068     4.640151    17.921722    10.563661   \n",
            "75%      26.896601    20.882885    13.538524    39.981006    30.943717   \n",
            "max    2829.052404  1892.813293  3054.309237  3954.519861  2405.614840   \n",
            "\n",
            "               CP2           P4           P8          PO4           O2  \n",
            "count  1280.000000  1280.000000  1280.000000  1280.000000  1280.000000  \n",
            "mean     46.943309    68.100629    29.805883    82.197819    55.821892  \n",
            "std     142.501802   265.168885    57.843154   272.880509   203.288109  \n",
            "min       0.478152     0.761387     0.804002     0.838747     0.877576  \n",
            "25%       3.849956     3.690054     4.513405     4.620006     4.380690  \n",
            "50%       8.646393     7.300040    10.911662    10.430337     6.994829  \n",
            "75%      22.614200    28.908609    26.489674    42.960182    14.567389  \n",
            "max    1426.462453  2446.765512   647.533599  2505.826127  1794.801694  \n",
            "\n",
            "[8 rows x 32 columns]\n"
          ]
        }
      ]
    },
    {
      "cell_type": "code",
      "source": [
        "# Split the data into training/testing sets\n",
        "def split_train_test(x, y):\n",
        "  x_train, x_test, y_train, y_test = train_test_split(x, y, test_size=0.20, random_state=42)\n",
        "  return x_train, x_test, y_train, y_test"
      ],
      "metadata": {
        "id": "kmTpi6Qc02Bu"
      },
      "execution_count": 27,
      "outputs": []
    },
    {
      "cell_type": "code",
      "source": [
        "# Feature scaling\n",
        "def feature_scaling(train, test):\n",
        "  sc = StandardScaler()\n",
        "  train = sc.fit_transform(train)\n",
        "  test = sc.transform(test)\n",
        "  return train, test"
      ],
      "metadata": {
        "id": "cOCvaWDba3pa"
      },
      "execution_count": 28,
      "outputs": []
    },
    {
      "cell_type": "code",
      "source": [
        "band_names = np.array([\"theta\", \"alpha\", \"beta\", \"gamma\"])\n",
        "channel_names = np.array([\"frontal\",  \"central\", \"parietal\", \"occipital\"])\n",
        "label_names = np.array([\"valence\", \"arousal\"])"
      ],
      "metadata": {
        "id": "EHrmKN1nf8ys"
      },
      "execution_count": 29,
      "outputs": []
    },
    {
      "cell_type": "code",
      "source": [
        "# Testing different kernels (linear, sigmoid, rbf, poly) to select the most optimal one\n",
        "clf_svm = SVC(kernel = 'rbf', random_state = 42, probability=True)"
      ],
      "metadata": {
        "id": "tYVZwPvFgATk"
      },
      "execution_count": 30,
      "outputs": []
    },
    {
      "cell_type": "code",
      "source": [
        "# Testing different k (odd) numbers, algorithm (auto, ball_tree, kd_tree) and weight (uniform, distance) to select the most optimal one\n",
        "clf_knn = KNeighborsClassifier(n_neighbors=5, weights='distance', algorithm='auto')"
      ],
      "metadata": {
        "id": "t4pznSOZgHmK"
      },
      "execution_count": 31,
      "outputs": []
    },
    {
      "cell_type": "code",
      "source": [
        "clf_dtree=DecisionTreeClassifier(max_depth=20,min_samples_split=4)"
      ],
      "metadata": {
        "id": "7gi_aMFOgL08"
      },
      "execution_count": 32,
      "outputs": []
    },
    {
      "cell_type": "code",
      "source": [
        "clf_rf=RandomForestClassifier(n_estimators=50,max_depth=20,min_samples_split=5)"
      ],
      "metadata": {
        "id": "T9hH4fktgPOX"
      },
      "execution_count": 33,
      "outputs": []
    },
    {
      "cell_type": "code",
      "source": [
        "clf_nb= GaussianNB()"
      ],
      "metadata": {
        "id": "7lJ9wwn0gUmH"
      },
      "execution_count": 34,
      "outputs": []
    },
    {
      "cell_type": "code",
      "source": [
        "# Testing different learning rate (alpha), solver (adam, sgd, lbfgs) and activation (relu, tanh, logistic) to select the most optimal one\n",
        "clf_mlp = MLPClassifier(solver='adam', activation='tanh', alpha=0.3, max_iter=400)"
      ],
      "metadata": {
        "id": "h-f5ay_0gYey"
      },
      "execution_count": 35,
      "outputs": []
    },
    {
      "cell_type": "code",
      "source": [
        "clf_adaboost = AdaBoostClassifier(n_estimators=50, random_state=42)\n"
      ],
      "metadata": {
        "id": "vOCq_XttoT4e"
      },
      "execution_count": 36,
      "outputs": []
    },
    {
      "cell_type": "code",
      "source": [
        "clf_xgb = xgb.XGBClassifier(learning_rate=0.1, max_depth=3, n_estimators=100, random_state=42)\n"
      ],
      "metadata": {
        "id": "xJMuk2lWq8v6"
      },
      "execution_count": 37,
      "outputs": []
    },
    {
      "cell_type": "code",
      "source": [
        "import lightgbm as lgb\n",
        "clf_lgbm = lgb.LGBMClassifier()"
      ],
      "metadata": {
        "id": "KFc0oT1XMHGv"
      },
      "execution_count": 38,
      "outputs": []
    },
    {
      "cell_type": "code",
      "source": [
        "from sklearn.gaussian_process import GaussianProcessClassifier\n",
        "from sklearn.gaussian_process.kernels import RBF\n",
        "clf_gpc = GaussianProcessClassifier(kernel=1.0 * RBF(length_scale=1.0), random_state=42)\n"
      ],
      "metadata": {
        "id": "G_SB4HCTNIWQ"
      },
      "execution_count": 39,
      "outputs": []
    },
    {
      "cell_type": "code",
      "source": [
        "from sklearn.linear_model import Perceptron\n",
        "clf_perceptron = Perceptron(random_state=42)"
      ],
      "metadata": {
        "id": "xQ_4Dt-2N5t8"
      },
      "execution_count": 40,
      "outputs": []
    },
    {
      "cell_type": "code",
      "source": [
        "!pip install catboost\n",
        "import catboost as cb\n",
        "clf_catboost = cb.CatBoostClassifier(iterations=1000, depth=6, learning_rate=0.1, loss_function='Logloss', verbose=0)\n"
      ],
      "metadata": {
        "id": "9pheOwL8PlYt",
        "colab": {
          "base_uri": "https://localhost:8080/"
        },
        "outputId": "48b00079-9d67-42b6-ba21-89e65c8708aa"
      },
      "execution_count": 41,
      "outputs": [
        {
          "output_type": "stream",
          "name": "stdout",
          "text": [
            "Collecting catboost\n",
            "  Downloading catboost-1.2.5-cp310-cp310-manylinux2014_x86_64.whl (98.2 MB)\n",
            "\u001b[2K     \u001b[90m━━━━━━━━━━━━━━━━━━━━━━━━━━━━━━━━━━━━━━━━\u001b[0m \u001b[32m98.2/98.2 MB\u001b[0m \u001b[31m6.0 MB/s\u001b[0m eta \u001b[36m0:00:00\u001b[0m\n",
            "\u001b[?25hRequirement already satisfied: graphviz in /usr/local/lib/python3.10/dist-packages (from catboost) (0.20.3)\n",
            "Requirement already satisfied: matplotlib in /usr/local/lib/python3.10/dist-packages (from catboost) (3.7.1)\n",
            "Requirement already satisfied: numpy>=1.16.0 in /usr/local/lib/python3.10/dist-packages (from catboost) (1.25.2)\n",
            "Requirement already satisfied: pandas>=0.24 in /usr/local/lib/python3.10/dist-packages (from catboost) (2.0.3)\n",
            "Requirement already satisfied: scipy in /usr/local/lib/python3.10/dist-packages (from catboost) (1.11.4)\n",
            "Requirement already satisfied: plotly in /usr/local/lib/python3.10/dist-packages (from catboost) (5.15.0)\n",
            "Requirement already satisfied: six in /usr/local/lib/python3.10/dist-packages (from catboost) (1.16.0)\n",
            "Requirement already satisfied: python-dateutil>=2.8.2 in /usr/local/lib/python3.10/dist-packages (from pandas>=0.24->catboost) (2.8.2)\n",
            "Requirement already satisfied: pytz>=2020.1 in /usr/local/lib/python3.10/dist-packages (from pandas>=0.24->catboost) (2023.4)\n",
            "Requirement already satisfied: tzdata>=2022.1 in /usr/local/lib/python3.10/dist-packages (from pandas>=0.24->catboost) (2024.1)\n",
            "Requirement already satisfied: contourpy>=1.0.1 in /usr/local/lib/python3.10/dist-packages (from matplotlib->catboost) (1.2.1)\n",
            "Requirement already satisfied: cycler>=0.10 in /usr/local/lib/python3.10/dist-packages (from matplotlib->catboost) (0.12.1)\n",
            "Requirement already satisfied: fonttools>=4.22.0 in /usr/local/lib/python3.10/dist-packages (from matplotlib->catboost) (4.53.0)\n",
            "Requirement already satisfied: kiwisolver>=1.0.1 in /usr/local/lib/python3.10/dist-packages (from matplotlib->catboost) (1.4.5)\n",
            "Requirement already satisfied: packaging>=20.0 in /usr/local/lib/python3.10/dist-packages (from matplotlib->catboost) (24.1)\n",
            "Requirement already satisfied: pillow>=6.2.0 in /usr/local/lib/python3.10/dist-packages (from matplotlib->catboost) (9.4.0)\n",
            "Requirement already satisfied: pyparsing>=2.3.1 in /usr/local/lib/python3.10/dist-packages (from matplotlib->catboost) (3.1.2)\n",
            "Requirement already satisfied: tenacity>=6.2.0 in /usr/local/lib/python3.10/dist-packages (from plotly->catboost) (8.4.1)\n",
            "Installing collected packages: catboost\n",
            "Successfully installed catboost-1.2.5\n"
          ]
        }
      ]
    },
    {
      "cell_type": "code",
      "source": [
        "#define cnn model\n",
        "import pandas as pd\n",
        "import numpy as np\n",
        "from sklearn.model_selection import train_test_split\n",
        "from tensorflow.keras.models import Sequential\n",
        "from tensorflow.keras.layers import Conv1D, MaxPooling1D, Flatten, Dense, Dropout\n",
        "from tensorflow.keras.utils import to_categorical\n",
        "from tensorflow.keras.layers import BatchNormalization\n",
        "from tensorflow.keras.layers import Input\n",
        "\n",
        "def create_cnn_model(data_np):\n",
        "    model = Sequential([\n",
        "        Input(shape=(data_np.shape[1], 1)),  # Adjusted to match data_np shape\n",
        "        Conv1D(filters=64, kernel_size=1, activation='relu'),\n",
        "        BatchNormalization(),\n",
        "        MaxPooling1D(pool_size=2),\n",
        "        Dropout(0.2),\n",
        "        Conv1D(filters=64, kernel_size=1, activation='relu'),\n",
        "        BatchNormalization(),\n",
        "        MaxPooling1D(pool_size=2),\n",
        "        Dropout(0.2),\n",
        "        Flatten(),\n",
        "        Dense(64, activation='relu'),\n",
        "        Dropout(0.1),\n",
        "        Dense(2, activation='softmax')\n",
        "    ])\n",
        "    return model\n",
        "\n",
        "def train_and_evaluate_cnn(df_x, df_y):\n",
        "    # Convert dataframes to numpy arrays\n",
        "    data_np = df_x.values\n",
        "    labels_np = df_y.values\n",
        "\n",
        "    # Reshape data for CNN: (number of samples, height, width, channels)\n",
        "    # Here, height=1, width=number of features, channels=1\n",
        "    data_reshaped = data_np.reshape((data_np.shape[0], data_np.shape[1], 1))\n",
        "\n",
        "    # One-hot encode the labels\n",
        "    labels_encoded = to_categorical(labels_np)\n",
        "\n",
        "    # Split the data into training and testing sets\n",
        "    X_train, X_test, y_train, y_test = train_test_split(data_reshaped, labels_encoded, test_size=0.20, random_state=42)\n",
        "\n",
        "    # Define the CNN model\n",
        "    model = create_cnn_model(data_np)\n",
        "\n",
        "    # Compile the model\n",
        "    model.compile(optimizer='adam', loss='categorical_crossentropy', metrics=['accuracy'])\n",
        "\n",
        "    # Train the model\n",
        "    history = model.fit(X_train, y_train, epochs=20, batch_size=32, validation_data=(X_test, y_test))\n",
        "\n",
        "    # Evaluate the model on the test set\n",
        "    test_loss, test_accuracy = model.evaluate(X_test, y_test)\n",
        "\n",
        "    return test_loss, test_accuracy*100\n"
      ],
      "metadata": {
        "id": "llDxjmEzwD4b"
      },
      "execution_count": 80,
      "outputs": []
    },
    {
      "cell_type": "code",
      "source": [
        "#define ann model\n",
        "def create_ann_model(data_scaled):\n",
        "    model = Sequential([\n",
        "        Dense(64, input_dim=data_scaled.shape[1], activation='relu'),\n",
        "        Dense(64, activation='relu'),\n",
        "        Dense(2, activation='softmax')  # Assuming two classes: 0 and 1\n",
        "    ])\n",
        "    return model\n",
        "\n",
        "\n",
        "def train_and_evaluate_ann(df_x, df_y):\n",
        "    # Convert dataframes to numpy arrays\n",
        "    data_np = df_x.values\n",
        "    labels_np = df_y.values\n",
        "\n",
        "    # Standardize the data\n",
        "    scaler = StandardScaler()\n",
        "    data_scaled = scaler.fit_transform(data_np)\n",
        "\n",
        "    # One-hot encode the labels\n",
        "    labels_encoded = to_categorical(labels_np)\n",
        "\n",
        "    # Split the data into training and testing sets\n",
        "    X_train, X_test, y_train, y_test = train_test_split(data_scaled, labels_encoded, test_size=0.2, random_state=42)\n",
        "\n",
        "    # Define the CNN model\n",
        "    model = create_ann_model(data_np)\n",
        "\n",
        "    # Compile the model\n",
        "    model.compile(optimizer='adam', loss='categorical_crossentropy', metrics=['accuracy'])\n",
        "\n",
        "    # Train the model\n",
        "    history = model.fit(X_train, y_train, epochs=20, batch_size=32, validation_data=(X_test, y_test))\n",
        "\n",
        "    # Evaluate the model on the test set\n",
        "    test_loss, test_accuracy = model.evaluate(X_test, y_test)\n",
        "\n",
        "    return test_loss, test_accuracy*100"
      ],
      "metadata": {
        "id": "WJP4i5h0wF5q"
      },
      "execution_count": 81,
      "outputs": []
    },
    {
      "cell_type": "code",
      "source": [
        "#define lstm model\n",
        "import pandas as pd\n",
        "import numpy as np\n",
        "from sklearn.model_selection import train_test_split\n",
        "from tensorflow.keras.models import Sequential\n",
        "from tensorflow.keras.layers import LSTM, Dense, Dropout\n",
        "from tensorflow.keras.utils import to_categorical\n",
        "\n",
        "\n",
        "def create_lstm_model(data_np):\n",
        "    model = Sequential([\n",
        "    LSTM(20, input_shape=(data_np.shape[1], 1)),\n",
        "    Dropout(0.5),\n",
        "    Dense(64, activation='relu'),\n",
        "    Dropout(0.5),\n",
        "    Dense(2, activation='softmax')  # Assuming two classes: 0 and 1\n",
        "    ])\n",
        "    return model\n",
        "\n",
        "def train_and_evaluate_lstm(df_x, df_y):\n",
        "    # Convert dataframes to numpy arrays\n",
        "    data_np = df_x.values\n",
        "    labels_np = df_y.values\n",
        "\n",
        "    # Reshape data for LSTM: (samples, time_steps, features)\n",
        "    # Here, each row is treated as a sequence with a single time step\n",
        "    data_reshaped = data_np.reshape((data_np.shape[0], data_np.shape[1], 1))\n",
        "\n",
        "    # One-hot encode the labels\n",
        "    labels_encoded = to_categorical(labels_np)\n",
        "\n",
        "    # Split the data into training and testing sets\n",
        "    X_train, X_test, y_train, y_test = train_test_split(data_reshaped, labels_encoded, test_size=0.2, random_state=42)\n",
        "    # Define the CNN model\n",
        "    model = create_lstm_model(data_np)\n",
        "\n",
        "    # Compile the model\n",
        "    model.compile(optimizer='adam', loss='categorical_crossentropy', metrics=['accuracy'])\n",
        "\n",
        "    # Train the model\n",
        "    history = model.fit(X_train, y_train, epochs=20, batch_size=32, validation_data=(X_test, y_test))\n",
        "\n",
        "    # Evaluate the model on the test set\n",
        "    test_loss, test_accuracy = model.evaluate(X_test, y_test)\n",
        "    return test_loss, test_accuracy*100"
      ],
      "metadata": {
        "id": "gTtgqxsewObj"
      },
      "execution_count": 82,
      "outputs": []
    },
    {
      "cell_type": "code",
      "source": [
        "models = []\n",
        "models.append(('SVM', clf_svm))\n",
        "models.append(('k-NN', clf_knn))\n",
        "models.append(('DT', clf_dtree))\n",
        "models.append(('RF', clf_rf))\n",
        "models.append(('NB', clf_nb))\n",
        "models.append(('MLP', clf_mlp))\n",
        "models.append(('AB', clf_adaboost))\n",
        "models.append(('XGB', clf_xgb))"
      ],
      "metadata": {
        "id": "i28DLITPgfgJ"
      },
      "execution_count": 42,
      "outputs": []
    },
    {
      "cell_type": "code",
      "source": [
        "def run_clf_cv(band, channel, label, clf):\n",
        "  if (band == \"theta\"):\n",
        "    df_x = df_theta\n",
        "  elif (band == \"alpha\"):\n",
        "    df_x = df_alpha\n",
        "  elif (band == \"beta\"):\n",
        "    df_x = df_beta\n",
        "  elif (band == \"gamma\"):\n",
        "    df_x = df_gamma\n",
        "\n",
        "  if (channel == \"frontal\"):\n",
        "    df_x = df_x[frontal]\n",
        "  elif (channel == \"central\"):\n",
        "    df_x = df_x[central]\n",
        "  elif (channel == \"parietal\"):\n",
        "    df_x = df_x[parietal]\n",
        "  elif (channel == \"occipital\"):\n",
        "    df_x = df_x[occipital]\n",
        "\n",
        "  df_y = df_arousal if (label == \"arousal\") else df_valence\n",
        "\n",
        "  # Train-test split\n",
        "  x_train, x_test, y_train, y_test = split_train_test(df_x, df_y)\n",
        "\n",
        "  # Apply CV\n",
        "  x_for_kfold = np.array(x_train)\n",
        "  y_for_kfold = np.array(y_train)\n",
        "  kfold = model_selection.KFold(n_splits=5)\n",
        "\n",
        "  for i, j in kfold.split(x_for_kfold):\n",
        "   x_train2, x_test2 = x_for_kfold[i], x_for_kfold[j]\n",
        "   y_train2, y_test2 = y_for_kfold[i], y_for_kfold[j]\n",
        "\n",
        "  # Feature scaling\n",
        "  x_train2, x_test2 = feature_scaling(x_train2, x_test2)\n",
        "\n",
        "  if (clf == \"svm\"):\n",
        "    clf_svm.fit(x_train2, y_train2)\n",
        "    y_predict = clf_svm.predict(x_test2)\n",
        "  elif (clf == \"knn\"):\n",
        "    clf_knn.fit(x_train2, y_train2)\n",
        "    y_predict = clf_knn.predict(x_test2)\n",
        "  elif (clf == \"dtree\"):\n",
        "    clf_dtree.fit(x_train2, y_train2)\n",
        "    y_predict = clf_dtree.predict(x_test2)\n",
        "  elif (clf == \"rf\"):\n",
        "    clf_rf.fit(x_train2, y_train2)\n",
        "    y_predict = clf_rf.predict(x_test2)\n",
        "  elif (clf == \"nb\"):\n",
        "    clf_nb.fit(x_train2, y_train2)\n",
        "    y_predict = clf_nb.predict(x_test2)\n",
        "  elif (clf == \"mlp\"):\n",
        "    clf_mlp.fit(x_train2, y_train2)\n",
        "    y_predict = clf_mlp.predict(x_test2)\n",
        "  elif (clf == \"ab\"):\n",
        "    clf_adaboost.fit(x_train2, y_train2)\n",
        "    y_predict = clf_adaboost.predict(x_test2)\n",
        "  elif (clf == \"xgb\"):\n",
        "    clf_xgb.fit(x_train2, y_train2)\n",
        "    y_predict = clf_xgb.predict(x_test2)\n",
        "  elif (clf == \"lgbm\"):\n",
        "    clf_lgbm.fit(x_train2, y_train2)\n",
        "    y_predict = clf_lgbm.predict(x_test2)\n",
        "  elif (clf == \"gpc\"):\n",
        "    clf_gpc.fit(x_train2, y_train2)\n",
        "    y_predict = clf_gpc.predict(x_test2)\n",
        "  elif (clf == \"per\"):\n",
        "    clf_perceptron.fit(x_train2, y_train2)\n",
        "    y_predict = clf_perceptron.predict(x_test2)\n",
        "\n",
        "  elif (clf == \"cb\"):\n",
        "    clf_catboost.fit(x_train2, y_train2)\n",
        "    y_predict = clf_catboost.predict(x_test2)\n",
        "\n",
        "  elif(clf ==\"ann\"):\n",
        "    test_loss, test_accuracy = train_and_evaluate_ann(df_x, df_y)\n",
        "    # print(f\"Test Loss: {test_loss}\")\n",
        "    # print(f\"Test Accuracy: {test_accuracy}\")\n",
        "    return \"DL\",test_loss, test_accuracy\n",
        "  elif(clf ==\"lstm\"):\n",
        "    test_loss, test_accuracy = train_and_evaluate_lstm(df_x, df_y)\n",
        "    return \"DL\",test_loss,test_accuracy\n",
        "  elif(clf ==\"cnn\"):\n",
        "    test_loss, test_accuracy = train_and_evaluate_cnn(df_x, df_y)\n",
        "    return \"DL\",test_loss,test_accuracy\n",
        "\n",
        "  return \"ML\",y_test2, y_predict"
      ],
      "metadata": {
        "id": "L_WzJMzsjrL4"
      },
      "execution_count": 83,
      "outputs": []
    },
    {
      "cell_type": "code",
      "source": [
        "def get_accuracy(band, channel, label, clf):\n",
        "  classifier,y_test2, y_predict = run_clf_cv(band, channel, label, clf)\n",
        "  if (classifier == \"DL\"):\n",
        "    return y_predict\n",
        "  return np.round(accuracy_score(y_test2, y_predict)*100,2)"
      ],
      "metadata": {
        "id": "gWN0kvbJjyhB"
      },
      "execution_count": 84,
      "outputs": []
    },
    {
      "cell_type": "code",
      "source": [
        "import numpy as np\n",
        "from sklearn.model_selection import train_test_split\n",
        "from sklearn.datasets import load_iris\n",
        "from sklearn.linear_model import LogisticRegression\n",
        "from sklearn.metrics import confusion_matrix, accuracy_score\n",
        "import seaborn as sns\n",
        "import matplotlib.pyplot as plt\n",
        "def print_conf(band, channel, label, clf):\n",
        "  y_test2, y_predict = run_clf_cv(band, channel, label, clf)\n",
        "  conf_matrix = confusion_matrix(y_test2, y_predict)\n",
        "  # print(conf_matrix)\n",
        "  plt.figure(figsize=(4, 2))  # Decrease the figure size\n",
        "  plt.title('Confusion Matrix')\n",
        "  sns.heatmap(conf_matrix,\n",
        "              annot=True,\n",
        "              fmt='g',\n",
        "              xticklabels=['0','1'],\n",
        "              yticklabels=['0','1'])\n",
        "\n",
        "  # display matrix\n",
        "  plt.ylabel('True Label',fontsize=12)\n",
        "  plt.xlabel('Predicted Label',fontsize=12)\n",
        "  plt.show()\n",
        "\n",
        "  # printing the classificati# Split the data into training/testing sets\n",
        "# def split_train_test(x, y):\n",
        "#   x_train, x_test, y_train, y_test = train_test_split(x, y, test_size=0.20, random_state=42)\n",
        "#   return x_train, x_test, y_train, y_test\n",
        "\n",
        "  class_report = classification_report(y_test2, y_predict, target_names=['0', '1'])\n",
        "  print(\"\\nClassification Report:\")\n",
        "  print(class_report)"
      ],
      "metadata": {
        "id": "cB-1MOCIuv_M"
      },
      "execution_count": 76,
      "outputs": []
    },
    {
      "cell_type": "code",
      "source": [
        "def print_accuracy(label, clf):\n",
        "  arr = []\n",
        "  for i in range (len(band_names)):\n",
        "    for j in range (len(channel_names)):\n",
        "      arr.append(get_accuracy(band_names[i], channel_names[j], label, clf))\n",
        "  arr = np.reshape(arr, (4,4))\n",
        "  df = pd.DataFrame(data = arr, index=band_names, columns=channel_names)\n",
        "\n",
        "  #print(\"Top 3 EEG regions with highest scores\")\n",
        "  #print(df.apply(lambda s: s.abs()).max().nlargest(3))\n",
        "  #print()\n",
        "  #print(\"Top 2 bands with highest scores\")\n",
        "  #print(df.apply(lambda s: s.abs()).max(axis=1).nlargest(2))\n",
        "  #print()\n",
        "  #print(\"EEG region with highest scores per each band\")\n",
        "  #print(df.idxmax(axis=1))\n",
        "  #print()\n",
        "  #print(\"Accuracy Scores\")\n",
        "  #print(df.idxmax())\n",
        "  #print()\n",
        "  print(df)"
      ],
      "metadata": {
        "id": "_kBo9bznkFa9"
      },
      "execution_count": 46,
      "outputs": []
    },
    {
      "cell_type": "code",
      "source": [
        "\n",
        "print_accuracy('arousal', 'svm')"
      ],
      "metadata": {
        "colab": {
          "base_uri": "https://localhost:8080/"
        },
        "id": "FDIaK777kOdU",
        "outputId": "85139731-f44b-45d4-81c2-a04d6fe2f9b1"
      },
      "execution_count": 47,
      "outputs": [
        {
          "output_type": "stream",
          "name": "stdout",
          "text": [
            "       frontal  central  parietal  occipital\n",
            "theta    52.94    50.00     54.41      50.98\n",
            "alpha    53.43    50.00     50.00      50.98\n",
            "beta     52.45    50.00     55.39      50.49\n",
            "gamma    50.49    52.94     51.96      49.02\n"
          ]
        }
      ]
    },
    {
      "cell_type": "code",
      "source": [
        "# print the confusion matrix which gives the highest accuracy\n",
        "print_conf(\"theta\",\"parietal\",\"arousal\",\"svm\")"
      ],
      "metadata": {
        "id": "oY9uqQzbv46q",
        "colab": {
          "base_uri": "https://localhost:8080/",
          "height": 451
        },
        "outputId": "a7edc616-733b-4d65-ea6a-a1889a690e4d"
      },
      "execution_count": 77,
      "outputs": [
        {
          "output_type": "display_data",
          "data": {
            "text/plain": [
              "<Figure size 400x200 with 2 Axes>"
            ],
            "image/png": "[encoded data removed]"
          },
          "metadata": {}
        },
        {
          "output_type": "stream",
          "name": "stdout",
          "text": [
            "\n",
            "Classification Report:\n",
            "              precision    recall  f1-score   support\n",
            "\n",
            "           0       0.56      0.35      0.43       101\n",
            "           1       0.54      0.74      0.62       103\n",
            "\n",
            "    accuracy                           0.54       204\n",
            "   macro avg       0.55      0.54      0.52       204\n",
            "weighted avg       0.55      0.54      0.53       204\n",
            "\n"
          ]
        }
      ]
    },
    {
      "cell_type": "code",
      "source": [
        "print_accuracy('valence', 'svm')"
      ],
      "metadata": {
        "id": "XHUBype4mFY6",
        "colab": {
          "base_uri": "https://localhost:8080/"
        },
        "outputId": "8e992fd2-1df4-49b2-c299-eaf56bcbf763"
      },
      "execution_count": 49,
      "outputs": [
        {
          "output_type": "stream",
          "name": "stdout",
          "text": [
            "       frontal  central  parietal  occipital\n",
            "theta    55.39    53.92     54.41      55.88\n",
            "alpha    55.39    54.90     55.39      55.39\n",
            "beta     54.41    56.86     56.86      56.37\n",
            "gamma    54.90    58.33     56.37      58.33\n"
          ]
        }
      ]
    },
    {
      "cell_type": "code",
      "source": [
        "print_conf(\"gamma\",\"central\",\"valence\",\"svm\")"
      ],
      "metadata": {
        "id": "Bv3oLNIVGCSf",
        "colab": {
          "base_uri": "https://localhost:8080/",
          "height": 451
        },
        "outputId": "f4514f49-4af4-4b68-f9ee-3c3bcdd91d48"
      },
      "execution_count": 78,
      "outputs": [
        {
          "output_type": "display_data",
          "data": {
            "text/plain": [
              "<Figure size 400x200 with 2 Axes>"
            ],
            "image/png": "[encoded data removed]"
          },
          "metadata": {}
        },
        {
          "output_type": "stream",
          "name": "stdout",
          "text": [
            "\n",
            "Classification Report:\n",
            "              precision    recall  f1-score   support\n",
            "\n",
            "           0       0.69      0.10      0.17        90\n",
            "           1       0.58      0.96      0.72       114\n",
            "\n",
            "    accuracy                           0.58       204\n",
            "   macro avg       0.63      0.53      0.45       204\n",
            "weighted avg       0.63      0.58      0.48       204\n",
            "\n"
          ]
        }
      ]
    },
    {
      "cell_type": "code",
      "source": [
        "print_accuracy(\"arousal\",\"cnn\")"
      ],
      "metadata": {
        "colab": {
          "base_uri": "https://localhost:8080/"
        },
        "id": "SIn9Pm32xQL_",
        "outputId": "f67bf74e-8f8e-468f-9b48-4b423438e44a"
      },
      "execution_count": 85,
      "outputs": [
        {
          "output_type": "stream",
          "name": "stdout",
          "text": [
            "Epoch 1/20\n",
            "32/32 [==============================] - 6s 43ms/step - loss: 0.8816 - accuracy: 0.4922 - val_loss: 0.6965 - val_accuracy: 0.4922\n",
            "Epoch 2/20\n",
            "32/32 [==============================] - 0s 11ms/step - loss: 0.7955 - accuracy: 0.5186 - val_loss: 0.7341 - val_accuracy: 0.5000\n",
            "Epoch 3/20\n",
            "32/32 [==============================] - 0s 14ms/step - loss: 0.7985 - accuracy: 0.5078 - val_loss: 0.6932 - val_accuracy: 0.4922\n",
            "Epoch 4/20\n",
            "32/32 [==============================] - 0s 13ms/step - loss: 0.7675 - accuracy: 0.5059 - val_loss: 0.7184 - val_accuracy: 0.4922\n",
            "Epoch 5/20\n",
            "32/32 [==============================] - 0s 13ms/step - loss: 0.7775 - accuracy: 0.5010 - val_loss: 0.7074 - val_accuracy: 0.4922\n",
            "Epoch 6/20\n",
            "32/32 [==============================] - 0s 15ms/step - loss: 0.7602 - accuracy: 0.5137 - val_loss: 0.6979 - val_accuracy: 0.4922\n",
            "Epoch 7/20\n",
            "32/32 [==============================] - 1s 18ms/step - loss: 0.7544 - accuracy: 0.5010 - val_loss: 0.7632 - val_accuracy: 0.4727\n",
            "Epoch 8/20\n",
            "32/32 [==============================] - 1s 17ms/step - loss: 0.7278 - accuracy: 0.4932 - val_loss: 0.7062 - val_accuracy: 0.4648\n",
            "Epoch 9/20\n",
            "32/32 [==============================] - 1s 18ms/step - loss: 0.7480 - accuracy: 0.5068 - val_loss: 0.6991 - val_accuracy: 0.4766\n",
            "Epoch 10/20\n",
            "32/32 [==============================] - 0s 12ms/step - loss: 0.7368 - accuracy: 0.4922 - val_loss: 0.6914 - val_accuracy: 0.4766\n",
            "Epoch 11/20\n",
            "32/32 [==============================] - 0s 10ms/step - loss: 0.7261 - accuracy: 0.4980 - val_loss: 0.7010 - val_accuracy: 0.4883\n",
            "Epoch 12/20\n",
            "32/32 [==============================] - 0s 12ms/step - loss: 0.7333 - accuracy: 0.5176 - val_loss: 0.6971 - val_accuracy: 0.4727\n",
            "Epoch 13/20\n",
            "32/32 [==============================] - 0s 15ms/step - loss: 0.7311 - accuracy: 0.4863 - val_loss: 0.7033 - val_accuracy: 0.4688\n",
            "Epoch 14/20\n",
            "32/32 [==============================] - 0s 10ms/step - loss: 0.7054 - accuracy: 0.5156 - val_loss: 0.7015 - val_accuracy: 0.4922\n",
            "Epoch 15/20\n",
            "32/32 [==============================] - 0s 11ms/step - loss: 0.7222 - accuracy: 0.5000 - val_loss: 0.6948 - val_accuracy: 0.4883\n",
            "Epoch 16/20\n",
            "32/32 [==============================] - 0s 8ms/step - loss: 0.7187 - accuracy: 0.5156 - val_loss: 0.7198 - val_accuracy: 0.4805\n",
            "Epoch 17/20\n",
            "32/32 [==============================] - 0s 10ms/step - loss: 0.7076 - accuracy: 0.5088 - val_loss: 0.6984 - val_accuracy: 0.4922\n",
            "Epoch 18/20\n",
            "32/32 [==============================] - 0s 10ms/step - loss: 0.7140 - accuracy: 0.5303 - val_loss: 0.7155 - val_accuracy: 0.4609\n",
            "Epoch 19/20\n",
            "32/32 [==============================] - 0s 8ms/step - loss: 0.7098 - accuracy: 0.5127 - val_loss: 0.7064 - val_accuracy: 0.4609\n",
            "Epoch 20/20\n",
            "32/32 [==============================] - 0s 9ms/step - loss: 0.7162 - accuracy: 0.5010 - val_loss: 0.7073 - val_accuracy: 0.4492\n",
            "8/8 [==============================] - 0s 6ms/step - loss: 0.7073 - accuracy: 0.4492\n",
            "Epoch 1/20\n",
            "32/32 [==============================] - 3s 23ms/step - loss: 0.8125 - accuracy: 0.5088 - val_loss: 0.7032 - val_accuracy: 0.4883\n",
            "Epoch 2/20\n",
            "32/32 [==============================] - 0s 10ms/step - loss: 0.7857 - accuracy: 0.4932 - val_loss: 0.6924 - val_accuracy: 0.5000\n",
            "Epoch 3/20\n",
            "32/32 [==============================] - 0s 9ms/step - loss: 0.7741 - accuracy: 0.5166 - val_loss: 0.7469 - val_accuracy: 0.4922\n",
            "Epoch 4/20\n",
            "32/32 [==============================] - 0s 9ms/step - loss: 0.7269 - accuracy: 0.5166 - val_loss: 0.7190 - val_accuracy: 0.4922\n",
            "Epoch 5/20\n",
            "32/32 [==============================] - 0s 11ms/step - loss: 0.7370 - accuracy: 0.5361 - val_loss: 0.6958 - val_accuracy: 0.4922\n",
            "Epoch 6/20\n",
            "32/32 [==============================] - 0s 10ms/step - loss: 0.7371 - accuracy: 0.5068 - val_loss: 0.7217 - val_accuracy: 0.4961\n",
            "Epoch 7/20\n",
            "32/32 [==============================] - 0s 10ms/step - loss: 0.7350 - accuracy: 0.5127 - val_loss: 0.7052 - val_accuracy: 0.4922\n",
            "Epoch 8/20\n",
            "32/32 [==============================] - 0s 11ms/step - loss: 0.7159 - accuracy: 0.5215 - val_loss: 0.7041 - val_accuracy: 0.5039\n",
            "Epoch 9/20\n",
            "32/32 [==============================] - 0s 15ms/step - loss: 0.7238 - accuracy: 0.5195 - val_loss: 0.6948 - val_accuracy: 0.4727\n",
            "Epoch 10/20\n",
            "32/32 [==============================] - 0s 15ms/step - loss: 0.7282 - accuracy: 0.4951 - val_loss: 0.7001 - val_accuracy: 0.4648\n",
            "Epoch 11/20\n",
            "32/32 [==============================] - 0s 12ms/step - loss: 0.7364 - accuracy: 0.4814 - val_loss: 0.6950 - val_accuracy: 0.5000\n",
            "Epoch 12/20\n",
            "32/32 [==============================] - 0s 13ms/step - loss: 0.7236 - accuracy: 0.4980 - val_loss: 0.6977 - val_accuracy: 0.4766\n",
            "Epoch 13/20\n",
            "32/32 [==============================] - 0s 14ms/step - loss: 0.7172 - accuracy: 0.4990 - val_loss: 0.6954 - val_accuracy: 0.5234\n",
            "Epoch 14/20\n",
            "32/32 [==============================] - 0s 13ms/step - loss: 0.7112 - accuracy: 0.5166 - val_loss: 0.6940 - val_accuracy: 0.5586\n",
            "Epoch 15/20\n",
            "32/32 [==============================] - 0s 12ms/step - loss: 0.7161 - accuracy: 0.5166 - val_loss: 0.6950 - val_accuracy: 0.5547\n",
            "Epoch 16/20\n",
            "32/32 [==============================] - 0s 10ms/step - loss: 0.7100 - accuracy: 0.5215 - val_loss: 0.6947 - val_accuracy: 0.5352\n",
            "Epoch 17/20\n",
            "32/32 [==============================] - 0s 15ms/step - loss: 0.7100 - accuracy: 0.5059 - val_loss: 0.6949 - val_accuracy: 0.5859\n",
            "Epoch 18/20\n",
            "32/32 [==============================] - 1s 16ms/step - loss: 0.7002 - accuracy: 0.5283 - val_loss: 0.6959 - val_accuracy: 0.5195\n",
            "Epoch 19/20\n",
            "32/32 [==============================] - 0s 14ms/step - loss: 0.6937 - accuracy: 0.5371 - val_loss: 0.6964 - val_accuracy: 0.5000\n",
            "Epoch 20/20\n",
            "32/32 [==============================] - 0s 14ms/step - loss: 0.6982 - accuracy: 0.5146 - val_loss: 0.6979 - val_accuracy: 0.5000\n",
            "8/8 [==============================] - 0s 4ms/step - loss: 0.6979 - accuracy: 0.5000\n",
            "Epoch 1/20\n",
            "32/32 [==============================] - 3s 26ms/step - loss: 0.8436 - accuracy: 0.4980 - val_loss: 0.6894 - val_accuracy: 0.5273\n",
            "Epoch 2/20\n",
            "32/32 [==============================] - 0s 6ms/step - loss: 0.7454 - accuracy: 0.5205 - val_loss: 0.7056 - val_accuracy: 0.5117\n",
            "Epoch 3/20\n",
            "32/32 [==============================] - 0s 5ms/step - loss: 0.7638 - accuracy: 0.5361 - val_loss: 0.6849 - val_accuracy: 0.5430\n",
            "Epoch 4/20\n",
            "32/32 [==============================] - 0s 7ms/step - loss: 0.7443 - accuracy: 0.5107 - val_loss: 0.6833 - val_accuracy: 0.5508\n",
            "Epoch 5/20\n",
            "32/32 [==============================] - 0s 6ms/step - loss: 0.7324 - accuracy: 0.5098 - val_loss: 0.7013 - val_accuracy: 0.5156\n",
            "Epoch 6/20\n",
            "32/32 [==============================] - 0s 6ms/step - loss: 0.7302 - accuracy: 0.5332 - val_loss: 0.6867 - val_accuracy: 0.5312\n",
            "Epoch 7/20\n",
            "32/32 [==============================] - 0s 6ms/step - loss: 0.7171 - accuracy: 0.5156 - val_loss: 0.6846 - val_accuracy: 0.5352\n",
            "Epoch 8/20\n",
            "32/32 [==============================] - 0s 5ms/step - loss: 0.7179 - accuracy: 0.5215 - val_loss: 0.6873 - val_accuracy: 0.5508\n",
            "Epoch 9/20\n",
            "32/32 [==============================] - 0s 6ms/step - loss: 0.7196 - accuracy: 0.5195 - val_loss: 0.7146 - val_accuracy: 0.5430\n",
            "Epoch 10/20\n",
            "32/32 [==============================] - 0s 6ms/step - loss: 0.7214 - accuracy: 0.5254 - val_loss: 0.6750 - val_accuracy: 0.5664\n",
            "Epoch 11/20\n",
            "32/32 [==============================] - 0s 6ms/step - loss: 0.7161 - accuracy: 0.5049 - val_loss: 0.6818 - val_accuracy: 0.5547\n",
            "Epoch 12/20\n",
            "32/32 [==============================] - 0s 6ms/step - loss: 0.7071 - accuracy: 0.5508 - val_loss: 0.6747 - val_accuracy: 0.5508\n",
            "Epoch 13/20\n",
            "32/32 [==============================] - 0s 5ms/step - loss: 0.7031 - accuracy: 0.5234 - val_loss: 0.6766 - val_accuracy: 0.5664\n",
            "Epoch 14/20\n",
            "32/32 [==============================] - 0s 6ms/step - loss: 0.7073 - accuracy: 0.5234 - val_loss: 0.6891 - val_accuracy: 0.5352\n",
            "Epoch 15/20\n",
            "32/32 [==============================] - 0s 6ms/step - loss: 0.7033 - accuracy: 0.5381 - val_loss: 0.6849 - val_accuracy: 0.5664\n",
            "Epoch 16/20\n",
            "32/32 [==============================] - 0s 5ms/step - loss: 0.7107 - accuracy: 0.5225 - val_loss: 0.6919 - val_accuracy: 0.5391\n",
            "Epoch 17/20\n",
            "32/32 [==============================] - 0s 7ms/step - loss: 0.7203 - accuracy: 0.5098 - val_loss: 0.6869 - val_accuracy: 0.5586\n",
            "Epoch 18/20\n",
            "32/32 [==============================] - 0s 6ms/step - loss: 0.7088 - accuracy: 0.5361 - val_loss: 0.7055 - val_accuracy: 0.5352\n",
            "Epoch 19/20\n",
            "32/32 [==============================] - 0s 6ms/step - loss: 0.7048 - accuracy: 0.5107 - val_loss: 0.6979 - val_accuracy: 0.5430\n",
            "Epoch 20/20\n",
            "32/32 [==============================] - 0s 6ms/step - loss: 0.7038 - accuracy: 0.5225 - val_loss: 0.6883 - val_accuracy: 0.5547\n",
            "8/8 [==============================] - 0s 5ms/step - loss: 0.6883 - accuracy: 0.5547\n",
            "Epoch 1/20\n",
            "32/32 [==============================] - 3s 26ms/step - loss: 0.8660 - accuracy: 0.5088 - val_loss: 0.6884 - val_accuracy: 0.5469\n",
            "Epoch 2/20\n",
            "32/32 [==============================] - 0s 10ms/step - loss: 0.7997 - accuracy: 0.4922 - val_loss: 0.6805 - val_accuracy: 0.5547\n",
            "Epoch 3/20\n",
            "32/32 [==============================] - 0s 11ms/step - loss: 0.7848 - accuracy: 0.5215 - val_loss: 0.6811 - val_accuracy: 0.5430\n",
            "Epoch 4/20\n",
            "32/32 [==============================] - 0s 11ms/step - loss: 0.7800 - accuracy: 0.5283 - val_loss: 0.6819 - val_accuracy: 0.5469\n",
            "Epoch 5/20\n",
            "32/32 [==============================] - 0s 11ms/step - loss: 0.7850 - accuracy: 0.4600 - val_loss: 0.6815 - val_accuracy: 0.5547\n",
            "Epoch 6/20\n",
            "32/32 [==============================] - 0s 11ms/step - loss: 0.7495 - accuracy: 0.4971 - val_loss: 0.6942 - val_accuracy: 0.5039\n",
            "Epoch 7/20\n",
            "32/32 [==============================] - 0s 10ms/step - loss: 0.7341 - accuracy: 0.4980 - val_loss: 0.6869 - val_accuracy: 0.5273\n",
            "Epoch 8/20\n",
            "32/32 [==============================] - 0s 9ms/step - loss: 0.7242 - accuracy: 0.5068 - val_loss: 0.6950 - val_accuracy: 0.5195\n",
            "Epoch 9/20\n",
            "32/32 [==============================] - 0s 11ms/step - loss: 0.7388 - accuracy: 0.4902 - val_loss: 0.7006 - val_accuracy: 0.5078\n",
            "Epoch 10/20\n",
            "32/32 [==============================] - 0s 11ms/step - loss: 0.7354 - accuracy: 0.4893 - val_loss: 0.6882 - val_accuracy: 0.5156\n",
            "Epoch 11/20\n",
            "32/32 [==============================] - 0s 10ms/step - loss: 0.7197 - accuracy: 0.5254 - val_loss: 0.6928 - val_accuracy: 0.5195\n",
            "Epoch 12/20\n",
            "32/32 [==============================] - 0s 11ms/step - loss: 0.7309 - accuracy: 0.4756 - val_loss: 0.6931 - val_accuracy: 0.5156\n",
            "Epoch 13/20\n",
            "32/32 [==============================] - 0s 9ms/step - loss: 0.7220 - accuracy: 0.4873 - val_loss: 0.6979 - val_accuracy: 0.5000\n",
            "Epoch 14/20\n",
            "32/32 [==============================] - 0s 8ms/step - loss: 0.7220 - accuracy: 0.5107 - val_loss: 0.6861 - val_accuracy: 0.5664\n",
            "Epoch 15/20\n",
            "32/32 [==============================] - 0s 8ms/step - loss: 0.7135 - accuracy: 0.5146 - val_loss: 0.6865 - val_accuracy: 0.5703\n",
            "Epoch 16/20\n",
            "32/32 [==============================] - 0s 10ms/step - loss: 0.7234 - accuracy: 0.4980 - val_loss: 0.6956 - val_accuracy: 0.4570\n",
            "Epoch 17/20\n",
            "32/32 [==============================] - 0s 8ms/step - loss: 0.7092 - accuracy: 0.5156 - val_loss: 0.6922 - val_accuracy: 0.4648\n",
            "Epoch 18/20\n",
            "32/32 [==============================] - 0s 8ms/step - loss: 0.7045 - accuracy: 0.5254 - val_loss: 0.6913 - val_accuracy: 0.5391\n",
            "Epoch 19/20\n",
            "32/32 [==============================] - 0s 11ms/step - loss: 0.7074 - accuracy: 0.5098 - val_loss: 0.6880 - val_accuracy: 0.5117\n",
            "Epoch 20/20\n",
            "32/32 [==============================] - 0s 6ms/step - loss: 0.7086 - accuracy: 0.5244 - val_loss: 0.6913 - val_accuracy: 0.5391\n",
            "8/8 [==============================] - 0s 3ms/step - loss: 0.6913 - accuracy: 0.5391\n",
            "Epoch 1/20\n",
            "32/32 [==============================] - 2s 14ms/step - loss: 0.8864 - accuracy: 0.5029 - val_loss: 0.6941 - val_accuracy: 0.5039\n",
            "Epoch 2/20\n",
            "32/32 [==============================] - 0s 5ms/step - loss: 0.8142 - accuracy: 0.5068 - val_loss: 0.7127 - val_accuracy: 0.4844\n",
            "Epoch 3/20\n",
            "32/32 [==============================] - 0s 5ms/step - loss: 0.7786 - accuracy: 0.5215 - val_loss: 0.7030 - val_accuracy: 0.5391\n",
            "Epoch 4/20\n",
            "32/32 [==============================] - 0s 6ms/step - loss: 0.7695 - accuracy: 0.5176 - val_loss: 0.6898 - val_accuracy: 0.4961\n",
            "Epoch 5/20\n",
            "32/32 [==============================] - 0s 5ms/step - loss: 0.7558 - accuracy: 0.4766 - val_loss: 0.6970 - val_accuracy: 0.5273\n",
            "Epoch 6/20\n",
            "32/32 [==============================] - 0s 6ms/step - loss: 0.7355 - accuracy: 0.5225 - val_loss: 0.7163 - val_accuracy: 0.5234\n",
            "Epoch 7/20\n",
            "32/32 [==============================] - 0s 7ms/step - loss: 0.7513 - accuracy: 0.4971 - val_loss: 0.7319 - val_accuracy: 0.5117\n",
            "Epoch 8/20\n",
            "32/32 [==============================] - 0s 5ms/step - loss: 0.7676 - accuracy: 0.4824 - val_loss: 0.6971 - val_accuracy: 0.5117\n",
            "Epoch 9/20\n",
            "32/32 [==============================] - 0s 6ms/step - loss: 0.7255 - accuracy: 0.5049 - val_loss: 0.7041 - val_accuracy: 0.5117\n",
            "Epoch 10/20\n",
            "32/32 [==============================] - 0s 5ms/step - loss: 0.7318 - accuracy: 0.4980 - val_loss: 0.7497 - val_accuracy: 0.5156\n",
            "Epoch 11/20\n",
            "32/32 [==============================] - 0s 5ms/step - loss: 0.7275 - accuracy: 0.5107 - val_loss: 0.6973 - val_accuracy: 0.5078\n",
            "Epoch 12/20\n",
            "32/32 [==============================] - 0s 6ms/step - loss: 0.7188 - accuracy: 0.4922 - val_loss: 0.7006 - val_accuracy: 0.5000\n",
            "Epoch 13/20\n",
            "32/32 [==============================] - 0s 5ms/step - loss: 0.7039 - accuracy: 0.5195 - val_loss: 0.7231 - val_accuracy: 0.5195\n",
            "Epoch 14/20\n",
            "32/32 [==============================] - 0s 5ms/step - loss: 0.7228 - accuracy: 0.4941 - val_loss: 0.6952 - val_accuracy: 0.5195\n",
            "Epoch 15/20\n",
            "32/32 [==============================] - 0s 5ms/step - loss: 0.7329 - accuracy: 0.4736 - val_loss: 0.7104 - val_accuracy: 0.5117\n",
            "Epoch 16/20\n",
            "32/32 [==============================] - 0s 5ms/step - loss: 0.7285 - accuracy: 0.4961 - val_loss: 0.6995 - val_accuracy: 0.5039\n",
            "Epoch 17/20\n",
            "32/32 [==============================] - 0s 5ms/step - loss: 0.7247 - accuracy: 0.4766 - val_loss: 0.6996 - val_accuracy: 0.4922\n",
            "Epoch 18/20\n",
            "32/32 [==============================] - 0s 6ms/step - loss: 0.7051 - accuracy: 0.4844 - val_loss: 0.6990 - val_accuracy: 0.4766\n",
            "Epoch 19/20\n",
            "32/32 [==============================] - 0s 5ms/step - loss: 0.7147 - accuracy: 0.4951 - val_loss: 0.6973 - val_accuracy: 0.4180\n",
            "Epoch 20/20\n",
            "32/32 [==============================] - 0s 5ms/step - loss: 0.7042 - accuracy: 0.5039 - val_loss: 0.7020 - val_accuracy: 0.4805\n",
            "8/8 [==============================] - 0s 3ms/step - loss: 0.7020 - accuracy: 0.4805\n",
            "Epoch 1/20\n",
            "32/32 [==============================] - 2s 13ms/step - loss: 0.8543 - accuracy: 0.5029 - val_loss: 0.6870 - val_accuracy: 0.5547\n",
            "Epoch 2/20\n",
            "32/32 [==============================] - 0s 6ms/step - loss: 0.8003 - accuracy: 0.5127 - val_loss: 0.6919 - val_accuracy: 0.5391\n",
            "Epoch 3/20\n",
            "32/32 [==============================] - 0s 9ms/step - loss: 0.7686 - accuracy: 0.5273 - val_loss: 0.6938 - val_accuracy: 0.5508\n",
            "Epoch 4/20\n",
            "32/32 [==============================] - 0s 9ms/step - loss: 0.7465 - accuracy: 0.5244 - val_loss: 0.6946 - val_accuracy: 0.4805\n",
            "Epoch 5/20\n",
            "32/32 [==============================] - 0s 8ms/step - loss: 0.7434 - accuracy: 0.5146 - val_loss: 0.6932 - val_accuracy: 0.5000\n",
            "Epoch 6/20\n",
            "32/32 [==============================] - 0s 9ms/step - loss: 0.7457 - accuracy: 0.5166 - val_loss: 0.6969 - val_accuracy: 0.5352\n",
            "Epoch 7/20\n",
            "32/32 [==============================] - 0s 8ms/step - loss: 0.7363 - accuracy: 0.4941 - val_loss: 0.7314 - val_accuracy: 0.4844\n",
            "Epoch 8/20\n",
            "32/32 [==============================] - 0s 9ms/step - loss: 0.7526 - accuracy: 0.4707 - val_loss: 0.6967 - val_accuracy: 0.5195\n",
            "Epoch 9/20\n",
            "32/32 [==============================] - 0s 11ms/step - loss: 0.7217 - accuracy: 0.5010 - val_loss: 0.6994 - val_accuracy: 0.5234\n",
            "Epoch 10/20\n",
            "32/32 [==============================] - 0s 8ms/step - loss: 0.7312 - accuracy: 0.4961 - val_loss: 0.6926 - val_accuracy: 0.4961\n",
            "Epoch 11/20\n",
            "32/32 [==============================] - 0s 7ms/step - loss: 0.7262 - accuracy: 0.4951 - val_loss: 0.6940 - val_accuracy: 0.5156\n",
            "Epoch 12/20\n",
            "32/32 [==============================] - 0s 9ms/step - loss: 0.7208 - accuracy: 0.5176 - val_loss: 0.7647 - val_accuracy: 0.4961\n",
            "Epoch 13/20\n",
            "32/32 [==============================] - 0s 9ms/step - loss: 0.7263 - accuracy: 0.5049 - val_loss: 0.7102 - val_accuracy: 0.4453\n",
            "Epoch 14/20\n",
            "32/32 [==============================] - 0s 9ms/step - loss: 0.7194 - accuracy: 0.4785 - val_loss: 0.6981 - val_accuracy: 0.5742\n",
            "Epoch 15/20\n",
            "32/32 [==============================] - 0s 9ms/step - loss: 0.7166 - accuracy: 0.4805 - val_loss: 0.6960 - val_accuracy: 0.5391\n",
            "Epoch 16/20\n",
            "32/32 [==============================] - 0s 9ms/step - loss: 0.7072 - accuracy: 0.5195 - val_loss: 0.6953 - val_accuracy: 0.5117\n",
            "Epoch 17/20\n",
            "32/32 [==============================] - 0s 9ms/step - loss: 0.7133 - accuracy: 0.4883 - val_loss: 0.6896 - val_accuracy: 0.5469\n",
            "Epoch 18/20\n",
            "32/32 [==============================] - 0s 9ms/step - loss: 0.7057 - accuracy: 0.5107 - val_loss: 0.6926 - val_accuracy: 0.5469\n",
            "Epoch 19/20\n",
            "32/32 [==============================] - 0s 8ms/step - loss: 0.7176 - accuracy: 0.5068 - val_loss: 0.6952 - val_accuracy: 0.5312\n",
            "Epoch 20/20\n",
            "32/32 [==============================] - 0s 6ms/step - loss: 0.7132 - accuracy: 0.4912 - val_loss: 0.7006 - val_accuracy: 0.5117\n",
            "8/8 [==============================] - 0s 3ms/step - loss: 0.7006 - accuracy: 0.5117\n",
            "Epoch 1/20\n",
            "32/32 [==============================] - 2s 13ms/step - loss: 0.9371 - accuracy: 0.4834 - val_loss: 1.0353 - val_accuracy: 0.4961\n",
            "Epoch 2/20\n",
            "32/32 [==============================] - 0s 6ms/step - loss: 0.8081 - accuracy: 0.5283 - val_loss: 0.7613 - val_accuracy: 0.4922\n",
            "Epoch 3/20\n",
            "32/32 [==============================] - 0s 6ms/step - loss: 0.7681 - accuracy: 0.4990 - val_loss: 0.7074 - val_accuracy: 0.5000\n",
            "Epoch 4/20\n",
            "32/32 [==============================] - 0s 5ms/step - loss: 0.7590 - accuracy: 0.5146 - val_loss: 0.7092 - val_accuracy: 0.5078\n",
            "Epoch 5/20\n",
            "32/32 [==============================] - 0s 5ms/step - loss: 0.7479 - accuracy: 0.5039 - val_loss: 0.6980 - val_accuracy: 0.5039\n",
            "Epoch 6/20\n",
            "32/32 [==============================] - 0s 6ms/step - loss: 0.7442 - accuracy: 0.5098 - val_loss: 0.7012 - val_accuracy: 0.5117\n",
            "Epoch 7/20\n",
            "32/32 [==============================] - 0s 8ms/step - loss: 0.7358 - accuracy: 0.5029 - val_loss: 0.6904 - val_accuracy: 0.5078\n",
            "Epoch 8/20\n",
            "32/32 [==============================] - 0s 5ms/step - loss: 0.7233 - accuracy: 0.5078 - val_loss: 0.6996 - val_accuracy: 0.4922\n",
            "Epoch 9/20\n",
            "32/32 [==============================] - 0s 6ms/step - loss: 0.7157 - accuracy: 0.5244 - val_loss: 0.6918 - val_accuracy: 0.5156\n",
            "Epoch 10/20\n",
            "32/32 [==============================] - 0s 6ms/step - loss: 0.7167 - accuracy: 0.5029 - val_loss: 0.7041 - val_accuracy: 0.4961\n",
            "Epoch 11/20\n",
            "32/32 [==============================] - 0s 6ms/step - loss: 0.7191 - accuracy: 0.5098 - val_loss: 0.7025 - val_accuracy: 0.4961\n",
            "Epoch 12/20\n",
            "32/32 [==============================] - 0s 7ms/step - loss: 0.7206 - accuracy: 0.5166 - val_loss: 0.7010 - val_accuracy: 0.4883\n",
            "Epoch 13/20\n",
            "32/32 [==============================] - 0s 6ms/step - loss: 0.7134 - accuracy: 0.5166 - val_loss: 0.7004 - val_accuracy: 0.4922\n",
            "Epoch 14/20\n",
            "32/32 [==============================] - 0s 5ms/step - loss: 0.7091 - accuracy: 0.5205 - val_loss: 0.6972 - val_accuracy: 0.5273\n",
            "Epoch 15/20\n",
            "32/32 [==============================] - 0s 6ms/step - loss: 0.7273 - accuracy: 0.4873 - val_loss: 0.7104 - val_accuracy: 0.5273\n",
            "Epoch 16/20\n",
            "32/32 [==============================] - 0s 7ms/step - loss: 0.7078 - accuracy: 0.5166 - val_loss: 0.7001 - val_accuracy: 0.5391\n",
            "Epoch 17/20\n",
            "32/32 [==============================] - 0s 7ms/step - loss: 0.7147 - accuracy: 0.5059 - val_loss: 0.6950 - val_accuracy: 0.5078\n",
            "Epoch 18/20\n",
            "32/32 [==============================] - 0s 5ms/step - loss: 0.7034 - accuracy: 0.5146 - val_loss: 0.6908 - val_accuracy: 0.5508\n",
            "Epoch 19/20\n",
            "32/32 [==============================] - 0s 5ms/step - loss: 0.7133 - accuracy: 0.5234 - val_loss: 0.7036 - val_accuracy: 0.5273\n",
            "Epoch 20/20\n",
            "32/32 [==============================] - 0s 6ms/step - loss: 0.7050 - accuracy: 0.5283 - val_loss: 0.6948 - val_accuracy: 0.5352\n",
            "8/8 [==============================] - 0s 3ms/step - loss: 0.6948 - accuracy: 0.5352\n",
            "Epoch 1/20\n",
            "32/32 [==============================] - 2s 14ms/step - loss: 0.8347 - accuracy: 0.5049 - val_loss: 0.7009 - val_accuracy: 0.4844\n",
            "Epoch 2/20\n",
            "32/32 [==============================] - 0s 6ms/step - loss: 0.8011 - accuracy: 0.5020 - val_loss: 0.7184 - val_accuracy: 0.4961\n",
            "Epoch 3/20\n",
            "32/32 [==============================] - 0s 5ms/step - loss: 0.7503 - accuracy: 0.5049 - val_loss: 0.7088 - val_accuracy: 0.4883\n",
            "Epoch 4/20\n",
            "32/32 [==============================] - 0s 5ms/step - loss: 0.7894 - accuracy: 0.4873 - val_loss: 0.6909 - val_accuracy: 0.5469\n",
            "Epoch 5/20\n",
            "32/32 [==============================] - 0s 6ms/step - loss: 0.7525 - accuracy: 0.4971 - val_loss: 0.6937 - val_accuracy: 0.5117\n",
            "Epoch 6/20\n",
            "32/32 [==============================] - 0s 8ms/step - loss: 0.7337 - accuracy: 0.5195 - val_loss: 0.6885 - val_accuracy: 0.5391\n",
            "Epoch 7/20\n",
            "32/32 [==============================] - 0s 9ms/step - loss: 0.7370 - accuracy: 0.5234 - val_loss: 0.6859 - val_accuracy: 0.5352\n",
            "Epoch 8/20\n",
            "32/32 [==============================] - 0s 8ms/step - loss: 0.7284 - accuracy: 0.5312 - val_loss: 0.6927 - val_accuracy: 0.5156\n",
            "Epoch 9/20\n",
            "32/32 [==============================] - 0s 8ms/step - loss: 0.7302 - accuracy: 0.4971 - val_loss: 0.7064 - val_accuracy: 0.5000\n",
            "Epoch 10/20\n",
            "32/32 [==============================] - 0s 8ms/step - loss: 0.7374 - accuracy: 0.5068 - val_loss: 0.6967 - val_accuracy: 0.5000\n",
            "Epoch 11/20\n",
            "32/32 [==============================] - 0s 9ms/step - loss: 0.7310 - accuracy: 0.5107 - val_loss: 0.6880 - val_accuracy: 0.5117\n",
            "Epoch 12/20\n",
            "32/32 [==============================] - 0s 9ms/step - loss: 0.7337 - accuracy: 0.5176 - val_loss: 0.6976 - val_accuracy: 0.5039\n",
            "Epoch 13/20\n",
            "32/32 [==============================] - 0s 8ms/step - loss: 0.7228 - accuracy: 0.5000 - val_loss: 0.6881 - val_accuracy: 0.5234\n",
            "Epoch 14/20\n",
            "32/32 [==============================] - 0s 8ms/step - loss: 0.7320 - accuracy: 0.5029 - val_loss: 0.6937 - val_accuracy: 0.5156\n",
            "Epoch 15/20\n",
            "32/32 [==============================] - 0s 7ms/step - loss: 0.7106 - accuracy: 0.5117 - val_loss: 0.7073 - val_accuracy: 0.5273\n",
            "Epoch 16/20\n",
            "32/32 [==============================] - 0s 9ms/step - loss: 0.7189 - accuracy: 0.5273 - val_loss: 0.7078 - val_accuracy: 0.5117\n",
            "Epoch 17/20\n",
            "32/32 [==============================] - 0s 9ms/step - loss: 0.7216 - accuracy: 0.5059 - val_loss: 0.6965 - val_accuracy: 0.4961\n",
            "Epoch 18/20\n",
            "32/32 [==============================] - 0s 9ms/step - loss: 0.7165 - accuracy: 0.5293 - val_loss: 0.6946 - val_accuracy: 0.5078\n",
            "Epoch 19/20\n",
            "32/32 [==============================] - 0s 9ms/step - loss: 0.7039 - accuracy: 0.5068 - val_loss: 0.6926 - val_accuracy: 0.5156\n",
            "Epoch 20/20\n",
            "32/32 [==============================] - 0s 9ms/step - loss: 0.7109 - accuracy: 0.5293 - val_loss: 0.6954 - val_accuracy: 0.5430\n",
            "8/8 [==============================] - 0s 3ms/step - loss: 0.6954 - accuracy: 0.5430\n",
            "Epoch 1/20\n",
            "32/32 [==============================] - 2s 13ms/step - loss: 0.8690 - accuracy: 0.4844 - val_loss: 0.8628 - val_accuracy: 0.5039\n",
            "Epoch 2/20\n",
            "32/32 [==============================] - 0s 6ms/step - loss: 0.7680 - accuracy: 0.5166 - val_loss: 0.7195 - val_accuracy: 0.4922\n",
            "Epoch 3/20\n",
            "32/32 [==============================] - 0s 6ms/step - loss: 0.7741 - accuracy: 0.4902 - val_loss: 0.6910 - val_accuracy: 0.4922\n",
            "Epoch 4/20\n",
            "32/32 [==============================] - 0s 5ms/step - loss: 0.7390 - accuracy: 0.5283 - val_loss: 0.6924 - val_accuracy: 0.5508\n",
            "Epoch 5/20\n",
            "32/32 [==============================] - 0s 5ms/step - loss: 0.7496 - accuracy: 0.5059 - val_loss: 0.7019 - val_accuracy: 0.5312\n",
            "Epoch 6/20\n",
            "32/32 [==============================] - 0s 5ms/step - loss: 0.7425 - accuracy: 0.5176 - val_loss: 0.6876 - val_accuracy: 0.5352\n",
            "Epoch 7/20\n",
            "32/32 [==============================] - 0s 6ms/step - loss: 0.7441 - accuracy: 0.4951 - val_loss: 0.6980 - val_accuracy: 0.5312\n",
            "Epoch 8/20\n",
            "32/32 [==============================] - 0s 7ms/step - loss: 0.7359 - accuracy: 0.4863 - val_loss: 0.6987 - val_accuracy: 0.5234\n",
            "Epoch 9/20\n",
            "32/32 [==============================] - 0s 6ms/step - loss: 0.7192 - accuracy: 0.4990 - val_loss: 0.7071 - val_accuracy: 0.5195\n",
            "Epoch 10/20\n",
            "32/32 [==============================] - 0s 6ms/step - loss: 0.7249 - accuracy: 0.5098 - val_loss: 0.7241 - val_accuracy: 0.5391\n",
            "Epoch 11/20\n",
            "32/32 [==============================] - 0s 6ms/step - loss: 0.7068 - accuracy: 0.5225 - val_loss: 0.7035 - val_accuracy: 0.5195\n",
            "Epoch 12/20\n",
            "32/32 [==============================] - 0s 7ms/step - loss: 0.7119 - accuracy: 0.4893 - val_loss: 0.6948 - val_accuracy: 0.5586\n",
            "Epoch 13/20\n",
            "32/32 [==============================] - 0s 7ms/step - loss: 0.7121 - accuracy: 0.5244 - val_loss: 0.6889 - val_accuracy: 0.5156\n",
            "Epoch 14/20\n",
            "32/32 [==============================] - 0s 6ms/step - loss: 0.6997 - accuracy: 0.5264 - val_loss: 0.6938 - val_accuracy: 0.5859\n",
            "Epoch 15/20\n",
            "32/32 [==============================] - 0s 5ms/step - loss: 0.7223 - accuracy: 0.4873 - val_loss: 0.6941 - val_accuracy: 0.5195\n",
            "Epoch 16/20\n",
            "32/32 [==============================] - 0s 5ms/step - loss: 0.7177 - accuracy: 0.5312 - val_loss: 0.6863 - val_accuracy: 0.6055\n",
            "Epoch 17/20\n",
            "32/32 [==============================] - 0s 9ms/step - loss: 0.7137 - accuracy: 0.4922 - val_loss: 0.6864 - val_accuracy: 0.5664\n",
            "Epoch 18/20\n",
            "32/32 [==============================] - 0s 9ms/step - loss: 0.7107 - accuracy: 0.5000 - val_loss: 0.6877 - val_accuracy: 0.5547\n",
            "Epoch 19/20\n",
            "32/32 [==============================] - 0s 8ms/step - loss: 0.7079 - accuracy: 0.5195 - val_loss: 0.6843 - val_accuracy: 0.5469\n",
            "Epoch 20/20\n",
            "32/32 [==============================] - 0s 9ms/step - loss: 0.7065 - accuracy: 0.5029 - val_loss: 0.6922 - val_accuracy: 0.5742\n",
            "8/8 [==============================] - 0s 6ms/step - loss: 0.6922 - accuracy: 0.5742\n",
            "Epoch 1/20\n",
            "32/32 [==============================] - 4s 14ms/step - loss: 0.8533 - accuracy: 0.5049 - val_loss: 0.7189 - val_accuracy: 0.5078\n",
            "Epoch 2/20\n",
            "32/32 [==============================] - 0s 6ms/step - loss: 0.7879 - accuracy: 0.4941 - val_loss: 0.6901 - val_accuracy: 0.5430\n",
            "Epoch 3/20\n",
            "32/32 [==============================] - 0s 6ms/step - loss: 0.7664 - accuracy: 0.5020 - val_loss: 0.6880 - val_accuracy: 0.5547\n",
            "Epoch 4/20\n",
            "32/32 [==============================] - 0s 6ms/step - loss: 0.7500 - accuracy: 0.5234 - val_loss: 0.6867 - val_accuracy: 0.5430\n",
            "Epoch 5/20\n",
            "32/32 [==============================] - 0s 6ms/step - loss: 0.7565 - accuracy: 0.4922 - val_loss: 0.6928 - val_accuracy: 0.5664\n",
            "Epoch 6/20\n",
            "32/32 [==============================] - 0s 6ms/step - loss: 0.7304 - accuracy: 0.5186 - val_loss: 0.6897 - val_accuracy: 0.5859\n",
            "Epoch 7/20\n",
            "32/32 [==============================] - 0s 5ms/step - loss: 0.7318 - accuracy: 0.5293 - val_loss: 0.7008 - val_accuracy: 0.5664\n",
            "Epoch 8/20\n",
            "32/32 [==============================] - 0s 6ms/step - loss: 0.7174 - accuracy: 0.5322 - val_loss: 0.6841 - val_accuracy: 0.5898\n",
            "Epoch 9/20\n",
            "32/32 [==============================] - 0s 5ms/step - loss: 0.7238 - accuracy: 0.5225 - val_loss: 0.6943 - val_accuracy: 0.5664\n",
            "Epoch 10/20\n",
            "32/32 [==============================] - 0s 6ms/step - loss: 0.7196 - accuracy: 0.5029 - val_loss: 0.6894 - val_accuracy: 0.5273\n",
            "Epoch 11/20\n",
            "32/32 [==============================] - 0s 6ms/step - loss: 0.7214 - accuracy: 0.5205 - val_loss: 0.6860 - val_accuracy: 0.5625\n",
            "Epoch 12/20\n",
            "32/32 [==============================] - 0s 5ms/step - loss: 0.7233 - accuracy: 0.4980 - val_loss: 0.6887 - val_accuracy: 0.5469\n",
            "Epoch 13/20\n",
            "32/32 [==============================] - 0s 5ms/step - loss: 0.7062 - accuracy: 0.5469 - val_loss: 0.6883 - val_accuracy: 0.5234\n",
            "Epoch 14/20\n",
            "32/32 [==============================] - 0s 6ms/step - loss: 0.7167 - accuracy: 0.5088 - val_loss: 0.6896 - val_accuracy: 0.5430\n",
            "Epoch 15/20\n",
            "32/32 [==============================] - 0s 7ms/step - loss: 0.7024 - accuracy: 0.5293 - val_loss: 0.6918 - val_accuracy: 0.5469\n",
            "Epoch 16/20\n",
            "32/32 [==============================] - 1s 19ms/step - loss: 0.7053 - accuracy: 0.5146 - val_loss: 0.6935 - val_accuracy: 0.5469\n",
            "Epoch 17/20\n",
            "32/32 [==============================] - 0s 15ms/step - loss: 0.7056 - accuracy: 0.5352 - val_loss: 0.6864 - val_accuracy: 0.5508\n",
            "Epoch 18/20\n",
            "32/32 [==============================] - 0s 11ms/step - loss: 0.6993 - accuracy: 0.4990 - val_loss: 0.6906 - val_accuracy: 0.5703\n",
            "Epoch 19/20\n",
            "32/32 [==============================] - 0s 6ms/step - loss: 0.7012 - accuracy: 0.5020 - val_loss: 0.6900 - val_accuracy: 0.5352\n",
            "Epoch 20/20\n",
            "32/32 [==============================] - 0s 7ms/step - loss: 0.7022 - accuracy: 0.5127 - val_loss: 0.6883 - val_accuracy: 0.5469\n",
            "8/8 [==============================] - 0s 3ms/step - loss: 0.6883 - accuracy: 0.5469\n",
            "Epoch 1/20\n",
            "32/32 [==============================] - 2s 14ms/step - loss: 0.8799 - accuracy: 0.5146 - val_loss: 0.6929 - val_accuracy: 0.4922\n",
            "Epoch 2/20\n",
            "32/32 [==============================] - 0s 6ms/step - loss: 0.8265 - accuracy: 0.5010 - val_loss: 0.6950 - val_accuracy: 0.4961\n",
            "Epoch 3/20\n",
            "32/32 [==============================] - 0s 6ms/step - loss: 0.7595 - accuracy: 0.5078 - val_loss: 0.7030 - val_accuracy: 0.4922\n",
            "Epoch 4/20\n",
            "32/32 [==============================] - 0s 5ms/step - loss: 0.7695 - accuracy: 0.5039 - val_loss: 0.7126 - val_accuracy: 0.5156\n",
            "Epoch 5/20\n",
            "32/32 [==============================] - 0s 5ms/step - loss: 0.7501 - accuracy: 0.5176 - val_loss: 0.6889 - val_accuracy: 0.5391\n",
            "Epoch 6/20\n",
            "32/32 [==============================] - 0s 6ms/step - loss: 0.7512 - accuracy: 0.5205 - val_loss: 0.6938 - val_accuracy: 0.5312\n",
            "Epoch 7/20\n",
            "32/32 [==============================] - 0s 5ms/step - loss: 0.7340 - accuracy: 0.5225 - val_loss: 0.6887 - val_accuracy: 0.5312\n",
            "Epoch 8/20\n",
            "32/32 [==============================] - 0s 7ms/step - loss: 0.7536 - accuracy: 0.4873 - val_loss: 0.6910 - val_accuracy: 0.5469\n",
            "Epoch 9/20\n",
            "32/32 [==============================] - 0s 6ms/step - loss: 0.7233 - accuracy: 0.5322 - val_loss: 0.7015 - val_accuracy: 0.5078\n",
            "Epoch 10/20\n",
            "32/32 [==============================] - 0s 6ms/step - loss: 0.7283 - accuracy: 0.5068 - val_loss: 0.7132 - val_accuracy: 0.5078\n",
            "Epoch 11/20\n",
            "32/32 [==============================] - 0s 6ms/step - loss: 0.7195 - accuracy: 0.5186 - val_loss: 0.6882 - val_accuracy: 0.5508\n",
            "Epoch 12/20\n",
            "32/32 [==============================] - 0s 8ms/step - loss: 0.7043 - accuracy: 0.5342 - val_loss: 0.6980 - val_accuracy: 0.5078\n",
            "Epoch 13/20\n",
            "32/32 [==============================] - 0s 10ms/step - loss: 0.7323 - accuracy: 0.5039 - val_loss: 0.6785 - val_accuracy: 0.5781\n",
            "Epoch 14/20\n",
            "32/32 [==============================] - 0s 8ms/step - loss: 0.7330 - accuracy: 0.5225 - val_loss: 0.6944 - val_accuracy: 0.5117\n",
            "Epoch 15/20\n",
            "32/32 [==============================] - 0s 8ms/step - loss: 0.7110 - accuracy: 0.5078 - val_loss: 0.6942 - val_accuracy: 0.5195\n",
            "Epoch 16/20\n",
            "32/32 [==============================] - 0s 8ms/step - loss: 0.7255 - accuracy: 0.4941 - val_loss: 0.6892 - val_accuracy: 0.5430\n",
            "Epoch 17/20\n",
            "32/32 [==============================] - 0s 11ms/step - loss: 0.7115 - accuracy: 0.5000 - val_loss: 0.6970 - val_accuracy: 0.5273\n",
            "Epoch 18/20\n",
            "32/32 [==============================] - 0s 8ms/step - loss: 0.7132 - accuracy: 0.4990 - val_loss: 0.6931 - val_accuracy: 0.5234\n",
            "Epoch 19/20\n",
            "32/32 [==============================] - 0s 8ms/step - loss: 0.7197 - accuracy: 0.5088 - val_loss: 0.6834 - val_accuracy: 0.5273\n",
            "Epoch 20/20\n",
            "32/32 [==============================] - 0s 8ms/step - loss: 0.7129 - accuracy: 0.4785 - val_loss: 0.6841 - val_accuracy: 0.5430\n",
            "8/8 [==============================] - 0s 5ms/step - loss: 0.6841 - accuracy: 0.5430\n",
            "Epoch 1/20\n",
            "32/32 [==============================] - 3s 15ms/step - loss: 0.8955 - accuracy: 0.4961 - val_loss: 0.7160 - val_accuracy: 0.5078\n",
            "Epoch 2/20\n",
            "32/32 [==============================] - 0s 5ms/step - loss: 0.8520 - accuracy: 0.5039 - val_loss: 0.7005 - val_accuracy: 0.5078\n",
            "Epoch 3/20\n",
            "32/32 [==============================] - 0s 6ms/step - loss: 0.8205 - accuracy: 0.4785 - val_loss: 0.7473 - val_accuracy: 0.5078\n",
            "Epoch 4/20\n",
            "32/32 [==============================] - 0s 5ms/step - loss: 0.8030 - accuracy: 0.4980 - val_loss: 0.6814 - val_accuracy: 0.5664\n",
            "Epoch 5/20\n",
            "32/32 [==============================] - 0s 6ms/step - loss: 0.7575 - accuracy: 0.5244 - val_loss: 0.6824 - val_accuracy: 0.5547\n",
            "Epoch 6/20\n",
            "32/32 [==============================] - 0s 6ms/step - loss: 0.7535 - accuracy: 0.5342 - val_loss: 0.6936 - val_accuracy: 0.5234\n",
            "Epoch 7/20\n",
            "32/32 [==============================] - 0s 7ms/step - loss: 0.7528 - accuracy: 0.5352 - val_loss: 0.7840 - val_accuracy: 0.5195\n",
            "Epoch 8/20\n",
            "32/32 [==============================] - 0s 6ms/step - loss: 0.7900 - accuracy: 0.5293 - val_loss: 0.6920 - val_accuracy: 0.5195\n",
            "Epoch 9/20\n",
            "32/32 [==============================] - 0s 5ms/step - loss: 0.7647 - accuracy: 0.5234 - val_loss: 0.7409 - val_accuracy: 0.5391\n",
            "Epoch 10/20\n",
            "32/32 [==============================] - 0s 6ms/step - loss: 0.7500 - accuracy: 0.5195 - val_loss: 0.7056 - val_accuracy: 0.5078\n",
            "Epoch 11/20\n",
            "32/32 [==============================] - 0s 6ms/step - loss: 0.7413 - accuracy: 0.5518 - val_loss: 0.6857 - val_accuracy: 0.5430\n",
            "Epoch 12/20\n",
            "32/32 [==============================] - 0s 7ms/step - loss: 0.7187 - accuracy: 0.5537 - val_loss: 0.6929 - val_accuracy: 0.5000\n",
            "Epoch 13/20\n",
            "32/32 [==============================] - 0s 6ms/step - loss: 0.7281 - accuracy: 0.5244 - val_loss: 0.7076 - val_accuracy: 0.5078\n",
            "Epoch 14/20\n",
            "32/32 [==============================] - 0s 6ms/step - loss: 0.7305 - accuracy: 0.5420 - val_loss: 0.6985 - val_accuracy: 0.5078\n",
            "Epoch 15/20\n",
            "32/32 [==============================] - 0s 6ms/step - loss: 0.7147 - accuracy: 0.5479 - val_loss: 0.7062 - val_accuracy: 0.5273\n",
            "Epoch 16/20\n",
            "32/32 [==============================] - 0s 6ms/step - loss: 0.7150 - accuracy: 0.5146 - val_loss: 0.6914 - val_accuracy: 0.5586\n",
            "Epoch 17/20\n",
            "32/32 [==============================] - 0s 8ms/step - loss: 0.7152 - accuracy: 0.5244 - val_loss: 0.6892 - val_accuracy: 0.5469\n",
            "Epoch 18/20\n",
            "32/32 [==============================] - 0s 6ms/step - loss: 0.7072 - accuracy: 0.5332 - val_loss: 0.7025 - val_accuracy: 0.4961\n",
            "Epoch 19/20\n",
            "32/32 [==============================] - 0s 5ms/step - loss: 0.7097 - accuracy: 0.5293 - val_loss: 0.7093 - val_accuracy: 0.5352\n",
            "Epoch 20/20\n",
            "32/32 [==============================] - 0s 6ms/step - loss: 0.7218 - accuracy: 0.5225 - val_loss: 0.7043 - val_accuracy: 0.5117\n",
            "8/8 [==============================] - 0s 3ms/step - loss: 0.7043 - accuracy: 0.5117\n",
            "Epoch 1/20\n",
            "32/32 [==============================] - 2s 14ms/step - loss: 0.8385 - accuracy: 0.5215 - val_loss: 0.6933 - val_accuracy: 0.4922\n",
            "Epoch 2/20\n",
            "32/32 [==============================] - 0s 6ms/step - loss: 0.7738 - accuracy: 0.5137 - val_loss: 0.7078 - val_accuracy: 0.5391\n",
            "Epoch 3/20\n",
            "32/32 [==============================] - 0s 6ms/step - loss: 0.7616 - accuracy: 0.4775 - val_loss: 0.6978 - val_accuracy: 0.4961\n",
            "Epoch 4/20\n",
            "32/32 [==============================] - 0s 5ms/step - loss: 0.7865 - accuracy: 0.4805 - val_loss: 0.6918 - val_accuracy: 0.5078\n",
            "Epoch 5/20\n",
            "32/32 [==============================] - 0s 6ms/step - loss: 0.7486 - accuracy: 0.4990 - val_loss: 0.7009 - val_accuracy: 0.5156\n",
            "Epoch 6/20\n",
            "32/32 [==============================] - 0s 8ms/step - loss: 0.7496 - accuracy: 0.5088 - val_loss: 0.6935 - val_accuracy: 0.4688\n",
            "Epoch 7/20\n",
            "32/32 [==============================] - 0s 7ms/step - loss: 0.7211 - accuracy: 0.5215 - val_loss: 0.6935 - val_accuracy: 0.4805\n",
            "Epoch 8/20\n",
            "32/32 [==============================] - 0s 5ms/step - loss: 0.7419 - accuracy: 0.4834 - val_loss: 0.6950 - val_accuracy: 0.4766\n",
            "Epoch 9/20\n",
            "32/32 [==============================] - 0s 7ms/step - loss: 0.7400 - accuracy: 0.4912 - val_loss: 0.6900 - val_accuracy: 0.5117\n",
            "Epoch 10/20\n",
            "32/32 [==============================] - 0s 9ms/step - loss: 0.7286 - accuracy: 0.5039 - val_loss: 0.6948 - val_accuracy: 0.5039\n",
            "Epoch 11/20\n",
            "32/32 [==============================] - 0s 9ms/step - loss: 0.7295 - accuracy: 0.4941 - val_loss: 0.7029 - val_accuracy: 0.5078\n",
            "Epoch 12/20\n",
            "32/32 [==============================] - 0s 10ms/step - loss: 0.7224 - accuracy: 0.5049 - val_loss: 0.6977 - val_accuracy: 0.5195\n",
            "Epoch 13/20\n",
            "32/32 [==============================] - 0s 9ms/step - loss: 0.7203 - accuracy: 0.5029 - val_loss: 0.6946 - val_accuracy: 0.5195\n",
            "Epoch 14/20\n",
            "32/32 [==============================] - 0s 10ms/step - loss: 0.7295 - accuracy: 0.4990 - val_loss: 0.6994 - val_accuracy: 0.5195\n",
            "Epoch 15/20\n",
            "32/32 [==============================] - 0s 8ms/step - loss: 0.7124 - accuracy: 0.5068 - val_loss: 0.7013 - val_accuracy: 0.5117\n",
            "Epoch 16/20\n",
            "32/32 [==============================] - 0s 9ms/step - loss: 0.6984 - accuracy: 0.5244 - val_loss: 0.6980 - val_accuracy: 0.5195\n",
            "Epoch 17/20\n",
            "32/32 [==============================] - 0s 10ms/step - loss: 0.7154 - accuracy: 0.5186 - val_loss: 0.6949 - val_accuracy: 0.5156\n",
            "Epoch 18/20\n",
            "32/32 [==============================] - 0s 9ms/step - loss: 0.6989 - accuracy: 0.5420 - val_loss: 0.6932 - val_accuracy: 0.5078\n",
            "Epoch 19/20\n",
            "32/32 [==============================] - 0s 10ms/step - loss: 0.7050 - accuracy: 0.5049 - val_loss: 0.6976 - val_accuracy: 0.4883\n",
            "Epoch 20/20\n",
            "32/32 [==============================] - 0s 8ms/step - loss: 0.7019 - accuracy: 0.5215 - val_loss: 0.7043 - val_accuracy: 0.4922\n",
            "8/8 [==============================] - 0s 3ms/step - loss: 0.7043 - accuracy: 0.4922\n",
            "Epoch 1/20\n",
            "32/32 [==============================] - 2s 14ms/step - loss: 0.8070 - accuracy: 0.5176 - val_loss: 0.6990 - val_accuracy: 0.5273\n",
            "Epoch 2/20\n",
            "32/32 [==============================] - 0s 6ms/step - loss: 0.7947 - accuracy: 0.5059 - val_loss: 0.6961 - val_accuracy: 0.5352\n",
            "Epoch 3/20\n",
            "32/32 [==============================] - 0s 6ms/step - loss: 0.7563 - accuracy: 0.5088 - val_loss: 0.6955 - val_accuracy: 0.5469\n",
            "Epoch 4/20\n",
            "32/32 [==============================] - 0s 6ms/step - loss: 0.7285 - accuracy: 0.5322 - val_loss: 0.7014 - val_accuracy: 0.5391\n",
            "Epoch 5/20\n",
            "32/32 [==============================] - 0s 7ms/step - loss: 0.7307 - accuracy: 0.5068 - val_loss: 0.6993 - val_accuracy: 0.5352\n",
            "Epoch 6/20\n",
            "32/32 [==============================] - 0s 5ms/step - loss: 0.7351 - accuracy: 0.4951 - val_loss: 0.6933 - val_accuracy: 0.5391\n",
            "Epoch 7/20\n",
            "32/32 [==============================] - 0s 5ms/step - loss: 0.7302 - accuracy: 0.5039 - val_loss: 0.6923 - val_accuracy: 0.5312\n",
            "Epoch 8/20\n",
            "32/32 [==============================] - 0s 7ms/step - loss: 0.7295 - accuracy: 0.5303 - val_loss: 0.7081 - val_accuracy: 0.5000\n",
            "Epoch 9/20\n",
            "32/32 [==============================] - 0s 6ms/step - loss: 0.7395 - accuracy: 0.4863 - val_loss: 0.6967 - val_accuracy: 0.5234\n",
            "Epoch 10/20\n",
            "32/32 [==============================] - 0s 6ms/step - loss: 0.7348 - accuracy: 0.5137 - val_loss: 0.7061 - val_accuracy: 0.5078\n",
            "Epoch 11/20\n",
            "32/32 [==============================] - 0s 6ms/step - loss: 0.7296 - accuracy: 0.5098 - val_loss: 0.6967 - val_accuracy: 0.5156\n",
            "Epoch 12/20\n",
            "32/32 [==============================] - 0s 6ms/step - loss: 0.7248 - accuracy: 0.5020 - val_loss: 0.7082 - val_accuracy: 0.4961\n",
            "Epoch 13/20\n",
            "32/32 [==============================] - 0s 6ms/step - loss: 0.7270 - accuracy: 0.5225 - val_loss: 0.6990 - val_accuracy: 0.5469\n",
            "Epoch 14/20\n",
            "32/32 [==============================] - 0s 6ms/step - loss: 0.7168 - accuracy: 0.5342 - val_loss: 0.7445 - val_accuracy: 0.4609\n",
            "Epoch 15/20\n",
            "32/32 [==============================] - 0s 6ms/step - loss: 0.7245 - accuracy: 0.5146 - val_loss: 0.7032 - val_accuracy: 0.5234\n",
            "Epoch 16/20\n",
            "32/32 [==============================] - 0s 5ms/step - loss: 0.7205 - accuracy: 0.4961 - val_loss: 0.7073 - val_accuracy: 0.5078\n",
            "Epoch 17/20\n",
            "32/32 [==============================] - 0s 6ms/step - loss: 0.7104 - accuracy: 0.5000 - val_loss: 0.7044 - val_accuracy: 0.5000\n",
            "Epoch 18/20\n",
            "32/32 [==============================] - 0s 6ms/step - loss: 0.7187 - accuracy: 0.5078 - val_loss: 0.6935 - val_accuracy: 0.5234\n",
            "Epoch 19/20\n",
            "32/32 [==============================] - 0s 10ms/step - loss: 0.6966 - accuracy: 0.5186 - val_loss: 0.7031 - val_accuracy: 0.5078\n",
            "Epoch 20/20\n",
            "32/32 [==============================] - 0s 10ms/step - loss: 0.7008 - accuracy: 0.5283 - val_loss: 0.6975 - val_accuracy: 0.5195\n",
            "8/8 [==============================] - 0s 5ms/step - loss: 0.6975 - accuracy: 0.5195\n",
            "Epoch 1/20\n",
            "32/32 [==============================] - 3s 18ms/step - loss: 0.9892 - accuracy: 0.4717 - val_loss: 0.7240 - val_accuracy: 0.5430\n",
            "Epoch 2/20\n",
            "32/32 [==============================] - 0s 5ms/step - loss: 0.8406 - accuracy: 0.4971 - val_loss: 0.6943 - val_accuracy: 0.5430\n",
            "Epoch 3/20\n",
            "32/32 [==============================] - 0s 5ms/step - loss: 0.7857 - accuracy: 0.4951 - val_loss: 0.6886 - val_accuracy: 0.5352\n",
            "Epoch 4/20\n",
            "32/32 [==============================] - 0s 6ms/step - loss: 0.7849 - accuracy: 0.5234 - val_loss: 0.6891 - val_accuracy: 0.5156\n",
            "Epoch 5/20\n",
            "32/32 [==============================] - 0s 6ms/step - loss: 0.7769 - accuracy: 0.4971 - val_loss: 0.7135 - val_accuracy: 0.5469\n",
            "Epoch 6/20\n",
            "32/32 [==============================] - 0s 5ms/step - loss: 0.7671 - accuracy: 0.5205 - val_loss: 0.7186 - val_accuracy: 0.5430\n",
            "Epoch 7/20\n",
            "32/32 [==============================] - 0s 5ms/step - loss: 0.7607 - accuracy: 0.5098 - val_loss: 0.7012 - val_accuracy: 0.5156\n",
            "Epoch 8/20\n",
            "32/32 [==============================] - 0s 5ms/step - loss: 0.7334 - accuracy: 0.5186 - val_loss: 0.7066 - val_accuracy: 0.5156\n",
            "Epoch 9/20\n",
            "32/32 [==============================] - 0s 5ms/step - loss: 0.7551 - accuracy: 0.5195 - val_loss: 0.6892 - val_accuracy: 0.5352\n",
            "Epoch 10/20\n",
            "32/32 [==============================] - 0s 7ms/step - loss: 0.7246 - accuracy: 0.5146 - val_loss: 0.7043 - val_accuracy: 0.5430\n",
            "Epoch 11/20\n",
            "32/32 [==============================] - 0s 6ms/step - loss: 0.7248 - accuracy: 0.5068 - val_loss: 0.6957 - val_accuracy: 0.5586\n",
            "Epoch 12/20\n",
            "32/32 [==============================] - 0s 5ms/step - loss: 0.7470 - accuracy: 0.4873 - val_loss: 0.7133 - val_accuracy: 0.5156\n",
            "Epoch 13/20\n",
            "32/32 [==============================] - 0s 5ms/step - loss: 0.7395 - accuracy: 0.5039 - val_loss: 0.7088 - val_accuracy: 0.5195\n",
            "Epoch 14/20\n",
            "32/32 [==============================] - 0s 5ms/step - loss: 0.7238 - accuracy: 0.5264 - val_loss: 0.7001 - val_accuracy: 0.5312\n",
            "Epoch 15/20\n",
            "32/32 [==============================] - 0s 7ms/step - loss: 0.7077 - accuracy: 0.5156 - val_loss: 0.7034 - val_accuracy: 0.5312\n",
            "Epoch 16/20\n",
            "32/32 [==============================] - 0s 5ms/step - loss: 0.7252 - accuracy: 0.5137 - val_loss: 0.6889 - val_accuracy: 0.5703\n",
            "Epoch 17/20\n",
            "32/32 [==============================] - 0s 5ms/step - loss: 0.7163 - accuracy: 0.5049 - val_loss: 0.7003 - val_accuracy: 0.5352\n",
            "Epoch 18/20\n",
            "32/32 [==============================] - 0s 5ms/step - loss: 0.7105 - accuracy: 0.5400 - val_loss: 0.6943 - val_accuracy: 0.5391\n",
            "Epoch 19/20\n",
            "32/32 [==============================] - 0s 5ms/step - loss: 0.7137 - accuracy: 0.5283 - val_loss: 0.6972 - val_accuracy: 0.5508\n",
            "Epoch 20/20\n",
            "32/32 [==============================] - 0s 6ms/step - loss: 0.7079 - accuracy: 0.5312 - val_loss: 0.6897 - val_accuracy: 0.5430\n",
            "8/8 [==============================] - 0s 3ms/step - loss: 0.6897 - accuracy: 0.5430\n",
            "Epoch 1/20\n",
            "32/32 [==============================] - 2s 14ms/step - loss: 0.8269 - accuracy: 0.5020 - val_loss: 0.6955 - val_accuracy: 0.5312\n",
            "Epoch 2/20\n",
            "32/32 [==============================] - 0s 5ms/step - loss: 0.7803 - accuracy: 0.5176 - val_loss: 0.7172 - val_accuracy: 0.5078\n",
            "Epoch 3/20\n",
            "32/32 [==============================] - 0s 5ms/step - loss: 0.7702 - accuracy: 0.5234 - val_loss: 0.6915 - val_accuracy: 0.5078\n",
            "Epoch 4/20\n",
            "32/32 [==============================] - 0s 7ms/step - loss: 0.7698 - accuracy: 0.5244 - val_loss: 0.6896 - val_accuracy: 0.5391\n",
            "Epoch 5/20\n",
            "32/32 [==============================] - 0s 6ms/step - loss: 0.7597 - accuracy: 0.5303 - val_loss: 0.6921 - val_accuracy: 0.5352\n",
            "Epoch 6/20\n",
            "32/32 [==============================] - 0s 5ms/step - loss: 0.7402 - accuracy: 0.4980 - val_loss: 0.6910 - val_accuracy: 0.5430\n",
            "Epoch 7/20\n",
            "32/32 [==============================] - 0s 5ms/step - loss: 0.7101 - accuracy: 0.5234 - val_loss: 0.6975 - val_accuracy: 0.5156\n",
            "Epoch 8/20\n",
            "32/32 [==============================] - 0s 6ms/step - loss: 0.7244 - accuracy: 0.5273 - val_loss: 0.6948 - val_accuracy: 0.5117\n",
            "Epoch 9/20\n",
            "32/32 [==============================] - 0s 8ms/step - loss: 0.7192 - accuracy: 0.5303 - val_loss: 0.7013 - val_accuracy: 0.5078\n",
            "Epoch 10/20\n",
            "32/32 [==============================] - 0s 6ms/step - loss: 0.7454 - accuracy: 0.5225 - val_loss: 0.6988 - val_accuracy: 0.5000\n",
            "Epoch 11/20\n",
            "32/32 [==============================] - 0s 5ms/step - loss: 0.7258 - accuracy: 0.5195 - val_loss: 0.7122 - val_accuracy: 0.5078\n",
            "Epoch 12/20\n",
            "32/32 [==============================] - 0s 5ms/step - loss: 0.7159 - accuracy: 0.5244 - val_loss: 0.6997 - val_accuracy: 0.5039\n",
            "Epoch 13/20\n",
            "32/32 [==============================] - 0s 6ms/step - loss: 0.7156 - accuracy: 0.5264 - val_loss: 0.6960 - val_accuracy: 0.5117\n",
            "Epoch 14/20\n",
            "32/32 [==============================] - 0s 6ms/step - loss: 0.7250 - accuracy: 0.5127 - val_loss: 0.7076 - val_accuracy: 0.5078\n",
            "Epoch 15/20\n",
            "32/32 [==============================] - 0s 7ms/step - loss: 0.7012 - accuracy: 0.5254 - val_loss: 0.7053 - val_accuracy: 0.5039\n",
            "Epoch 16/20\n",
            "32/32 [==============================] - 0s 6ms/step - loss: 0.7183 - accuracy: 0.5166 - val_loss: 0.7054 - val_accuracy: 0.5039\n",
            "Epoch 17/20\n",
            "32/32 [==============================] - 0s 6ms/step - loss: 0.7123 - accuracy: 0.5107 - val_loss: 0.7020 - val_accuracy: 0.5039\n",
            "Epoch 18/20\n",
            "32/32 [==============================] - 0s 5ms/step - loss: 0.7212 - accuracy: 0.5039 - val_loss: 0.7056 - val_accuracy: 0.5078\n",
            "Epoch 19/20\n",
            "32/32 [==============================] - 0s 6ms/step - loss: 0.7054 - accuracy: 0.5254 - val_loss: 0.6988 - val_accuracy: 0.5117\n",
            "Epoch 20/20\n",
            "32/32 [==============================] - 0s 8ms/step - loss: 0.6926 - accuracy: 0.5498 - val_loss: 0.7162 - val_accuracy: 0.5078\n",
            "8/8 [==============================] - 0s 4ms/step - loss: 0.7162 - accuracy: 0.5078\n",
            "         frontal    central   parietal  occipital\n",
            "theta  44.921875  50.000000  55.468750  53.906250\n",
            "alpha  48.046875  51.171875  53.515625  54.296875\n",
            "beta   57.421875  54.687500  54.296875  51.171875\n",
            "gamma  49.218750  51.953125  54.296875  50.781250\n"
          ]
        }
      ]
    },
    {
      "cell_type": "code",
      "source": [
        "print_accuracy(\"valence\",\"cnn\")"
      ],
      "metadata": {
        "colab": {
          "base_uri": "https://localhost:8080/"
        },
        "id": "2UVdNx3SxWxT",
        "outputId": "ac4f4dff-2cf8-4a7c-8767-0b0ceb7b5316"
      },
      "execution_count": 86,
      "outputs": [
        {
          "output_type": "stream",
          "name": "stdout",
          "text": [
            "Epoch 1/20\n",
            "32/32 [==============================] - 2s 14ms/step - loss: 0.8868 - accuracy: 0.5049 - val_loss: 0.7863 - val_accuracy: 0.4531\n",
            "Epoch 2/20\n",
            "32/32 [==============================] - 0s 5ms/step - loss: 0.7809 - accuracy: 0.5078 - val_loss: 0.7168 - val_accuracy: 0.4805\n",
            "Epoch 3/20\n",
            "32/32 [==============================] - 0s 5ms/step - loss: 0.7392 - accuracy: 0.5293 - val_loss: 0.7170 - val_accuracy: 0.4961\n",
            "Epoch 4/20\n",
            "32/32 [==============================] - 0s 6ms/step - loss: 0.7491 - accuracy: 0.5225 - val_loss: 0.7221 - val_accuracy: 0.4531\n",
            "Epoch 5/20\n",
            "32/32 [==============================] - 0s 5ms/step - loss: 0.7515 - accuracy: 0.4805 - val_loss: 0.7312 - val_accuracy: 0.4492\n",
            "Epoch 6/20\n",
            "32/32 [==============================] - 0s 5ms/step - loss: 0.7495 - accuracy: 0.4893 - val_loss: 0.7339 - val_accuracy: 0.5000\n",
            "Epoch 7/20\n",
            "32/32 [==============================] - 0s 5ms/step - loss: 0.7336 - accuracy: 0.5068 - val_loss: 0.7358 - val_accuracy: 0.5078\n",
            "Epoch 8/20\n",
            "32/32 [==============================] - 0s 5ms/step - loss: 0.7160 - accuracy: 0.5107 - val_loss: 0.7001 - val_accuracy: 0.5117\n",
            "Epoch 9/20\n",
            "32/32 [==============================] - 0s 5ms/step - loss: 0.7226 - accuracy: 0.5244 - val_loss: 0.7084 - val_accuracy: 0.5078\n",
            "Epoch 10/20\n",
            "32/32 [==============================] - 0s 6ms/step - loss: 0.7209 - accuracy: 0.5127 - val_loss: 0.6891 - val_accuracy: 0.5234\n",
            "Epoch 11/20\n",
            "32/32 [==============================] - 0s 5ms/step - loss: 0.7264 - accuracy: 0.5195 - val_loss: 0.6876 - val_accuracy: 0.5352\n",
            "Epoch 12/20\n",
            "32/32 [==============================] - 0s 5ms/step - loss: 0.7269 - accuracy: 0.5029 - val_loss: 0.6997 - val_accuracy: 0.5117\n",
            "Epoch 13/20\n",
            "32/32 [==============================] - 0s 5ms/step - loss: 0.7005 - accuracy: 0.5352 - val_loss: 0.7200 - val_accuracy: 0.5039\n",
            "Epoch 14/20\n",
            "32/32 [==============================] - 0s 5ms/step - loss: 0.7150 - accuracy: 0.5127 - val_loss: 0.7092 - val_accuracy: 0.5078\n",
            "Epoch 15/20\n",
            "32/32 [==============================] - 0s 6ms/step - loss: 0.7115 - accuracy: 0.5059 - val_loss: 0.6981 - val_accuracy: 0.5156\n",
            "Epoch 16/20\n",
            "32/32 [==============================] - 0s 5ms/step - loss: 0.7104 - accuracy: 0.5215 - val_loss: 0.6922 - val_accuracy: 0.5117\n",
            "Epoch 17/20\n",
            "32/32 [==============================] - 0s 5ms/step - loss: 0.7200 - accuracy: 0.4990 - val_loss: 0.7024 - val_accuracy: 0.5117\n",
            "Epoch 18/20\n",
            "32/32 [==============================] - 0s 5ms/step - loss: 0.7023 - accuracy: 0.5244 - val_loss: 0.6945 - val_accuracy: 0.5234\n",
            "Epoch 19/20\n",
            "32/32 [==============================] - 0s 5ms/step - loss: 0.6986 - accuracy: 0.5293 - val_loss: 0.6943 - val_accuracy: 0.5117\n",
            "Epoch 20/20\n",
            "32/32 [==============================] - 0s 5ms/step - loss: 0.6950 - accuracy: 0.5361 - val_loss: 0.6993 - val_accuracy: 0.5078\n",
            "8/8 [==============================] - 0s 3ms/step - loss: 0.6993 - accuracy: 0.5078\n",
            "Epoch 1/20\n",
            "32/32 [==============================] - 2s 13ms/step - loss: 0.8046 - accuracy: 0.5000 - val_loss: 0.7131 - val_accuracy: 0.5078\n",
            "Epoch 2/20\n",
            "32/32 [==============================] - 0s 5ms/step - loss: 0.7718 - accuracy: 0.4873 - val_loss: 0.7223 - val_accuracy: 0.4805\n",
            "Epoch 3/20\n",
            "32/32 [==============================] - 0s 5ms/step - loss: 0.7463 - accuracy: 0.5225 - val_loss: 0.6937 - val_accuracy: 0.4883\n",
            "Epoch 4/20\n",
            "32/32 [==============================] - 0s 5ms/step - loss: 0.7113 - accuracy: 0.5439 - val_loss: 0.6914 - val_accuracy: 0.4961\n",
            "Epoch 5/20\n",
            "32/32 [==============================] - 0s 6ms/step - loss: 0.7351 - accuracy: 0.5303 - val_loss: 0.6960 - val_accuracy: 0.4805\n",
            "Epoch 6/20\n",
            "32/32 [==============================] - 0s 5ms/step - loss: 0.7271 - accuracy: 0.5195 - val_loss: 0.6933 - val_accuracy: 0.5273\n",
            "Epoch 7/20\n",
            "32/32 [==============================] - 0s 5ms/step - loss: 0.7211 - accuracy: 0.5322 - val_loss: 0.6954 - val_accuracy: 0.4609\n",
            "Epoch 8/20\n",
            "32/32 [==============================] - 0s 5ms/step - loss: 0.7348 - accuracy: 0.5059 - val_loss: 0.6895 - val_accuracy: 0.5117\n",
            "Epoch 9/20\n",
            "32/32 [==============================] - 0s 6ms/step - loss: 0.7294 - accuracy: 0.5137 - val_loss: 0.6952 - val_accuracy: 0.5039\n",
            "Epoch 10/20\n",
            "32/32 [==============================] - 0s 7ms/step - loss: 0.7327 - accuracy: 0.5049 - val_loss: 0.6939 - val_accuracy: 0.5234\n",
            "Epoch 11/20\n",
            "32/32 [==============================] - 0s 9ms/step - loss: 0.7206 - accuracy: 0.5264 - val_loss: 0.6945 - val_accuracy: 0.4688\n",
            "Epoch 12/20\n",
            "32/32 [==============================] - 0s 9ms/step - loss: 0.7211 - accuracy: 0.4980 - val_loss: 0.6940 - val_accuracy: 0.4883\n",
            "Epoch 13/20\n",
            "32/32 [==============================] - 0s 9ms/step - loss: 0.7150 - accuracy: 0.5107 - val_loss: 0.6955 - val_accuracy: 0.5234\n",
            "Epoch 14/20\n",
            "32/32 [==============================] - 0s 8ms/step - loss: 0.7148 - accuracy: 0.5098 - val_loss: 0.6915 - val_accuracy: 0.5078\n",
            "Epoch 15/20\n",
            "32/32 [==============================] - 0s 8ms/step - loss: 0.7170 - accuracy: 0.5186 - val_loss: 0.6942 - val_accuracy: 0.4688\n",
            "Epoch 16/20\n",
            "32/32 [==============================] - 0s 8ms/step - loss: 0.7194 - accuracy: 0.5088 - val_loss: 0.6943 - val_accuracy: 0.5039\n",
            "Epoch 17/20\n",
            "32/32 [==============================] - 0s 8ms/step - loss: 0.6993 - accuracy: 0.5215 - val_loss: 0.6990 - val_accuracy: 0.4727\n",
            "Epoch 18/20\n",
            "32/32 [==============================] - 0s 8ms/step - loss: 0.7140 - accuracy: 0.4932 - val_loss: 0.6930 - val_accuracy: 0.5195\n",
            "Epoch 19/20\n",
            "32/32 [==============================] - 0s 7ms/step - loss: 0.6958 - accuracy: 0.5215 - val_loss: 0.6922 - val_accuracy: 0.5039\n",
            "Epoch 20/20\n",
            "32/32 [==============================] - 0s 9ms/step - loss: 0.7106 - accuracy: 0.5166 - val_loss: 0.6898 - val_accuracy: 0.5195\n",
            "8/8 [==============================] - 0s 4ms/step - loss: 0.6898 - accuracy: 0.5195\n",
            "Epoch 1/20\n",
            "32/32 [==============================] - 2s 13ms/step - loss: 0.8789 - accuracy: 0.5166 - val_loss: 0.7146 - val_accuracy: 0.5430\n",
            "Epoch 2/20\n",
            "32/32 [==============================] - 0s 6ms/step - loss: 0.7926 - accuracy: 0.4834 - val_loss: 0.7698 - val_accuracy: 0.5430\n",
            "Epoch 3/20\n",
            "32/32 [==============================] - 0s 5ms/step - loss: 0.8000 - accuracy: 0.4902 - val_loss: 0.7149 - val_accuracy: 0.5352\n",
            "Epoch 4/20\n",
            "32/32 [==============================] - 0s 5ms/step - loss: 0.7589 - accuracy: 0.5098 - val_loss: 0.6880 - val_accuracy: 0.5273\n",
            "Epoch 5/20\n",
            "32/32 [==============================] - 0s 5ms/step - loss: 0.7506 - accuracy: 0.5293 - val_loss: 0.7028 - val_accuracy: 0.5391\n",
            "Epoch 6/20\n",
            "32/32 [==============================] - 0s 5ms/step - loss: 0.7398 - accuracy: 0.5137 - val_loss: 0.6882 - val_accuracy: 0.5195\n",
            "Epoch 7/20\n",
            "32/32 [==============================] - 0s 5ms/step - loss: 0.7261 - accuracy: 0.5264 - val_loss: 0.6884 - val_accuracy: 0.5273\n",
            "Epoch 8/20\n",
            "32/32 [==============================] - 0s 7ms/step - loss: 0.7264 - accuracy: 0.5361 - val_loss: 0.6864 - val_accuracy: 0.5547\n",
            "Epoch 9/20\n",
            "32/32 [==============================] - 0s 5ms/step - loss: 0.7278 - accuracy: 0.5283 - val_loss: 0.6898 - val_accuracy: 0.5195\n",
            "Epoch 10/20\n",
            "32/32 [==============================] - 0s 5ms/step - loss: 0.7495 - accuracy: 0.5195 - val_loss: 0.7251 - val_accuracy: 0.5234\n",
            "Epoch 11/20\n",
            "32/32 [==============================] - 0s 5ms/step - loss: 0.7218 - accuracy: 0.5137 - val_loss: 0.6877 - val_accuracy: 0.5234\n",
            "Epoch 12/20\n",
            "32/32 [==============================] - 0s 5ms/step - loss: 0.7140 - accuracy: 0.5430 - val_loss: 0.7240 - val_accuracy: 0.4961\n",
            "Epoch 13/20\n",
            "32/32 [==============================] - 0s 6ms/step - loss: 0.7156 - accuracy: 0.5137 - val_loss: 0.7009 - val_accuracy: 0.5195\n",
            "Epoch 14/20\n",
            "32/32 [==============================] - 0s 7ms/step - loss: 0.7216 - accuracy: 0.5264 - val_loss: 0.6936 - val_accuracy: 0.5000\n",
            "Epoch 15/20\n",
            "32/32 [==============================] - 0s 5ms/step - loss: 0.7159 - accuracy: 0.5146 - val_loss: 0.6911 - val_accuracy: 0.5156\n",
            "Epoch 16/20\n",
            "32/32 [==============================] - 0s 5ms/step - loss: 0.7073 - accuracy: 0.5381 - val_loss: 0.7023 - val_accuracy: 0.5039\n",
            "Epoch 17/20\n",
            "32/32 [==============================] - 0s 5ms/step - loss: 0.7158 - accuracy: 0.5010 - val_loss: 0.6908 - val_accuracy: 0.5156\n",
            "Epoch 18/20\n",
            "32/32 [==============================] - 0s 5ms/step - loss: 0.7183 - accuracy: 0.5195 - val_loss: 0.7024 - val_accuracy: 0.4727\n",
            "Epoch 19/20\n",
            "32/32 [==============================] - 0s 7ms/step - loss: 0.7087 - accuracy: 0.5029 - val_loss: 0.6920 - val_accuracy: 0.5352\n",
            "Epoch 20/20\n",
            "32/32 [==============================] - 0s 5ms/step - loss: 0.7160 - accuracy: 0.5078 - val_loss: 0.6936 - val_accuracy: 0.5078\n",
            "8/8 [==============================] - 0s 3ms/step - loss: 0.6936 - accuracy: 0.5078\n",
            "Epoch 1/20\n",
            "32/32 [==============================] - 2s 13ms/step - loss: 0.8628 - accuracy: 0.5107 - val_loss: 0.6938 - val_accuracy: 0.5000\n",
            "Epoch 2/20\n",
            "32/32 [==============================] - 0s 5ms/step - loss: 0.8292 - accuracy: 0.4922 - val_loss: 0.7266 - val_accuracy: 0.5000\n",
            "Epoch 3/20\n",
            "32/32 [==============================] - 0s 6ms/step - loss: 0.7835 - accuracy: 0.5000 - val_loss: 0.6984 - val_accuracy: 0.5430\n",
            "Epoch 4/20\n",
            "32/32 [==============================] - 0s 5ms/step - loss: 0.7638 - accuracy: 0.5488 - val_loss: 0.6922 - val_accuracy: 0.5195\n",
            "Epoch 5/20\n",
            "32/32 [==============================] - 0s 5ms/step - loss: 0.7779 - accuracy: 0.5205 - val_loss: 0.6921 - val_accuracy: 0.5312\n",
            "Epoch 6/20\n",
            "32/32 [==============================] - 0s 5ms/step - loss: 0.7555 - accuracy: 0.5137 - val_loss: 0.7025 - val_accuracy: 0.5430\n",
            "Epoch 7/20\n",
            "32/32 [==============================] - 0s 5ms/step - loss: 0.7532 - accuracy: 0.4971 - val_loss: 0.6922 - val_accuracy: 0.5430\n",
            "Epoch 8/20\n",
            "32/32 [==============================] - 0s 6ms/step - loss: 0.7521 - accuracy: 0.5039 - val_loss: 0.6903 - val_accuracy: 0.5430\n",
            "Epoch 9/20\n",
            "32/32 [==============================] - 0s 7ms/step - loss: 0.7509 - accuracy: 0.4863 - val_loss: 0.7154 - val_accuracy: 0.5547\n",
            "Epoch 10/20\n",
            "32/32 [==============================] - 0s 5ms/step - loss: 0.7253 - accuracy: 0.5342 - val_loss: 0.6976 - val_accuracy: 0.5547\n",
            "Epoch 11/20\n",
            "32/32 [==============================] - 0s 5ms/step - loss: 0.7194 - accuracy: 0.5215 - val_loss: 0.6953 - val_accuracy: 0.5547\n",
            "Epoch 12/20\n",
            "32/32 [==============================] - 0s 5ms/step - loss: 0.7278 - accuracy: 0.5029 - val_loss: 0.6980 - val_accuracy: 0.5391\n",
            "Epoch 13/20\n",
            "32/32 [==============================] - 0s 5ms/step - loss: 0.7158 - accuracy: 0.5088 - val_loss: 0.6892 - val_accuracy: 0.5469\n",
            "Epoch 14/20\n",
            "32/32 [==============================] - 0s 6ms/step - loss: 0.7226 - accuracy: 0.4844 - val_loss: 0.6921 - val_accuracy: 0.5195\n",
            "Epoch 15/20\n",
            "32/32 [==============================] - 0s 5ms/step - loss: 0.7096 - accuracy: 0.5215 - val_loss: 0.6891 - val_accuracy: 0.5391\n",
            "Epoch 16/20\n",
            "32/32 [==============================] - 0s 7ms/step - loss: 0.7218 - accuracy: 0.4980 - val_loss: 0.6882 - val_accuracy: 0.5391\n",
            "Epoch 17/20\n",
            "32/32 [==============================] - 0s 9ms/step - loss: 0.7055 - accuracy: 0.5215 - val_loss: 0.6938 - val_accuracy: 0.5391\n",
            "Epoch 18/20\n",
            "32/32 [==============================] - 0s 10ms/step - loss: 0.7073 - accuracy: 0.5361 - val_loss: 0.7030 - val_accuracy: 0.5469\n",
            "Epoch 19/20\n",
            "32/32 [==============================] - 0s 9ms/step - loss: 0.7091 - accuracy: 0.5059 - val_loss: 0.7016 - val_accuracy: 0.5391\n",
            "Epoch 20/20\n",
            "32/32 [==============================] - 0s 7ms/step - loss: 0.7019 - accuracy: 0.5293 - val_loss: 0.6946 - val_accuracy: 0.5430\n",
            "8/8 [==============================] - 0s 5ms/step - loss: 0.6946 - accuracy: 0.5430\n",
            "Epoch 1/20\n",
            "32/32 [==============================] - 3s 14ms/step - loss: 0.8158 - accuracy: 0.5010 - val_loss: 0.7741 - val_accuracy: 0.4844\n",
            "Epoch 2/20\n",
            "32/32 [==============================] - 0s 5ms/step - loss: 0.7875 - accuracy: 0.4805 - val_loss: 0.7563 - val_accuracy: 0.5000\n",
            "Epoch 3/20\n",
            "32/32 [==============================] - 0s 5ms/step - loss: 0.7623 - accuracy: 0.5410 - val_loss: 0.7383 - val_accuracy: 0.5039\n",
            "Epoch 4/20\n",
            "32/32 [==============================] - 0s 6ms/step - loss: 0.7280 - accuracy: 0.5225 - val_loss: 0.6912 - val_accuracy: 0.5195\n",
            "Epoch 5/20\n",
            "32/32 [==============================] - 0s 5ms/step - loss: 0.7375 - accuracy: 0.5225 - val_loss: 0.7012 - val_accuracy: 0.5078\n",
            "Epoch 6/20\n",
            "32/32 [==============================] - 0s 5ms/step - loss: 0.7261 - accuracy: 0.5107 - val_loss: 0.7148 - val_accuracy: 0.5117\n",
            "Epoch 7/20\n",
            "32/32 [==============================] - 0s 6ms/step - loss: 0.7318 - accuracy: 0.5215 - val_loss: 0.6872 - val_accuracy: 0.5469\n",
            "Epoch 8/20\n",
            "32/32 [==============================] - 0s 5ms/step - loss: 0.7246 - accuracy: 0.5137 - val_loss: 0.6967 - val_accuracy: 0.5078\n",
            "Epoch 9/20\n",
            "32/32 [==============================] - 0s 7ms/step - loss: 0.7103 - accuracy: 0.5156 - val_loss: 0.7160 - val_accuracy: 0.5312\n",
            "Epoch 10/20\n",
            "32/32 [==============================] - 0s 6ms/step - loss: 0.7103 - accuracy: 0.5381 - val_loss: 0.7169 - val_accuracy: 0.5156\n",
            "Epoch 11/20\n",
            "32/32 [==============================] - 0s 5ms/step - loss: 0.7199 - accuracy: 0.5225 - val_loss: 0.7275 - val_accuracy: 0.5156\n",
            "Epoch 12/20\n",
            "32/32 [==============================] - 0s 5ms/step - loss: 0.7161 - accuracy: 0.5283 - val_loss: 0.6990 - val_accuracy: 0.5195\n",
            "Epoch 13/20\n",
            "32/32 [==============================] - 0s 5ms/step - loss: 0.7148 - accuracy: 0.5117 - val_loss: 0.7172 - val_accuracy: 0.5000\n",
            "Epoch 14/20\n",
            "32/32 [==============================] - 0s 5ms/step - loss: 0.7040 - accuracy: 0.5303 - val_loss: 0.7230 - val_accuracy: 0.5078\n",
            "Epoch 15/20\n",
            "32/32 [==============================] - 0s 6ms/step - loss: 0.7099 - accuracy: 0.5273 - val_loss: 0.6960 - val_accuracy: 0.5273\n",
            "Epoch 16/20\n",
            "32/32 [==============================] - 0s 5ms/step - loss: 0.7073 - accuracy: 0.5303 - val_loss: 0.6935 - val_accuracy: 0.5391\n",
            "Epoch 17/20\n",
            "32/32 [==============================] - 0s 5ms/step - loss: 0.7212 - accuracy: 0.4941 - val_loss: 0.7010 - val_accuracy: 0.4961\n",
            "Epoch 18/20\n",
            "32/32 [==============================] - 0s 12ms/step - loss: 0.7155 - accuracy: 0.5186 - val_loss: 0.6918 - val_accuracy: 0.5273\n",
            "Epoch 19/20\n",
            "32/32 [==============================] - 1s 17ms/step - loss: 0.7053 - accuracy: 0.5117 - val_loss: 0.7088 - val_accuracy: 0.5078\n",
            "Epoch 20/20\n",
            "32/32 [==============================] - 0s 7ms/step - loss: 0.7045 - accuracy: 0.5098 - val_loss: 0.6927 - val_accuracy: 0.5156\n",
            "8/8 [==============================] - 0s 3ms/step - loss: 0.6927 - accuracy: 0.5156\n",
            "Epoch 1/20\n",
            "32/32 [==============================] - 2s 13ms/step - loss: 0.9167 - accuracy: 0.5039 - val_loss: 0.8513 - val_accuracy: 0.5273\n",
            "Epoch 2/20\n",
            "32/32 [==============================] - 0s 5ms/step - loss: 0.7897 - accuracy: 0.5176 - val_loss: 0.7241 - val_accuracy: 0.5430\n",
            "Epoch 3/20\n",
            "32/32 [==============================] - 0s 5ms/step - loss: 0.7686 - accuracy: 0.5283 - val_loss: 0.7310 - val_accuracy: 0.5586\n",
            "Epoch 4/20\n",
            "32/32 [==============================] - 0s 6ms/step - loss: 0.7560 - accuracy: 0.5205 - val_loss: 0.7125 - val_accuracy: 0.5430\n",
            "Epoch 5/20\n",
            "32/32 [==============================] - 0s 5ms/step - loss: 0.7596 - accuracy: 0.5078 - val_loss: 0.7193 - val_accuracy: 0.5430\n",
            "Epoch 6/20\n",
            "32/32 [==============================] - 0s 7ms/step - loss: 0.7550 - accuracy: 0.4980 - val_loss: 0.7038 - val_accuracy: 0.5312\n",
            "Epoch 7/20\n",
            "32/32 [==============================] - 0s 5ms/step - loss: 0.7074 - accuracy: 0.5205 - val_loss: 0.7041 - val_accuracy: 0.5469\n",
            "Epoch 8/20\n",
            "32/32 [==============================] - 0s 5ms/step - loss: 0.7299 - accuracy: 0.5264 - val_loss: 0.6987 - val_accuracy: 0.5195\n",
            "Epoch 9/20\n",
            "32/32 [==============================] - 0s 5ms/step - loss: 0.7213 - accuracy: 0.5156 - val_loss: 0.6946 - val_accuracy: 0.4961\n",
            "Epoch 10/20\n",
            "32/32 [==============================] - 0s 6ms/step - loss: 0.7285 - accuracy: 0.5088 - val_loss: 0.6937 - val_accuracy: 0.5000\n",
            "Epoch 11/20\n",
            "32/32 [==============================] - 0s 6ms/step - loss: 0.7090 - accuracy: 0.5400 - val_loss: 0.6956 - val_accuracy: 0.5039\n",
            "Epoch 12/20\n",
            "32/32 [==============================] - 0s 6ms/step - loss: 0.7283 - accuracy: 0.5107 - val_loss: 0.6943 - val_accuracy: 0.5000\n",
            "Epoch 13/20\n",
            "32/32 [==============================] - 0s 9ms/step - loss: 0.7263 - accuracy: 0.4951 - val_loss: 0.6931 - val_accuracy: 0.5352\n",
            "Epoch 14/20\n",
            "32/32 [==============================] - 0s 10ms/step - loss: 0.7189 - accuracy: 0.5225 - val_loss: 0.6917 - val_accuracy: 0.5234\n",
            "Epoch 15/20\n",
            "32/32 [==============================] - 0s 10ms/step - loss: 0.7091 - accuracy: 0.5137 - val_loss: 0.6917 - val_accuracy: 0.5039\n",
            "Epoch 16/20\n",
            "32/32 [==============================] - 0s 8ms/step - loss: 0.6981 - accuracy: 0.5400 - val_loss: 0.6952 - val_accuracy: 0.5039\n",
            "Epoch 17/20\n",
            "32/32 [==============================] - 0s 10ms/step - loss: 0.7180 - accuracy: 0.5273 - val_loss: 0.6967 - val_accuracy: 0.4922\n",
            "Epoch 18/20\n",
            "32/32 [==============================] - 0s 10ms/step - loss: 0.7123 - accuracy: 0.5020 - val_loss: 0.6975 - val_accuracy: 0.5078\n",
            "Epoch 19/20\n",
            "32/32 [==============================] - 0s 8ms/step - loss: 0.6970 - accuracy: 0.5332 - val_loss: 0.6977 - val_accuracy: 0.4609\n",
            "Epoch 20/20\n",
            "32/32 [==============================] - 0s 7ms/step - loss: 0.7164 - accuracy: 0.5117 - val_loss: 0.6932 - val_accuracy: 0.5078\n",
            "8/8 [==============================] - 0s 5ms/step - loss: 0.6932 - accuracy: 0.5078\n",
            "Epoch 1/20\n",
            "32/32 [==============================] - 3s 14ms/step - loss: 0.8455 - accuracy: 0.4990 - val_loss: 0.6878 - val_accuracy: 0.5469\n",
            "Epoch 2/20\n",
            "32/32 [==============================] - 0s 6ms/step - loss: 0.8025 - accuracy: 0.4668 - val_loss: 0.7223 - val_accuracy: 0.5469\n",
            "Epoch 3/20\n",
            "32/32 [==============================] - 0s 7ms/step - loss: 0.7810 - accuracy: 0.4980 - val_loss: 0.6887 - val_accuracy: 0.5469\n",
            "Epoch 4/20\n",
            "32/32 [==============================] - 0s 6ms/step - loss: 0.7368 - accuracy: 0.5361 - val_loss: 0.7042 - val_accuracy: 0.4922\n",
            "Epoch 5/20\n",
            "32/32 [==============================] - 0s 6ms/step - loss: 0.7527 - accuracy: 0.5264 - val_loss: 0.6962 - val_accuracy: 0.5117\n",
            "Epoch 6/20\n",
            "32/32 [==============================] - 0s 6ms/step - loss: 0.7317 - accuracy: 0.5029 - val_loss: 0.6871 - val_accuracy: 0.5469\n",
            "Epoch 7/20\n",
            "32/32 [==============================] - 0s 7ms/step - loss: 0.7544 - accuracy: 0.4961 - val_loss: 0.6903 - val_accuracy: 0.5273\n",
            "Epoch 8/20\n",
            "32/32 [==============================] - 0s 7ms/step - loss: 0.7178 - accuracy: 0.5508 - val_loss: 0.6902 - val_accuracy: 0.5312\n",
            "Epoch 9/20\n",
            "32/32 [==============================] - 0s 6ms/step - loss: 0.7370 - accuracy: 0.5098 - val_loss: 0.6911 - val_accuracy: 0.5312\n",
            "Epoch 10/20\n",
            "32/32 [==============================] - 0s 6ms/step - loss: 0.7329 - accuracy: 0.5049 - val_loss: 0.6904 - val_accuracy: 0.5469\n",
            "Epoch 11/20\n",
            "32/32 [==============================] - 0s 6ms/step - loss: 0.7228 - accuracy: 0.5195 - val_loss: 0.6868 - val_accuracy: 0.5469\n",
            "Epoch 12/20\n",
            "32/32 [==============================] - 0s 7ms/step - loss: 0.7071 - accuracy: 0.5264 - val_loss: 0.6897 - val_accuracy: 0.5430\n",
            "Epoch 13/20\n",
            "32/32 [==============================] - 0s 6ms/step - loss: 0.7182 - accuracy: 0.5137 - val_loss: 0.6885 - val_accuracy: 0.5469\n",
            "Epoch 14/20\n",
            "32/32 [==============================] - 0s 6ms/step - loss: 0.7231 - accuracy: 0.5137 - val_loss: 0.6889 - val_accuracy: 0.5430\n",
            "Epoch 15/20\n",
            "32/32 [==============================] - 0s 6ms/step - loss: 0.7066 - accuracy: 0.5078 - val_loss: 0.6940 - val_accuracy: 0.5000\n",
            "Epoch 16/20\n",
            "32/32 [==============================] - 0s 6ms/step - loss: 0.7055 - accuracy: 0.5391 - val_loss: 0.6930 - val_accuracy: 0.5078\n",
            "Epoch 17/20\n",
            "32/32 [==============================] - 0s 8ms/step - loss: 0.7009 - accuracy: 0.5332 - val_loss: 0.6891 - val_accuracy: 0.5391\n",
            "Epoch 18/20\n",
            "32/32 [==============================] - 0s 6ms/step - loss: 0.7025 - accuracy: 0.5400 - val_loss: 0.7092 - val_accuracy: 0.4844\n",
            "Epoch 19/20\n",
            "32/32 [==============================] - 0s 6ms/step - loss: 0.7167 - accuracy: 0.5059 - val_loss: 0.6960 - val_accuracy: 0.5117\n",
            "Epoch 20/20\n",
            "32/32 [==============================] - 0s 6ms/step - loss: 0.7065 - accuracy: 0.5068 - val_loss: 0.7123 - val_accuracy: 0.4805\n",
            "8/8 [==============================] - 0s 3ms/step - loss: 0.7123 - accuracy: 0.4805\n",
            "Epoch 1/20\n",
            "32/32 [==============================] - 2s 14ms/step - loss: 0.8293 - accuracy: 0.5156 - val_loss: 0.7386 - val_accuracy: 0.5430\n",
            "Epoch 2/20\n",
            "32/32 [==============================] - 0s 6ms/step - loss: 0.7627 - accuracy: 0.5322 - val_loss: 0.7657 - val_accuracy: 0.5234\n",
            "Epoch 3/20\n",
            "32/32 [==============================] - 0s 6ms/step - loss: 0.7891 - accuracy: 0.5225 - val_loss: 0.6940 - val_accuracy: 0.5195\n",
            "Epoch 4/20\n",
            "32/32 [==============================] - 0s 6ms/step - loss: 0.7556 - accuracy: 0.5166 - val_loss: 0.7191 - val_accuracy: 0.5273\n",
            "Epoch 5/20\n",
            "32/32 [==============================] - 0s 6ms/step - loss: 0.7439 - accuracy: 0.5186 - val_loss: 0.7486 - val_accuracy: 0.5352\n",
            "Epoch 6/20\n",
            "32/32 [==============================] - 0s 6ms/step - loss: 0.7736 - accuracy: 0.5029 - val_loss: 0.7443 - val_accuracy: 0.5234\n",
            "Epoch 7/20\n",
            "32/32 [==============================] - 0s 11ms/step - loss: 0.7557 - accuracy: 0.5283 - val_loss: 0.7483 - val_accuracy: 0.5352\n",
            "Epoch 8/20\n",
            "32/32 [==============================] - 0s 10ms/step - loss: 0.7429 - accuracy: 0.5234 - val_loss: 0.7188 - val_accuracy: 0.5352\n",
            "Epoch 9/20\n",
            "32/32 [==============================] - 0s 9ms/step - loss: 0.7334 - accuracy: 0.5176 - val_loss: 0.7026 - val_accuracy: 0.5391\n",
            "Epoch 10/20\n",
            "32/32 [==============================] - 1s 22ms/step - loss: 0.7271 - accuracy: 0.5215 - val_loss: 0.6982 - val_accuracy: 0.5234\n",
            "Epoch 11/20\n",
            "32/32 [==============================] - 1s 32ms/step - loss: 0.7278 - accuracy: 0.5195 - val_loss: 0.7111 - val_accuracy: 0.5312\n",
            "Epoch 12/20\n",
            "32/32 [==============================] - 1s 20ms/step - loss: 0.7236 - accuracy: 0.5283 - val_loss: 0.6994 - val_accuracy: 0.5547\n",
            "Epoch 13/20\n",
            "32/32 [==============================] - 0s 11ms/step - loss: 0.7264 - accuracy: 0.5107 - val_loss: 0.6911 - val_accuracy: 0.5352\n",
            "Epoch 14/20\n",
            "32/32 [==============================] - 0s 10ms/step - loss: 0.7207 - accuracy: 0.5156 - val_loss: 0.6881 - val_accuracy: 0.5312\n",
            "Epoch 15/20\n",
            "32/32 [==============================] - 0s 10ms/step - loss: 0.7174 - accuracy: 0.5156 - val_loss: 0.6891 - val_accuracy: 0.5352\n",
            "Epoch 16/20\n",
            "32/32 [==============================] - 0s 11ms/step - loss: 0.7067 - accuracy: 0.5322 - val_loss: 0.7067 - val_accuracy: 0.5469\n",
            "Epoch 17/20\n",
            "32/32 [==============================] - 0s 7ms/step - loss: 0.7075 - accuracy: 0.5049 - val_loss: 0.6999 - val_accuracy: 0.5508\n",
            "Epoch 18/20\n",
            "32/32 [==============================] - 0s 7ms/step - loss: 0.7176 - accuracy: 0.5283 - val_loss: 0.6922 - val_accuracy: 0.5547\n",
            "Epoch 19/20\n",
            "32/32 [==============================] - 0s 6ms/step - loss: 0.7181 - accuracy: 0.5156 - val_loss: 0.7037 - val_accuracy: 0.5508\n",
            "Epoch 20/20\n",
            "32/32 [==============================] - 0s 6ms/step - loss: 0.7092 - accuracy: 0.5195 - val_loss: 0.6977 - val_accuracy: 0.5312\n",
            "8/8 [==============================] - 0s 5ms/step - loss: 0.6977 - accuracy: 0.5312\n",
            "Epoch 1/20\n",
            "32/32 [==============================] - 2s 14ms/step - loss: 0.8929 - accuracy: 0.5010 - val_loss: 0.6939 - val_accuracy: 0.4961\n",
            "Epoch 2/20\n",
            "32/32 [==============================] - 0s 6ms/step - loss: 0.7843 - accuracy: 0.5303 - val_loss: 0.7103 - val_accuracy: 0.4922\n",
            "Epoch 3/20\n",
            "32/32 [==============================] - 0s 5ms/step - loss: 0.7981 - accuracy: 0.5186 - val_loss: 0.7380 - val_accuracy: 0.4922\n",
            "Epoch 4/20\n",
            "32/32 [==============================] - 0s 5ms/step - loss: 0.7456 - accuracy: 0.5166 - val_loss: 0.7737 - val_accuracy: 0.4961\n",
            "Epoch 5/20\n",
            "32/32 [==============================] - 0s 6ms/step - loss: 0.7843 - accuracy: 0.4834 - val_loss: 0.7139 - val_accuracy: 0.4922\n",
            "Epoch 6/20\n",
            "32/32 [==============================] - 0s 6ms/step - loss: 0.7586 - accuracy: 0.4990 - val_loss: 0.7229 - val_accuracy: 0.4922\n",
            "Epoch 7/20\n",
            "32/32 [==============================] - 0s 5ms/step - loss: 0.7258 - accuracy: 0.5312 - val_loss: 0.7113 - val_accuracy: 0.4961\n",
            "Epoch 8/20\n",
            "32/32 [==============================] - 0s 6ms/step - loss: 0.7381 - accuracy: 0.4941 - val_loss: 0.6989 - val_accuracy: 0.4922\n",
            "Epoch 9/20\n",
            "32/32 [==============================] - 0s 5ms/step - loss: 0.7242 - accuracy: 0.5039 - val_loss: 0.6909 - val_accuracy: 0.5039\n",
            "Epoch 10/20\n",
            "32/32 [==============================] - 0s 5ms/step - loss: 0.7150 - accuracy: 0.5205 - val_loss: 0.6901 - val_accuracy: 0.5312\n",
            "Epoch 11/20\n",
            "32/32 [==============================] - 0s 10ms/step - loss: 0.7353 - accuracy: 0.4834 - val_loss: 0.7011 - val_accuracy: 0.4961\n",
            "Epoch 12/20\n",
            "32/32 [==============================] - 0s 7ms/step - loss: 0.7098 - accuracy: 0.5400 - val_loss: 0.6926 - val_accuracy: 0.4805\n",
            "Epoch 13/20\n",
            "32/32 [==============================] - 0s 7ms/step - loss: 0.7193 - accuracy: 0.5127 - val_loss: 0.6905 - val_accuracy: 0.5000\n",
            "Epoch 14/20\n",
            "32/32 [==============================] - 0s 6ms/step - loss: 0.7103 - accuracy: 0.5195 - val_loss: 0.6939 - val_accuracy: 0.4961\n",
            "Epoch 15/20\n",
            "32/32 [==============================] - 0s 6ms/step - loss: 0.7182 - accuracy: 0.5049 - val_loss: 0.6965 - val_accuracy: 0.4883\n",
            "Epoch 16/20\n",
            "32/32 [==============================] - 0s 7ms/step - loss: 0.7082 - accuracy: 0.5332 - val_loss: 0.6975 - val_accuracy: 0.4883\n",
            "Epoch 17/20\n",
            "32/32 [==============================] - 0s 6ms/step - loss: 0.7114 - accuracy: 0.5049 - val_loss: 0.7054 - val_accuracy: 0.4961\n",
            "Epoch 18/20\n",
            "32/32 [==============================] - 0s 6ms/step - loss: 0.7120 - accuracy: 0.4990 - val_loss: 0.7029 - val_accuracy: 0.4961\n",
            "Epoch 19/20\n",
            "32/32 [==============================] - 0s 6ms/step - loss: 0.7184 - accuracy: 0.5195 - val_loss: 0.7034 - val_accuracy: 0.5000\n",
            "Epoch 20/20\n",
            "32/32 [==============================] - 0s 9ms/step - loss: 0.7130 - accuracy: 0.5215 - val_loss: 0.6932 - val_accuracy: 0.4961\n",
            "8/8 [==============================] - 0s 3ms/step - loss: 0.6932 - accuracy: 0.4961\n",
            "Epoch 1/20\n",
            "32/32 [==============================] - 3s 26ms/step - loss: 0.8680 - accuracy: 0.4941 - val_loss: 0.7118 - val_accuracy: 0.4961\n",
            "Epoch 2/20\n",
            "32/32 [==============================] - 0s 9ms/step - loss: 0.7784 - accuracy: 0.5303 - val_loss: 0.6996 - val_accuracy: 0.4805\n",
            "Epoch 3/20\n",
            "32/32 [==============================] - 0s 11ms/step - loss: 0.7862 - accuracy: 0.5059 - val_loss: 0.6975 - val_accuracy: 0.4766\n",
            "Epoch 4/20\n",
            "32/32 [==============================] - 0s 9ms/step - loss: 0.7816 - accuracy: 0.5010 - val_loss: 0.6927 - val_accuracy: 0.5039\n",
            "Epoch 5/20\n",
            "32/32 [==============================] - 0s 10ms/step - loss: 0.7530 - accuracy: 0.5195 - val_loss: 0.7004 - val_accuracy: 0.5117\n",
            "Epoch 6/20\n",
            "32/32 [==============================] - 0s 11ms/step - loss: 0.7541 - accuracy: 0.5107 - val_loss: 0.6957 - val_accuracy: 0.5000\n",
            "Epoch 7/20\n",
            "32/32 [==============================] - 0s 10ms/step - loss: 0.7213 - accuracy: 0.5107 - val_loss: 0.6942 - val_accuracy: 0.5234\n",
            "Epoch 8/20\n",
            "32/32 [==============================] - 0s 10ms/step - loss: 0.7579 - accuracy: 0.5078 - val_loss: 0.6930 - val_accuracy: 0.5234\n",
            "Epoch 9/20\n",
            "32/32 [==============================] - 0s 11ms/step - loss: 0.7399 - accuracy: 0.5137 - val_loss: 0.6942 - val_accuracy: 0.5039\n",
            "Epoch 10/20\n",
            "32/32 [==============================] - 0s 10ms/step - loss: 0.7456 - accuracy: 0.5225 - val_loss: 0.7164 - val_accuracy: 0.5117\n",
            "Epoch 11/20\n",
            "32/32 [==============================] - 0s 9ms/step - loss: 0.7278 - accuracy: 0.5303 - val_loss: 0.6961 - val_accuracy: 0.5117\n",
            "Epoch 12/20\n",
            "32/32 [==============================] - 0s 11ms/step - loss: 0.7379 - accuracy: 0.5146 - val_loss: 0.6990 - val_accuracy: 0.5234\n",
            "Epoch 13/20\n",
            "32/32 [==============================] - 0s 10ms/step - loss: 0.7186 - accuracy: 0.5322 - val_loss: 0.6979 - val_accuracy: 0.5117\n",
            "Epoch 14/20\n",
            "32/32 [==============================] - 0s 11ms/step - loss: 0.7259 - accuracy: 0.5215 - val_loss: 0.7011 - val_accuracy: 0.5156\n",
            "Epoch 15/20\n",
            "32/32 [==============================] - 0s 11ms/step - loss: 0.7238 - accuracy: 0.5127 - val_loss: 0.6947 - val_accuracy: 0.5234\n",
            "Epoch 16/20\n",
            "32/32 [==============================] - 0s 10ms/step - loss: 0.7307 - accuracy: 0.5215 - val_loss: 0.6945 - val_accuracy: 0.5156\n",
            "Epoch 17/20\n",
            "32/32 [==============================] - 0s 11ms/step - loss: 0.7231 - accuracy: 0.5186 - val_loss: 0.6961 - val_accuracy: 0.5039\n",
            "Epoch 18/20\n",
            "32/32 [==============================] - 0s 10ms/step - loss: 0.7022 - accuracy: 0.5420 - val_loss: 0.7018 - val_accuracy: 0.5078\n",
            "Epoch 19/20\n",
            "32/32 [==============================] - 0s 11ms/step - loss: 0.7365 - accuracy: 0.4902 - val_loss: 0.6991 - val_accuracy: 0.5156\n",
            "Epoch 20/20\n",
            "32/32 [==============================] - 0s 10ms/step - loss: 0.7108 - accuracy: 0.5059 - val_loss: 0.7040 - val_accuracy: 0.5156\n",
            "8/8 [==============================] - 0s 6ms/step - loss: 0.7040 - accuracy: 0.5156\n",
            "Epoch 1/20\n",
            "32/32 [==============================] - 3s 13ms/step - loss: 0.8356 - accuracy: 0.4951 - val_loss: 0.7439 - val_accuracy: 0.4492\n",
            "Epoch 2/20\n",
            "32/32 [==============================] - 0s 5ms/step - loss: 0.7728 - accuracy: 0.4912 - val_loss: 0.7227 - val_accuracy: 0.4375\n",
            "Epoch 3/20\n",
            "32/32 [==============================] - 0s 6ms/step - loss: 0.7631 - accuracy: 0.5137 - val_loss: 0.7097 - val_accuracy: 0.4570\n",
            "Epoch 4/20\n",
            "32/32 [==============================] - 0s 5ms/step - loss: 0.7414 - accuracy: 0.5205 - val_loss: 0.7110 - val_accuracy: 0.4648\n",
            "Epoch 5/20\n",
            "32/32 [==============================] - 0s 7ms/step - loss: 0.7195 - accuracy: 0.5273 - val_loss: 0.6941 - val_accuracy: 0.5312\n",
            "Epoch 6/20\n",
            "32/32 [==============================] - 0s 6ms/step - loss: 0.7347 - accuracy: 0.5156 - val_loss: 0.7023 - val_accuracy: 0.4922\n",
            "Epoch 7/20\n",
            "32/32 [==============================] - 0s 6ms/step - loss: 0.7215 - accuracy: 0.5293 - val_loss: 0.6960 - val_accuracy: 0.4844\n",
            "Epoch 8/20\n",
            "32/32 [==============================] - 0s 6ms/step - loss: 0.7252 - accuracy: 0.5029 - val_loss: 0.6970 - val_accuracy: 0.4844\n",
            "Epoch 9/20\n",
            "32/32 [==============================] - 0s 5ms/step - loss: 0.7336 - accuracy: 0.5391 - val_loss: 0.6942 - val_accuracy: 0.4531\n",
            "Epoch 10/20\n",
            "32/32 [==============================] - 0s 8ms/step - loss: 0.7157 - accuracy: 0.5176 - val_loss: 0.7056 - val_accuracy: 0.4766\n",
            "Epoch 11/20\n",
            "32/32 [==============================] - 0s 5ms/step - loss: 0.7112 - accuracy: 0.5176 - val_loss: 0.6964 - val_accuracy: 0.4375\n",
            "Epoch 12/20\n",
            "32/32 [==============================] - 0s 5ms/step - loss: 0.7080 - accuracy: 0.5273 - val_loss: 0.7044 - val_accuracy: 0.4727\n",
            "Epoch 13/20\n",
            "32/32 [==============================] - 0s 5ms/step - loss: 0.6953 - accuracy: 0.5400 - val_loss: 0.7000 - val_accuracy: 0.4844\n",
            "Epoch 14/20\n",
            "32/32 [==============================] - 0s 6ms/step - loss: 0.7092 - accuracy: 0.5029 - val_loss: 0.7016 - val_accuracy: 0.4766\n",
            "Epoch 15/20\n",
            "32/32 [==============================] - 0s 7ms/step - loss: 0.7102 - accuracy: 0.5254 - val_loss: 0.6979 - val_accuracy: 0.4805\n",
            "Epoch 16/20\n",
            "32/32 [==============================] - 0s 6ms/step - loss: 0.7014 - accuracy: 0.5449 - val_loss: 0.6926 - val_accuracy: 0.5039\n",
            "Epoch 17/20\n",
            "32/32 [==============================] - 0s 6ms/step - loss: 0.7040 - accuracy: 0.5234 - val_loss: 0.7065 - val_accuracy: 0.4805\n",
            "Epoch 18/20\n",
            "32/32 [==============================] - 0s 6ms/step - loss: 0.7007 - accuracy: 0.5488 - val_loss: 0.6966 - val_accuracy: 0.5117\n",
            "Epoch 19/20\n",
            "32/32 [==============================] - 0s 5ms/step - loss: 0.7077 - accuracy: 0.5205 - val_loss: 0.7008 - val_accuracy: 0.4961\n",
            "Epoch 20/20\n",
            "32/32 [==============================] - 0s 7ms/step - loss: 0.6966 - accuracy: 0.5332 - val_loss: 0.6937 - val_accuracy: 0.4961\n",
            "8/8 [==============================] - 0s 3ms/step - loss: 0.6937 - accuracy: 0.4961\n",
            "Epoch 1/20\n",
            "32/32 [==============================] - 2s 14ms/step - loss: 0.8488 - accuracy: 0.4951 - val_loss: 0.7653 - val_accuracy: 0.4805\n",
            "Epoch 2/20\n",
            "32/32 [==============================] - 0s 6ms/step - loss: 0.8085 - accuracy: 0.5088 - val_loss: 0.7041 - val_accuracy: 0.4531\n",
            "Epoch 3/20\n",
            "32/32 [==============================] - 0s 6ms/step - loss: 0.7985 - accuracy: 0.4727 - val_loss: 0.7055 - val_accuracy: 0.4688\n",
            "Epoch 4/20\n",
            "32/32 [==============================] - 0s 6ms/step - loss: 0.7530 - accuracy: 0.5020 - val_loss: 0.6946 - val_accuracy: 0.5273\n",
            "Epoch 5/20\n",
            "32/32 [==============================] - 0s 5ms/step - loss: 0.7204 - accuracy: 0.5078 - val_loss: 0.7052 - val_accuracy: 0.5391\n",
            "Epoch 6/20\n",
            "32/32 [==============================] - 0s 5ms/step - loss: 0.7271 - accuracy: 0.5166 - val_loss: 0.6954 - val_accuracy: 0.5469\n",
            "Epoch 7/20\n",
            "32/32 [==============================] - 0s 6ms/step - loss: 0.7407 - accuracy: 0.5078 - val_loss: 0.6939 - val_accuracy: 0.5586\n",
            "Epoch 8/20\n",
            "32/32 [==============================] - 0s 7ms/step - loss: 0.7243 - accuracy: 0.5146 - val_loss: 0.6927 - val_accuracy: 0.5352\n",
            "Epoch 9/20\n",
            "32/32 [==============================] - 0s 6ms/step - loss: 0.7149 - accuracy: 0.5420 - val_loss: 0.6893 - val_accuracy: 0.5391\n",
            "Epoch 10/20\n",
            "32/32 [==============================] - 0s 6ms/step - loss: 0.7253 - accuracy: 0.4863 - val_loss: 0.6909 - val_accuracy: 0.5547\n",
            "Epoch 11/20\n",
            "32/32 [==============================] - 0s 6ms/step - loss: 0.7282 - accuracy: 0.4717 - val_loss: 0.6909 - val_accuracy: 0.5352\n",
            "Epoch 12/20\n",
            "32/32 [==============================] - 0s 6ms/step - loss: 0.7243 - accuracy: 0.5098 - val_loss: 0.6987 - val_accuracy: 0.5508\n",
            "Epoch 13/20\n",
            "32/32 [==============================] - 0s 9ms/step - loss: 0.7254 - accuracy: 0.5039 - val_loss: 0.6943 - val_accuracy: 0.5469\n",
            "Epoch 14/20\n",
            "32/32 [==============================] - 0s 9ms/step - loss: 0.7222 - accuracy: 0.4893 - val_loss: 0.6932 - val_accuracy: 0.5508\n",
            "Epoch 15/20\n",
            "32/32 [==============================] - 0s 9ms/step - loss: 0.7062 - accuracy: 0.5195 - val_loss: 0.6908 - val_accuracy: 0.5586\n",
            "Epoch 16/20\n",
            "32/32 [==============================] - 0s 10ms/step - loss: 0.7129 - accuracy: 0.5059 - val_loss: 0.6907 - val_accuracy: 0.5430\n",
            "Epoch 17/20\n",
            "32/32 [==============================] - 0s 10ms/step - loss: 0.7077 - accuracy: 0.5039 - val_loss: 0.6883 - val_accuracy: 0.5664\n",
            "Epoch 18/20\n",
            "32/32 [==============================] - 0s 8ms/step - loss: 0.7059 - accuracy: 0.5078 - val_loss: 0.6952 - val_accuracy: 0.4844\n",
            "Epoch 19/20\n",
            "32/32 [==============================] - 0s 9ms/step - loss: 0.7054 - accuracy: 0.4961 - val_loss: 0.6883 - val_accuracy: 0.5391\n",
            "Epoch 20/20\n",
            "32/32 [==============================] - 0s 8ms/step - loss: 0.7085 - accuracy: 0.4902 - val_loss: 0.6898 - val_accuracy: 0.5469\n",
            "8/8 [==============================] - 0s 7ms/step - loss: 0.6898 - accuracy: 0.5469\n",
            "Epoch 1/20\n",
            "32/32 [==============================] - 3s 15ms/step - loss: 0.8067 - accuracy: 0.5088 - val_loss: 0.7019 - val_accuracy: 0.4688\n",
            "Epoch 2/20\n",
            "32/32 [==============================] - 0s 6ms/step - loss: 0.7634 - accuracy: 0.5254 - val_loss: 0.7026 - val_accuracy: 0.4648\n",
            "Epoch 3/20\n",
            "32/32 [==============================] - 0s 6ms/step - loss: 0.7273 - accuracy: 0.5430 - val_loss: 0.6971 - val_accuracy: 0.5078\n",
            "Epoch 4/20\n",
            "32/32 [==============================] - 0s 6ms/step - loss: 0.7499 - accuracy: 0.5029 - val_loss: 0.7030 - val_accuracy: 0.5117\n",
            "Epoch 5/20\n",
            "32/32 [==============================] - 0s 6ms/step - loss: 0.7321 - accuracy: 0.4951 - val_loss: 0.6928 - val_accuracy: 0.5234\n",
            "Epoch 6/20\n",
            "32/32 [==============================] - 0s 6ms/step - loss: 0.7228 - accuracy: 0.5254 - val_loss: 0.6929 - val_accuracy: 0.5391\n",
            "Epoch 7/20\n",
            "32/32 [==============================] - 0s 6ms/step - loss: 0.7285 - accuracy: 0.5078 - val_loss: 0.6980 - val_accuracy: 0.5273\n",
            "Epoch 8/20\n",
            "32/32 [==============================] - 0s 7ms/step - loss: 0.7236 - accuracy: 0.5244 - val_loss: 0.6978 - val_accuracy: 0.5195\n",
            "Epoch 9/20\n",
            "32/32 [==============================] - 0s 6ms/step - loss: 0.7170 - accuracy: 0.5469 - val_loss: 0.6904 - val_accuracy: 0.5312\n",
            "Epoch 10/20\n",
            "32/32 [==============================] - 0s 6ms/step - loss: 0.7283 - accuracy: 0.5010 - val_loss: 0.6918 - val_accuracy: 0.5430\n",
            "Epoch 11/20\n",
            "32/32 [==============================] - 0s 6ms/step - loss: 0.7032 - accuracy: 0.5381 - val_loss: 0.6922 - val_accuracy: 0.5156\n",
            "Epoch 12/20\n",
            "32/32 [==============================] - 0s 6ms/step - loss: 0.7177 - accuracy: 0.5225 - val_loss: 0.6976 - val_accuracy: 0.5273\n",
            "Epoch 13/20\n",
            "32/32 [==============================] - 0s 6ms/step - loss: 0.7033 - accuracy: 0.5312 - val_loss: 0.6967 - val_accuracy: 0.5234\n",
            "Epoch 14/20\n",
            "32/32 [==============================] - 0s 6ms/step - loss: 0.7135 - accuracy: 0.5088 - val_loss: 0.6903 - val_accuracy: 0.5352\n",
            "Epoch 15/20\n",
            "32/32 [==============================] - 0s 6ms/step - loss: 0.6999 - accuracy: 0.5371 - val_loss: 0.6937 - val_accuracy: 0.5273\n",
            "Epoch 16/20\n",
            "32/32 [==============================] - 0s 6ms/step - loss: 0.7014 - accuracy: 0.5303 - val_loss: 0.6941 - val_accuracy: 0.5234\n",
            "Epoch 17/20\n",
            "32/32 [==============================] - 0s 6ms/step - loss: 0.7107 - accuracy: 0.5107 - val_loss: 0.6913 - val_accuracy: 0.5352\n",
            "Epoch 18/20\n",
            "32/32 [==============================] - 0s 6ms/step - loss: 0.7044 - accuracy: 0.5322 - val_loss: 0.6933 - val_accuracy: 0.5234\n",
            "Epoch 19/20\n",
            "32/32 [==============================] - 0s 6ms/step - loss: 0.6988 - accuracy: 0.5605 - val_loss: 0.6891 - val_accuracy: 0.5352\n",
            "Epoch 20/20\n",
            "32/32 [==============================] - 0s 5ms/step - loss: 0.7059 - accuracy: 0.5264 - val_loss: 0.6910 - val_accuracy: 0.5391\n",
            "8/8 [==============================] - 0s 3ms/step - loss: 0.6910 - accuracy: 0.5391\n",
            "Epoch 1/20\n",
            "32/32 [==============================] - 2s 15ms/step - loss: 0.9011 - accuracy: 0.4893 - val_loss: 0.8027 - val_accuracy: 0.4414\n",
            "Epoch 2/20\n",
            "32/32 [==============================] - 0s 6ms/step - loss: 0.7939 - accuracy: 0.4951 - val_loss: 0.7111 - val_accuracy: 0.4609\n",
            "Epoch 3/20\n",
            "32/32 [==============================] - 0s 6ms/step - loss: 0.7669 - accuracy: 0.5049 - val_loss: 0.7050 - val_accuracy: 0.4961\n",
            "Epoch 4/20\n",
            "32/32 [==============================] - 0s 6ms/step - loss: 0.7443 - accuracy: 0.5400 - val_loss: 0.7057 - val_accuracy: 0.5000\n",
            "Epoch 5/20\n",
            "32/32 [==============================] - 0s 7ms/step - loss: 0.7632 - accuracy: 0.5176 - val_loss: 0.7048 - val_accuracy: 0.5000\n",
            "Epoch 6/20\n",
            "32/32 [==============================] - 0s 7ms/step - loss: 0.7397 - accuracy: 0.5234 - val_loss: 0.6941 - val_accuracy: 0.5391\n",
            "Epoch 7/20\n",
            "32/32 [==============================] - 0s 6ms/step - loss: 0.7529 - accuracy: 0.5098 - val_loss: 0.6935 - val_accuracy: 0.5430\n",
            "Epoch 8/20\n",
            "32/32 [==============================] - 0s 6ms/step - loss: 0.7297 - accuracy: 0.5312 - val_loss: 0.6935 - val_accuracy: 0.5352\n",
            "Epoch 9/20\n",
            "32/32 [==============================] - 0s 6ms/step - loss: 0.7390 - accuracy: 0.5137 - val_loss: 0.6947 - val_accuracy: 0.5508\n",
            "Epoch 10/20\n",
            "32/32 [==============================] - 0s 6ms/step - loss: 0.7213 - accuracy: 0.4990 - val_loss: 0.6930 - val_accuracy: 0.5352\n",
            "Epoch 11/20\n",
            "32/32 [==============================] - 0s 7ms/step - loss: 0.7190 - accuracy: 0.5137 - val_loss: 0.6942 - val_accuracy: 0.5273\n",
            "Epoch 12/20\n",
            "32/32 [==============================] - 0s 6ms/step - loss: 0.7284 - accuracy: 0.4990 - val_loss: 0.6952 - val_accuracy: 0.5234\n",
            "Epoch 13/20\n",
            "32/32 [==============================] - 0s 5ms/step - loss: 0.7149 - accuracy: 0.5205 - val_loss: 0.6963 - val_accuracy: 0.4766\n",
            "Epoch 14/20\n",
            "32/32 [==============================] - 0s 6ms/step - loss: 0.7096 - accuracy: 0.5146 - val_loss: 0.6919 - val_accuracy: 0.5234\n",
            "Epoch 15/20\n",
            "32/32 [==============================] - 0s 6ms/step - loss: 0.7209 - accuracy: 0.5215 - val_loss: 0.6963 - val_accuracy: 0.5117\n",
            "Epoch 16/20\n",
            "32/32 [==============================] - 0s 10ms/step - loss: 0.7174 - accuracy: 0.5068 - val_loss: 0.6926 - val_accuracy: 0.5352\n",
            "Epoch 17/20\n",
            "32/32 [==============================] - 0s 8ms/step - loss: 0.7004 - accuracy: 0.5273 - val_loss: 0.6927 - val_accuracy: 0.5469\n",
            "Epoch 18/20\n",
            "32/32 [==============================] - 0s 9ms/step - loss: 0.7057 - accuracy: 0.5322 - val_loss: 0.6966 - val_accuracy: 0.5391\n",
            "Epoch 19/20\n",
            "32/32 [==============================] - 0s 9ms/step - loss: 0.7102 - accuracy: 0.5088 - val_loss: 0.6962 - val_accuracy: 0.5625\n",
            "Epoch 20/20\n",
            "32/32 [==============================] - 0s 8ms/step - loss: 0.7132 - accuracy: 0.5059 - val_loss: 0.6978 - val_accuracy: 0.5273\n",
            "8/8 [==============================] - 0s 7ms/step - loss: 0.6978 - accuracy: 0.5273\n",
            "Epoch 1/20\n",
            "32/32 [==============================] - 3s 20ms/step - loss: 0.8939 - accuracy: 0.5000 - val_loss: 0.8074 - val_accuracy: 0.5469\n",
            "Epoch 2/20\n",
            "32/32 [==============================] - 0s 7ms/step - loss: 0.8069 - accuracy: 0.5166 - val_loss: 0.7131 - val_accuracy: 0.5117\n",
            "Epoch 3/20\n",
            "32/32 [==============================] - 0s 5ms/step - loss: 0.8079 - accuracy: 0.4824 - val_loss: 0.7226 - val_accuracy: 0.5469\n",
            "Epoch 4/20\n",
            "32/32 [==============================] - 0s 5ms/step - loss: 0.7579 - accuracy: 0.5020 - val_loss: 0.6975 - val_accuracy: 0.5469\n",
            "Epoch 5/20\n",
            "32/32 [==============================] - 0s 5ms/step - loss: 0.7885 - accuracy: 0.4902 - val_loss: 0.6957 - val_accuracy: 0.5469\n",
            "Epoch 6/20\n",
            "32/32 [==============================] - 0s 6ms/step - loss: 0.7813 - accuracy: 0.4922 - val_loss: 0.6869 - val_accuracy: 0.5469\n",
            "Epoch 7/20\n",
            "32/32 [==============================] - 0s 6ms/step - loss: 0.7744 - accuracy: 0.4951 - val_loss: 0.6890 - val_accuracy: 0.5469\n",
            "Epoch 8/20\n",
            "32/32 [==============================] - 0s 6ms/step - loss: 0.7492 - accuracy: 0.5078 - val_loss: 0.7066 - val_accuracy: 0.5000\n",
            "Epoch 9/20\n",
            "32/32 [==============================] - 0s 5ms/step - loss: 0.7530 - accuracy: 0.5088 - val_loss: 0.6879 - val_accuracy: 0.5547\n",
            "Epoch 10/20\n",
            "32/32 [==============================] - 0s 5ms/step - loss: 0.7458 - accuracy: 0.4854 - val_loss: 0.7070 - val_accuracy: 0.4805\n",
            "Epoch 11/20\n",
            "32/32 [==============================] - 0s 5ms/step - loss: 0.7579 - accuracy: 0.4697 - val_loss: 0.6929 - val_accuracy: 0.5273\n",
            "Epoch 12/20\n",
            "32/32 [==============================] - 0s 7ms/step - loss: 0.7353 - accuracy: 0.5010 - val_loss: 0.6957 - val_accuracy: 0.5234\n",
            "Epoch 13/20\n",
            "32/32 [==============================] - 0s 6ms/step - loss: 0.7474 - accuracy: 0.4922 - val_loss: 0.6950 - val_accuracy: 0.5234\n",
            "Epoch 14/20\n",
            "32/32 [==============================] - 0s 6ms/step - loss: 0.7270 - accuracy: 0.5137 - val_loss: 0.6957 - val_accuracy: 0.5195\n",
            "Epoch 15/20\n",
            "32/32 [==============================] - 0s 6ms/step - loss: 0.7287 - accuracy: 0.5127 - val_loss: 0.6953 - val_accuracy: 0.5156\n",
            "Epoch 16/20\n",
            "32/32 [==============================] - 0s 6ms/step - loss: 0.7208 - accuracy: 0.4961 - val_loss: 0.6966 - val_accuracy: 0.5234\n",
            "Epoch 17/20\n",
            "32/32 [==============================] - 0s 7ms/step - loss: 0.7207 - accuracy: 0.4922 - val_loss: 0.7005 - val_accuracy: 0.4883\n",
            "Epoch 18/20\n",
            "32/32 [==============================] - 0s 6ms/step - loss: 0.7130 - accuracy: 0.5088 - val_loss: 0.6886 - val_accuracy: 0.5469\n",
            "Epoch 19/20\n",
            "32/32 [==============================] - 0s 6ms/step - loss: 0.7051 - accuracy: 0.5303 - val_loss: 0.6970 - val_accuracy: 0.4883\n",
            "Epoch 20/20\n",
            "32/32 [==============================] - 0s 6ms/step - loss: 0.7094 - accuracy: 0.5107 - val_loss: 0.6949 - val_accuracy: 0.5039\n",
            "8/8 [==============================] - 0s 3ms/step - loss: 0.6949 - accuracy: 0.5039\n",
            "Epoch 1/20\n",
            "32/32 [==============================] - 2s 13ms/step - loss: 0.8178 - accuracy: 0.4883 - val_loss: 0.7040 - val_accuracy: 0.5469\n",
            "Epoch 2/20\n",
            "32/32 [==============================] - 0s 6ms/step - loss: 0.7711 - accuracy: 0.5098 - val_loss: 0.6915 - val_accuracy: 0.5430\n",
            "Epoch 3/20\n",
            "32/32 [==============================] - 0s 5ms/step - loss: 0.7515 - accuracy: 0.5205 - val_loss: 0.6942 - val_accuracy: 0.5664\n",
            "Epoch 4/20\n",
            "32/32 [==============================] - 0s 5ms/step - loss: 0.7414 - accuracy: 0.5059 - val_loss: 0.6891 - val_accuracy: 0.5625\n",
            "Epoch 5/20\n",
            "32/32 [==============================] - 0s 5ms/step - loss: 0.7375 - accuracy: 0.5195 - val_loss: 0.6908 - val_accuracy: 0.5469\n",
            "Epoch 6/20\n",
            "32/32 [==============================] - 0s 6ms/step - loss: 0.7445 - accuracy: 0.5146 - val_loss: 0.6923 - val_accuracy: 0.5547\n",
            "Epoch 7/20\n",
            "32/32 [==============================] - 0s 5ms/step - loss: 0.7305 - accuracy: 0.5000 - val_loss: 0.6954 - val_accuracy: 0.5547\n",
            "Epoch 8/20\n",
            "32/32 [==============================] - 0s 6ms/step - loss: 0.7166 - accuracy: 0.5283 - val_loss: 0.7003 - val_accuracy: 0.5508\n",
            "Epoch 9/20\n",
            "32/32 [==============================] - 0s 5ms/step - loss: 0.7195 - accuracy: 0.4834 - val_loss: 0.6913 - val_accuracy: 0.5391\n",
            "Epoch 10/20\n",
            "32/32 [==============================] - 0s 7ms/step - loss: 0.7151 - accuracy: 0.5186 - val_loss: 0.6913 - val_accuracy: 0.5430\n",
            "Epoch 11/20\n",
            "32/32 [==============================] - 0s 7ms/step - loss: 0.7070 - accuracy: 0.5010 - val_loss: 0.6951 - val_accuracy: 0.5508\n",
            "Epoch 12/20\n",
            "32/32 [==============================] - 0s 6ms/step - loss: 0.7156 - accuracy: 0.5146 - val_loss: 0.6905 - val_accuracy: 0.5508\n",
            "Epoch 13/20\n",
            "32/32 [==============================] - 0s 6ms/step - loss: 0.7093 - accuracy: 0.5215 - val_loss: 0.6900 - val_accuracy: 0.5586\n",
            "Epoch 14/20\n",
            "32/32 [==============================] - 0s 6ms/step - loss: 0.7167 - accuracy: 0.5088 - val_loss: 0.6878 - val_accuracy: 0.5625\n",
            "Epoch 15/20\n",
            "32/32 [==============================] - 0s 6ms/step - loss: 0.7123 - accuracy: 0.5176 - val_loss: 0.6908 - val_accuracy: 0.5508\n",
            "Epoch 16/20\n",
            "32/32 [==============================] - 0s 7ms/step - loss: 0.7228 - accuracy: 0.4746 - val_loss: 0.6893 - val_accuracy: 0.5547\n",
            "Epoch 17/20\n",
            "32/32 [==============================] - 0s 6ms/step - loss: 0.7045 - accuracy: 0.5020 - val_loss: 0.6919 - val_accuracy: 0.5508\n",
            "Epoch 18/20\n",
            "32/32 [==============================] - 0s 6ms/step - loss: 0.7066 - accuracy: 0.5117 - val_loss: 0.6941 - val_accuracy: 0.5508\n",
            "Epoch 19/20\n",
            "32/32 [==============================] - 0s 6ms/step - loss: 0.7071 - accuracy: 0.5078 - val_loss: 0.6894 - val_accuracy: 0.5469\n",
            "Epoch 20/20\n",
            "32/32 [==============================] - 0s 6ms/step - loss: 0.7036 - accuracy: 0.5371 - val_loss: 0.6915 - val_accuracy: 0.5547\n",
            "8/8 [==============================] - 0s 5ms/step - loss: 0.6915 - accuracy: 0.5547\n",
            "         frontal    central   parietal  occipital\n",
            "theta  50.781250  51.953125  50.781250  54.296875\n",
            "alpha  51.562500  50.781250  48.046875  53.125000\n",
            "beta   49.609375  51.562500  49.609375  54.687500\n",
            "gamma  53.906250  52.734375  50.390625  55.468750\n"
          ]
        }
      ]
    },
    {
      "cell_type": "code",
      "source": [
        "print_accuracy('arousal', 'ab')"
      ],
      "metadata": {
        "colab": {
          "base_uri": "https://localhost:8080/"
        },
        "id": "IoKgtLNEpU-v",
        "outputId": "f0ef7f1b-5c2a-40b6-95bd-d7a56f4ebc07"
      },
      "execution_count": 51,
      "outputs": [
        {
          "output_type": "stream",
          "name": "stdout",
          "text": [
            "       frontal  central  parietal  occipital\n",
            "theta    60.78    59.31     57.84      60.29\n",
            "alpha    61.27    59.80     53.43      56.86\n",
            "beta     64.22    56.37     58.33      56.86\n",
            "gamma    60.29    55.39     57.84      65.69\n"
          ]
        }
      ]
    },
    {
      "cell_type": "code",
      "source": [
        "print_conf(\"gamma\",\"occipital\",\"arousal\",\"ab\")"
      ],
      "metadata": {
        "id": "BcqO8QBLHR7q",
        "colab": {
          "base_uri": "https://localhost:8080/",
          "height": 451
        },
        "outputId": "b9221dee-ad39-47ea-f033-ee8438b4b896"
      },
      "execution_count": 79,
      "outputs": [
        {
          "output_type": "display_data",
          "data": {
            "text/plain": [
              "<Figure size 400x200 with 2 Axes>"
            ],
            "image/png": "[encoded data removed]"
          },
          "metadata": {}
        },
        {
          "output_type": "stream",
          "name": "stdout",
          "text": [
            "\n",
            "Classification Report:\n",
            "              precision    recall  f1-score   support\n",
            "\n",
            "           0       0.64      0.69      0.67       101\n",
            "           1       0.67      0.62      0.65       103\n",
            "\n",
            "    accuracy                           0.66       204\n",
            "   macro avg       0.66      0.66      0.66       204\n",
            "weighted avg       0.66      0.66      0.66       204\n",
            "\n"
          ]
        }
      ]
    },
    {
      "cell_type": "code",
      "source": [
        "print_accuracy('valence', 'ab')"
      ],
      "metadata": {
        "colab": {
          "base_uri": "https://localhost:8080/"
        },
        "id": "L1za3TrVphgH",
        "outputId": "59c2f5ca-08b6-4829-e928-91fc9cc7774e"
      },
      "execution_count": 53,
      "outputs": [
        {
          "output_type": "stream",
          "name": "stdout",
          "text": [
            "       frontal  central  parietal  occipital\n",
            "theta    50.49    55.39     56.86      55.88\n",
            "alpha    53.92    56.37     57.84      54.90\n",
            "beta     56.86    56.37     56.86      57.84\n",
            "gamma    56.37    55.88     50.98      55.88\n"
          ]
        }
      ]
    },
    {
      "cell_type": "code",
      "source": [
        "print_accuracy('arousal', 'xgb')"
      ],
      "metadata": {
        "id": "1DPjYGhArgcr",
        "colab": {
          "base_uri": "https://localhost:8080/"
        },
        "outputId": "6cf99f3d-2119-4090-b36c-d47c11053935"
      },
      "execution_count": 54,
      "outputs": [
        {
          "output_type": "stream",
          "name": "stdout",
          "text": [
            "       frontal  central  parietal  occipital\n",
            "theta    61.27    59.31     56.86      59.31\n",
            "alpha    62.75    59.80     63.24      57.84\n",
            "beta     62.25    56.86     61.76      57.35\n",
            "gamma    63.73    59.80     55.39      61.27\n"
          ]
        }
      ]
    },
    {
      "cell_type": "code",
      "source": [
        "print_accuracy('valence', 'xgb')"
      ],
      "metadata": {
        "id": "wYrfmtLwrmES",
        "colab": {
          "base_uri": "https://localhost:8080/"
        },
        "outputId": "52d96d08-24b3-497c-cc38-d65e6466c5d6"
      },
      "execution_count": 55,
      "outputs": [
        {
          "output_type": "stream",
          "name": "stdout",
          "text": [
            "       frontal  central  parietal  occipital\n",
            "theta    54.90    56.37     56.86      57.84\n",
            "alpha    55.39    64.22     62.25      57.35\n",
            "beta     58.82    65.69     58.82      59.80\n",
            "gamma    57.84    58.33     55.88      59.80\n"
          ]
        }
      ]
    },
    {
      "cell_type": "code",
      "source": [
        "print_conf(\"beta\",\"central\",\"valence\",\"xgb\")"
      ],
      "metadata": {
        "id": "6_wzHU40YhWY",
        "colab": {
          "base_uri": "https://localhost:8080/",
          "height": 451
        },
        "outputId": "8cd89d34-99d7-44cc-9aa0-a96a20f5625d"
      },
      "execution_count": 56,
      "outputs": [
        {
          "output_type": "display_data",
          "data": {
            "text/plain": [
              "<Figure size 400x200 with 2 Axes>"
            ],
            "image/png": "[encoded data removed]"
          },
          "metadata": {}
        },
        {
          "output_type": "stream",
          "name": "stdout",
          "text": [
            "\n",
            "Classification Report:\n",
            "              precision    recall  f1-score   support\n",
            "\n",
            "    Not Spam       0.62      0.58      0.60        90\n",
            "        Spam       0.68      0.72      0.70       114\n",
            "\n",
            "    accuracy                           0.66       204\n",
            "   macro avg       0.65      0.65      0.65       204\n",
            "weighted avg       0.65      0.66      0.66       204\n",
            "\n"
          ]
        }
      ]
    },
    {
      "cell_type": "code",
      "source": [
        "print_accuracy('arousal', 'knn')"
      ],
      "metadata": {
        "id": "r3qH1vs2J5rC",
        "colab": {
          "base_uri": "https://localhost:8080/"
        },
        "outputId": "6dd0533f-d09a-49cd-919e-6e7ba1a32680"
      },
      "execution_count": 57,
      "outputs": [
        {
          "output_type": "stream",
          "name": "stdout",
          "text": [
            "       frontal  central  parietal  occipital\n",
            "theta    62.75    60.78     60.29      62.25\n",
            "alpha    65.69    64.22     64.22      59.31\n",
            "beta     61.76    56.86     63.24      55.39\n",
            "gamma    62.25    61.27     60.29      56.37\n"
          ]
        }
      ]
    },
    {
      "cell_type": "code",
      "source": [
        "print_accuracy('valence', 'knn')"
      ],
      "metadata": {
        "id": "x84JhQCIKciv",
        "colab": {
          "base_uri": "https://localhost:8080/"
        },
        "outputId": "dea2d607-ca96-43a3-bdde-0420db345a49"
      },
      "execution_count": 58,
      "outputs": [
        {
          "output_type": "stream",
          "name": "stdout",
          "text": [
            "       frontal  central  parietal  occipital\n",
            "theta    57.84    58.33     51.47      58.33\n",
            "alpha    55.39    57.84     59.31      53.92\n",
            "beta     58.82    57.84     61.76      55.39\n",
            "gamma    64.22    56.86     61.76      54.41\n"
          ]
        }
      ]
    },
    {
      "cell_type": "code",
      "source": [
        "print_accuracy('arousal', 'dtree')"
      ],
      "metadata": {
        "id": "pXS8oiqJKknT",
        "colab": {
          "base_uri": "https://localhost:8080/"
        },
        "outputId": "807a4b8e-521d-462b-abbd-34822b87ab6a"
      },
      "execution_count": 59,
      "outputs": [
        {
          "output_type": "stream",
          "name": "stdout",
          "text": [
            "       frontal  central  parietal  occipital\n",
            "theta    56.86    58.33     57.35      59.31\n",
            "alpha    60.29    59.31     60.29      54.90\n",
            "beta     56.86    54.41     51.47      59.80\n",
            "gamma    60.29    57.84     58.33      55.88\n"
          ]
        }
      ]
    },
    {
      "cell_type": "code",
      "source": [
        "print_accuracy('valence', 'dtree')"
      ],
      "metadata": {
        "id": "zPn1ljyNKtr4",
        "colab": {
          "base_uri": "https://localhost:8080/"
        },
        "outputId": "7deee551-5d60-4b88-83f3-b7f645c0bec0"
      },
      "execution_count": 60,
      "outputs": [
        {
          "output_type": "stream",
          "name": "stdout",
          "text": [
            "       frontal  central  parietal  occipital\n",
            "theta    48.04    54.90     54.41      50.00\n",
            "alpha    56.86    52.94     57.84      57.35\n",
            "beta     50.00    51.47     55.88      59.80\n",
            "gamma    59.31    57.35     57.84      54.41\n"
          ]
        }
      ]
    },
    {
      "cell_type": "code",
      "source": [
        "print_accuracy('arousal', 'rf')"
      ],
      "metadata": {
        "id": "zS_EF8dRKyLm",
        "colab": {
          "base_uri": "https://localhost:8080/"
        },
        "outputId": "6594fba0-5d57-445d-d6b3-ef9de8f5caed"
      },
      "execution_count": 61,
      "outputs": [
        {
          "output_type": "stream",
          "name": "stdout",
          "text": [
            "       frontal  central  parietal  occipital\n",
            "theta    59.31    60.29     58.33      63.73\n",
            "alpha    64.71    63.24     60.29      61.76\n",
            "beta     59.80    55.39     63.73      56.37\n",
            "gamma    66.18    60.78     58.82      61.76\n"
          ]
        }
      ]
    },
    {
      "cell_type": "code",
      "source": [
        "print_accuracy('valence', 'rf')"
      ],
      "metadata": {
        "id": "GNTGFHQOK14l",
        "colab": {
          "base_uri": "https://localhost:8080/"
        },
        "outputId": "6369dd44-3538-49bb-f213-c166fbe51c3d"
      },
      "execution_count": 62,
      "outputs": [
        {
          "output_type": "stream",
          "name": "stdout",
          "text": [
            "       frontal  central  parietal  occipital\n",
            "theta    53.92    55.39     59.80      60.78\n",
            "alpha    57.84    62.25     62.75      58.82\n",
            "beta     59.80    61.27     63.24      62.25\n",
            "gamma    60.78    60.29     56.86      62.25\n"
          ]
        }
      ]
    },
    {
      "cell_type": "code",
      "source": [
        "print_accuracy('arousal', 'nb')"
      ],
      "metadata": {
        "id": "MkmagqFfK54a",
        "colab": {
          "base_uri": "https://localhost:8080/"
        },
        "outputId": "9918d7ab-b7e9-4bac-eaf7-9f5bc8be0fd2"
      },
      "execution_count": 63,
      "outputs": [
        {
          "output_type": "stream",
          "name": "stdout",
          "text": [
            "       frontal  central  parietal  occipital\n",
            "theta    47.55    52.94     50.00      51.47\n",
            "alpha    49.02    52.94     50.98      51.47\n",
            "beta     48.04    50.98     54.41      47.55\n",
            "gamma    49.02    52.45     51.47      47.55\n"
          ]
        }
      ]
    },
    {
      "cell_type": "code",
      "source": [
        "print_accuracy('valence', 'nb')"
      ],
      "metadata": {
        "colab": {
          "base_uri": "https://localhost:8080/"
        },
        "id": "uV3gnYCKK-cA",
        "outputId": "c74bf097-6a13-4061-9a30-62611314f903"
      },
      "execution_count": 64,
      "outputs": [
        {
          "output_type": "stream",
          "name": "stdout",
          "text": [
            "       frontal  central  parietal  occipital\n",
            "theta    56.86    48.04     55.88      56.37\n",
            "alpha    55.39    47.55     48.53      57.35\n",
            "beta     54.90    49.51     47.55      55.39\n",
            "gamma    56.37    56.86     54.90      57.84\n"
          ]
        }
      ]
    },
    {
      "cell_type": "code",
      "source": [
        "print_accuracy('arousal', 'mlp')"
      ],
      "metadata": {
        "id": "02_ynnQ1LEoz",
        "colab": {
          "base_uri": "https://localhost:8080/"
        },
        "outputId": "bd400f5e-a8cf-463a-e38d-800643e7919f"
      },
      "execution_count": 65,
      "outputs": [
        {
          "output_type": "stream",
          "name": "stdout",
          "text": [
            "       frontal  central  parietal  occipital\n",
            "theta    51.47    57.84     50.49      52.94\n",
            "alpha    52.94    50.49     50.49      53.43\n",
            "beta     51.47    50.00     54.41      54.90\n",
            "gamma    56.37    56.37     50.00      55.88\n"
          ]
        }
      ]
    },
    {
      "cell_type": "code",
      "source": [
        "print_accuracy('valence', 'mlp')"
      ],
      "metadata": {
        "id": "tuwCpDS1LHAx",
        "colab": {
          "base_uri": "https://localhost:8080/"
        },
        "outputId": "c3494fb6-ad85-44d0-ac5e-72f25f9d37b9"
      },
      "execution_count": 66,
      "outputs": [
        {
          "output_type": "stream",
          "name": "stdout",
          "text": [
            "       frontal  central  parietal  occipital\n",
            "theta    54.90    56.86     56.86      57.35\n",
            "alpha    53.92    56.37     53.92      57.35\n",
            "beta     54.41    55.88     55.39      56.86\n",
            "gamma    54.90    52.45     52.45      55.39\n"
          ]
        }
      ]
    },
    {
      "cell_type": "code",
      "source": [
        "print_accuracy('arousal', 'lgbm')"
      ],
      "metadata": {
        "id": "tAvwS8OmOkX6",
        "colab": {
          "base_uri": "https://localhost:8080/"
        },
        "outputId": "000e2159-8efb-4671-8693-dd7a004d00c5"
      },
      "execution_count": 67,
      "outputs": [
        {
          "output_type": "stream",
          "name": "stdout",
          "text": [
            "[LightGBM] [Info] Number of positive: 407, number of negative: 413\n",
            "[LightGBM] [Info] Auto-choosing col-wise multi-threading, the overhead of testing was 0.000171 seconds.\n",
            "You can set `force_col_wise=true` to remove the overhead.\n",
            "[LightGBM] [Info] Total Bins 1275\n",
            "[LightGBM] [Info] Number of data points in the train set: 820, number of used features: 5\n",
            "[LightGBM] [Info] [binary:BoostFromScore]: pavg=0.496341 -> initscore=-0.014634\n",
            "[LightGBM] [Info] Start training from score -0.014634\n",
            "[LightGBM] [Warning] No further splits with positive gain, best gain: -inf\n",
            "[LightGBM] [Warning] No further splits with positive gain, best gain: -inf\n",
            "[LightGBM] [Warning] No further splits with positive gain, best gain: -inf\n",
            "[LightGBM] [Warning] No further splits with positive gain, best gain: -inf\n",
            "[LightGBM] [Warning] No further splits with positive gain, best gain: -inf\n",
            "[LightGBM] [Warning] No further splits with positive gain, best gain: -inf\n",
            "[LightGBM] [Warning] No further splits with positive gain, best gain: -inf\n",
            "[LightGBM] [Warning] No further splits with positive gain, best gain: -inf\n",
            "[LightGBM] [Warning] No further splits with positive gain, best gain: -inf\n",
            "[LightGBM] [Warning] No further splits with positive gain, best gain: -inf\n",
            "[LightGBM] [Info] Number of positive: 407, number of negative: 413\n",
            "[LightGBM] [Info] Auto-choosing col-wise multi-threading, the overhead of testing was 0.000090 seconds.\n",
            "You can set `force_col_wise=true` to remove the overhead.\n",
            "[LightGBM] [Info] Total Bins 1785\n",
            "[LightGBM] [Info] Number of data points in the train set: 820, number of used features: 7\n",
            "[LightGBM] [Info] [binary:BoostFromScore]: pavg=0.496341 -> initscore=-0.014634\n",
            "[LightGBM] [Info] Start training from score -0.014634\n",
            "[LightGBM] [Warning] No further splits with positive gain, best gain: -inf\n",
            "[LightGBM] [Warning] No further splits with positive gain, best gain: -inf\n",
            "[LightGBM] [Warning] No further splits with positive gain, best gain: -inf\n",
            "[LightGBM] [Warning] No further splits with positive gain, best gain: -inf\n",
            "[LightGBM] [Warning] No further splits with positive gain, best gain: -inf\n",
            "[LightGBM] [Warning] No further splits with positive gain, best gain: -inf\n",
            "[LightGBM] [Warning] No further splits with positive gain, best gain: -inf\n",
            "[LightGBM] [Warning] No further splits with positive gain, best gain: -inf\n",
            "[LightGBM] [Warning] No further splits with positive gain, best gain: -inf\n",
            "[LightGBM] [Info] Number of positive: 407, number of negative: 413\n",
            "[LightGBM] [Info] Auto-choosing col-wise multi-threading, the overhead of testing was 0.000117 seconds.\n",
            "You can set `force_col_wise=true` to remove the overhead.\n",
            "[LightGBM] [Info] Total Bins 1275\n",
            "[LightGBM] [Info] Number of data points in the train set: 820, number of used features: 5\n",
            "[LightGBM] [Info] [binary:BoostFromScore]: pavg=0.496341 -> initscore=-0.014634\n",
            "[LightGBM] [Info] Start training from score -0.014634\n",
            "[LightGBM] [Warning] No further splits with positive gain, best gain: -inf\n",
            "[LightGBM] [Warning] No further splits with positive gain, best gain: -inf\n",
            "[LightGBM] [Warning] No further splits with positive gain, best gain: -inf\n",
            "[LightGBM] [Warning] No further splits with positive gain, best gain: -inf\n",
            "[LightGBM] [Warning] No further splits with positive gain, best gain: -inf\n",
            "[LightGBM] [Warning] No further splits with positive gain, best gain: -inf\n",
            "[LightGBM] [Warning] No further splits with positive gain, best gain: -inf\n",
            "[LightGBM] [Warning] No further splits with positive gain, best gain: -inf\n",
            "[LightGBM] [Info] Number of positive: 407, number of negative: 413\n",
            "[LightGBM] [Info] Auto-choosing col-wise multi-threading, the overhead of testing was 0.000106 seconds.\n",
            "You can set `force_col_wise=true` to remove the overhead.\n",
            "[LightGBM] [Info] Total Bins 1275\n",
            "[LightGBM] [Info] Number of data points in the train set: 820, number of used features: 5\n",
            "[LightGBM] [Info] [binary:BoostFromScore]: pavg=0.496341 -> initscore=-0.014634\n",
            "[LightGBM] [Info] Start training from score -0.014634\n",
            "[LightGBM] [Warning] No further splits with positive gain, best gain: -inf\n",
            "[LightGBM] [Warning] No further splits with positive gain, best gain: -inf\n",
            "[LightGBM] [Warning] No further splits with positive gain, best gain: -inf\n",
            "[LightGBM] [Info] Number of positive: 407, number of negative: 413\n",
            "[LightGBM] [Info] Auto-choosing col-wise multi-threading, the overhead of testing was 0.000127 seconds.\n",
            "You can set `force_col_wise=true` to remove the overhead.\n",
            "[LightGBM] [Info] Total Bins 1275\n",
            "[LightGBM] [Info] Number of data points in the train set: 820, number of used features: 5\n",
            "[LightGBM] [Info] [binary:BoostFromScore]: pavg=0.496341 -> initscore=-0.014634\n",
            "[LightGBM] [Info] Start training from score -0.014634\n",
            "[LightGBM] [Warning] No further splits with positive gain, best gain: -inf\n",
            "[LightGBM] [Warning] No further splits with positive gain, best gain: -inf\n",
            "[LightGBM] [Warning] No further splits with positive gain, best gain: -inf\n",
            "[LightGBM] [Warning] No further splits with positive gain, best gain: -inf\n",
            "[LightGBM] [Warning] No further splits with positive gain, best gain: -inf\n",
            "[LightGBM] [Info] Number of positive: 407, number of negative: 413\n",
            "[LightGBM] [Info] Auto-choosing col-wise multi-threading, the overhead of testing was 0.000137 seconds.\n",
            "You can set `force_col_wise=true` to remove the overhead.\n",
            "[LightGBM] [Info] Total Bins 1785\n",
            "[LightGBM] [Info] Number of data points in the train set: 820, number of used features: 7\n",
            "[LightGBM] [Info] [binary:BoostFromScore]: pavg=0.496341 -> initscore=-0.014634\n",
            "[LightGBM] [Info] Start training from score -0.014634\n",
            "[LightGBM] [Warning] No further splits with positive gain, best gain: -inf\n",
            "[LightGBM] [Warning] No further splits with positive gain, best gain: -inf\n",
            "[LightGBM] [Warning] No further splits with positive gain, best gain: -inf\n",
            "[LightGBM] [Warning] No further splits with positive gain, best gain: -inf\n",
            "[LightGBM] [Warning] No further splits with positive gain, best gain: -inf\n",
            "[LightGBM] [Warning] No further splits with positive gain, best gain: -inf\n",
            "[LightGBM] [Warning] No further splits with positive gain, best gain: -inf\n",
            "[LightGBM] [Warning] No further splits with positive gain, best gain: -inf\n",
            "[LightGBM] [Warning] No further splits with positive gain, best gain: -inf\n",
            "[LightGBM] [Info] Number of positive: 407, number of negative: 413\n",
            "[LightGBM] [Info] Auto-choosing col-wise multi-threading, the overhead of testing was 0.000107 seconds.\n",
            "You can set `force_col_wise=true` to remove the overhead.\n",
            "[LightGBM] [Info] Total Bins 1275\n",
            "[LightGBM] [Info] Number of data points in the train set: 820, number of used features: 5\n",
            "[LightGBM] [Info] [binary:BoostFromScore]: pavg=0.496341 -> initscore=-0.014634\n",
            "[LightGBM] [Info] Start training from score -0.014634\n",
            "[LightGBM] [Warning] No further splits with positive gain, best gain: -inf\n",
            "[LightGBM] [Warning] No further splits with positive gain, best gain: -inf\n",
            "[LightGBM] [Warning] No further splits with positive gain, best gain: -inf\n",
            "[LightGBM] [Warning] No further splits with positive gain, best gain: -inf\n",
            "[LightGBM] [Warning] No further splits with positive gain, best gain: -inf\n",
            "[LightGBM] [Info] Number of positive: 407, number of negative: 413\n",
            "[LightGBM] [Info] Auto-choosing col-wise multi-threading, the overhead of testing was 0.000114 seconds.\n",
            "You can set `force_col_wise=true` to remove the overhead.\n",
            "[LightGBM] [Info] Total Bins 1275\n",
            "[LightGBM] [Info] Number of data points in the train set: 820, number of used features: 5\n",
            "[LightGBM] [Info] [binary:BoostFromScore]: pavg=0.496341 -> initscore=-0.014634\n",
            "[LightGBM] [Info] Start training from score -0.014634\n",
            "[LightGBM] [Warning] No further splits with positive gain, best gain: -inf\n",
            "[LightGBM] [Warning] No further splits with positive gain, best gain: -inf\n",
            "[LightGBM] [Warning] No further splits with positive gain, best gain: -inf\n",
            "[LightGBM] [Warning] No further splits with positive gain, best gain: -inf\n",
            "[LightGBM] [Warning] No further splits with positive gain, best gain: -inf\n",
            "[LightGBM] [Info] Number of positive: 407, number of negative: 413\n",
            "[LightGBM] [Info] Auto-choosing col-wise multi-threading, the overhead of testing was 0.000108 seconds.\n",
            "You can set `force_col_wise=true` to remove the overhead.\n",
            "[LightGBM] [Info] Total Bins 1275\n",
            "[LightGBM] [Info] Number of data points in the train set: 820, number of used features: 5\n",
            "[LightGBM] [Info] [binary:BoostFromScore]: pavg=0.496341 -> initscore=-0.014634\n",
            "[LightGBM] [Info] Start training from score -0.014634\n",
            "[LightGBM] [Warning] No further splits with positive gain, best gain: -inf\n",
            "[LightGBM] [Warning] No further splits with positive gain, best gain: -inf\n",
            "[LightGBM] [Warning] No further splits with positive gain, best gain: -inf\n",
            "[LightGBM] [Info] Number of positive: 407, number of negative: 413\n",
            "[LightGBM] [Info] Auto-choosing col-wise multi-threading, the overhead of testing was 0.000131 seconds.\n",
            "You can set `force_col_wise=true` to remove the overhead.\n",
            "[LightGBM] [Info] Total Bins 1785\n",
            "[LightGBM] [Info] Number of data points in the train set: 820, number of used features: 7\n",
            "[LightGBM] [Info] [binary:BoostFromScore]: pavg=0.496341 -> initscore=-0.014634\n",
            "[LightGBM] [Info] Start training from score -0.014634\n",
            "[LightGBM] [Warning] No further splits with positive gain, best gain: -inf\n",
            "[LightGBM] [Warning] No further splits with positive gain, best gain: -inf\n",
            "[LightGBM] [Info] Number of positive: 407, number of negative: 413\n",
            "[LightGBM] [Info] Auto-choosing row-wise multi-threading, the overhead of testing was 0.000066 seconds.\n",
            "You can set `force_row_wise=true` to remove the overhead.\n",
            "And if memory is not enough, you can set `force_col_wise=true`.\n",
            "[LightGBM] [Info] Total Bins 1275\n",
            "[LightGBM] [Info] Number of data points in the train set: 820, number of used features: 5\n",
            "[LightGBM] [Info] [binary:BoostFromScore]: pavg=0.496341 -> initscore=-0.014634\n",
            "[LightGBM] [Info] Start training from score -0.014634\n",
            "[LightGBM] [Warning] No further splits with positive gain, best gain: -inf\n",
            "[LightGBM] [Warning] No further splits with positive gain, best gain: -inf\n",
            "[LightGBM] [Warning] No further splits with positive gain, best gain: -inf\n",
            "[LightGBM] [Warning] No further splits with positive gain, best gain: -inf\n",
            "[LightGBM] [Warning] No further splits with positive gain, best gain: -inf\n",
            "[LightGBM] [Info] Number of positive: 407, number of negative: 413\n",
            "[LightGBM] [Info] Auto-choosing col-wise multi-threading, the overhead of testing was 0.000112 seconds.\n",
            "You can set `force_col_wise=true` to remove the overhead.\n",
            "[LightGBM] [Info] Total Bins 1275\n",
            "[LightGBM] [Info] Number of data points in the train set: 820, number of used features: 5\n",
            "[LightGBM] [Info] [binary:BoostFromScore]: pavg=0.496341 -> initscore=-0.014634\n",
            "[LightGBM] [Info] Start training from score -0.014634\n",
            "[LightGBM] [Warning] No further splits with positive gain, best gain: -inf\n",
            "[LightGBM] [Warning] No further splits with positive gain, best gain: -inf\n",
            "[LightGBM] [Warning] No further splits with positive gain, best gain: -inf\n",
            "[LightGBM] [Warning] No further splits with positive gain, best gain: -inf\n",
            "[LightGBM] [Warning] No further splits with positive gain, best gain: -inf\n",
            "[LightGBM] [Warning] No further splits with positive gain, best gain: -inf\n",
            "[LightGBM] [Warning] No further splits with positive gain, best gain: -inf\n",
            "[LightGBM] [Warning] No further splits with positive gain, best gain: -inf\n",
            "[LightGBM] [Warning] No further splits with positive gain, best gain: -inf\n",
            "[LightGBM] [Warning] No further splits with positive gain, best gain: -inf\n",
            "[LightGBM] [Warning] No further splits with positive gain, best gain: -inf\n",
            "[LightGBM] [Info] Number of positive: 407, number of negative: 413\n",
            "[LightGBM] [Info] Auto-choosing col-wise multi-threading, the overhead of testing was 0.000106 seconds.\n",
            "You can set `force_col_wise=true` to remove the overhead.\n",
            "[LightGBM] [Info] Total Bins 1275\n",
            "[LightGBM] [Info] Number of data points in the train set: 820, number of used features: 5\n",
            "[LightGBM] [Info] [binary:BoostFromScore]: pavg=0.496341 -> initscore=-0.014634\n",
            "[LightGBM] [Info] Start training from score -0.014634\n",
            "[LightGBM] [Warning] No further splits with positive gain, best gain: -inf\n",
            "[LightGBM] [Warning] No further splits with positive gain, best gain: -inf\n",
            "[LightGBM] [Warning] No further splits with positive gain, best gain: -inf\n",
            "[LightGBM] [Info] Number of positive: 407, number of negative: 413\n",
            "[LightGBM] [Info] Auto-choosing col-wise multi-threading, the overhead of testing was 0.000143 seconds.\n",
            "You can set `force_col_wise=true` to remove the overhead.\n",
            "[LightGBM] [Info] Total Bins 1785\n",
            "[LightGBM] [Info] Number of data points in the train set: 820, number of used features: 7\n",
            "[LightGBM] [Info] [binary:BoostFromScore]: pavg=0.496341 -> initscore=-0.014634\n",
            "[LightGBM] [Info] Start training from score -0.014634\n",
            "[LightGBM] [Warning] No further splits with positive gain, best gain: -inf\n",
            "[LightGBM] [Warning] No further splits with positive gain, best gain: -inf\n",
            "[LightGBM] [Warning] No further splits with positive gain, best gain: -inf\n",
            "[LightGBM] [Warning] No further splits with positive gain, best gain: -inf\n",
            "[LightGBM] [Warning] No further splits with positive gain, best gain: -inf\n",
            "[LightGBM] [Warning] No further splits with positive gain, best gain: -inf\n",
            "[LightGBM] [Warning] No further splits with positive gain, best gain: -inf\n",
            "[LightGBM] [Warning] No further splits with positive gain, best gain: -inf\n",
            "[LightGBM] [Warning] No further splits with positive gain, best gain: -inf\n",
            "[LightGBM] [Warning] No further splits with positive gain, best gain: -inf\n",
            "[LightGBM] [Warning] No further splits with positive gain, best gain: -inf\n",
            "[LightGBM] [Info] Number of positive: 407, number of negative: 413\n",
            "[LightGBM] [Info] Auto-choosing col-wise multi-threading, the overhead of testing was 0.000142 seconds.\n",
            "You can set `force_col_wise=true` to remove the overhead.\n",
            "[LightGBM] [Info] Total Bins 1275\n",
            "[LightGBM] [Info] Number of data points in the train set: 820, number of used features: 5\n",
            "[LightGBM] [Info] [binary:BoostFromScore]: pavg=0.496341 -> initscore=-0.014634\n",
            "[LightGBM] [Info] Start training from score -0.014634\n",
            "[LightGBM] [Warning] No further splits with positive gain, best gain: -inf\n",
            "[LightGBM] [Warning] No further splits with positive gain, best gain: -inf\n",
            "[LightGBM] [Warning] No further splits with positive gain, best gain: -inf\n",
            "[LightGBM] [Warning] No further splits with positive gain, best gain: -inf\n",
            "[LightGBM] [Warning] No further splits with positive gain, best gain: -inf\n",
            "[LightGBM] [Warning] No further splits with positive gain, best gain: -inf\n",
            "[LightGBM] [Warning] No further splits with positive gain, best gain: -inf\n",
            "[LightGBM] [Info] Number of positive: 407, number of negative: 413\n",
            "[LightGBM] [Info] Auto-choosing row-wise multi-threading, the overhead of testing was 0.000071 seconds.\n",
            "You can set `force_row_wise=true` to remove the overhead.\n",
            "And if memory is not enough, you can set `force_col_wise=true`.\n",
            "[LightGBM] [Info] Total Bins 1275\n",
            "[LightGBM] [Info] Number of data points in the train set: 820, number of used features: 5\n",
            "[LightGBM] [Info] [binary:BoostFromScore]: pavg=0.496341 -> initscore=-0.014634\n",
            "[LightGBM] [Info] Start training from score -0.014634\n",
            "[LightGBM] [Warning] No further splits with positive gain, best gain: -inf\n",
            "[LightGBM] [Warning] No further splits with positive gain, best gain: -inf\n",
            "[LightGBM] [Warning] No further splits with positive gain, best gain: -inf\n",
            "[LightGBM] [Warning] No further splits with positive gain, best gain: -inf\n",
            "[LightGBM] [Warning] No further splits with positive gain, best gain: -inf\n",
            "[LightGBM] [Warning] No further splits with positive gain, best gain: -inf\n",
            "[LightGBM] [Warning] No further splits with positive gain, best gain: -inf\n",
            "[LightGBM] [Warning] No further splits with positive gain, best gain: -inf\n",
            "[LightGBM] [Warning] No further splits with positive gain, best gain: -inf\n",
            "[LightGBM] [Warning] No further splits with positive gain, best gain: -inf\n",
            "       frontal  central  parietal  occipital\n",
            "theta    60.29    60.78     54.41      60.78\n",
            "alpha    63.24    60.29     62.25      60.29\n",
            "beta     61.27    57.35     57.84      58.33\n",
            "gamma    59.31    61.76     58.82      62.75\n"
          ]
        }
      ]
    },
    {
      "cell_type": "code",
      "source": [
        "print_accuracy('valence', 'lgbm')"
      ],
      "metadata": {
        "id": "hIwlFJ7nOyFX",
        "colab": {
          "base_uri": "https://localhost:8080/"
        },
        "outputId": "83c5f86b-c1b4-4b5a-c1be-1c19885da7aa"
      },
      "execution_count": 68,
      "outputs": [
        {
          "output_type": "stream",
          "name": "stdout",
          "text": [
            "[LightGBM] [Info] Number of positive: 426, number of negative: 394\n",
            "[LightGBM] [Info] Auto-choosing col-wise multi-threading, the overhead of testing was 0.000165 seconds.\n",
            "You can set `force_col_wise=true` to remove the overhead.\n",
            "[LightGBM] [Info] Total Bins 1275\n",
            "[LightGBM] [Info] Number of data points in the train set: 820, number of used features: 5\n",
            "[LightGBM] [Info] [binary:BoostFromScore]: pavg=0.519512 -> initscore=0.078088\n",
            "[LightGBM] [Info] Start training from score 0.078088\n",
            "[LightGBM] [Warning] No further splits with positive gain, best gain: -inf\n",
            "[LightGBM] [Warning] No further splits with positive gain, best gain: -inf\n",
            "[LightGBM] [Warning] No further splits with positive gain, best gain: -inf\n",
            "[LightGBM] [Warning] No further splits with positive gain, best gain: -inf\n",
            "[LightGBM] [Warning] No further splits with positive gain, best gain: -inf\n",
            "[LightGBM] [Info] Number of positive: 426, number of negative: 394\n",
            "[LightGBM] [Info] Auto-choosing col-wise multi-threading, the overhead of testing was 0.000136 seconds.\n",
            "You can set `force_col_wise=true` to remove the overhead.\n",
            "[LightGBM] [Info] Total Bins 1785\n",
            "[LightGBM] [Info] Number of data points in the train set: 820, number of used features: 7\n",
            "[LightGBM] [Info] [binary:BoostFromScore]: pavg=0.519512 -> initscore=0.078088\n",
            "[LightGBM] [Info] Start training from score 0.078088\n",
            "[LightGBM] [Warning] No further splits with positive gain, best gain: -inf\n",
            "[LightGBM] [Warning] No further splits with positive gain, best gain: -inf\n",
            "[LightGBM] [Warning] No further splits with positive gain, best gain: -inf\n",
            "[LightGBM] [Warning] No further splits with positive gain, best gain: -inf\n",
            "[LightGBM] [Warning] No further splits with positive gain, best gain: -inf\n",
            "[LightGBM] [Warning] No further splits with positive gain, best gain: -inf\n",
            "[LightGBM] [Warning] No further splits with positive gain, best gain: -inf\n",
            "[LightGBM] [Warning] No further splits with positive gain, best gain: -inf\n",
            "[LightGBM] [Info] Number of positive: 426, number of negative: 394\n",
            "[LightGBM] [Info] Auto-choosing col-wise multi-threading, the overhead of testing was 0.000104 seconds.\n",
            "You can set `force_col_wise=true` to remove the overhead.\n",
            "[LightGBM] [Info] Total Bins 1275\n",
            "[LightGBM] [Info] Number of data points in the train set: 820, number of used features: 5\n",
            "[LightGBM] [Info] [binary:BoostFromScore]: pavg=0.519512 -> initscore=0.078088\n",
            "[LightGBM] [Info] Start training from score 0.078088\n",
            "[LightGBM] [Warning] No further splits with positive gain, best gain: -inf\n",
            "[LightGBM] [Warning] No further splits with positive gain, best gain: -inf\n",
            "[LightGBM] [Warning] No further splits with positive gain, best gain: -inf\n",
            "[LightGBM] [Warning] No further splits with positive gain, best gain: -inf\n",
            "[LightGBM] [Warning] No further splits with positive gain, best gain: -inf\n",
            "[LightGBM] [Warning] No further splits with positive gain, best gain: -inf\n",
            "[LightGBM] [Info] Number of positive: 426, number of negative: 394\n",
            "[LightGBM] [Info] Auto-choosing col-wise multi-threading, the overhead of testing was 0.000103 seconds.\n",
            "You can set `force_col_wise=true` to remove the overhead.\n",
            "[LightGBM] [Info] Total Bins 1275\n",
            "[LightGBM] [Info] Number of data points in the train set: 820, number of used features: 5\n",
            "[LightGBM] [Info] [binary:BoostFromScore]: pavg=0.519512 -> initscore=0.078088\n",
            "[LightGBM] [Info] Start training from score 0.078088\n",
            "[LightGBM] [Warning] No further splits with positive gain, best gain: -inf\n",
            "[LightGBM] [Warning] No further splits with positive gain, best gain: -inf\n",
            "[LightGBM] [Warning] No further splits with positive gain, best gain: -inf\n",
            "[LightGBM] [Warning] No further splits with positive gain, best gain: -inf\n",
            "[LightGBM] [Warning] No further splits with positive gain, best gain: -inf\n",
            "[LightGBM] [Warning] No further splits with positive gain, best gain: -inf\n",
            "[LightGBM] [Warning] No further splits with positive gain, best gain: -inf\n",
            "[LightGBM] [Warning] No further splits with positive gain, best gain: -inf\n",
            "[LightGBM] [Warning] No further splits with positive gain, best gain: -inf\n",
            "[LightGBM] [Warning] No further splits with positive gain, best gain: -inf\n",
            "[LightGBM] [Info] Number of positive: 426, number of negative: 394\n",
            "[LightGBM] [Info] Auto-choosing col-wise multi-threading, the overhead of testing was 0.000106 seconds.\n",
            "You can set `force_col_wise=true` to remove the overhead.\n",
            "[LightGBM] [Info] Total Bins 1275\n",
            "[LightGBM] [Info] Number of data points in the train set: 820, number of used features: 5\n",
            "[LightGBM] [Info] [binary:BoostFromScore]: pavg=0.519512 -> initscore=0.078088\n",
            "[LightGBM] [Info] Start training from score 0.078088\n",
            "[LightGBM] [Warning] No further splits with positive gain, best gain: -inf\n",
            "[LightGBM] [Warning] No further splits with positive gain, best gain: -inf\n",
            "[LightGBM] [Warning] No further splits with positive gain, best gain: -inf\n",
            "[LightGBM] [Warning] No further splits with positive gain, best gain: -inf\n",
            "[LightGBM] [Warning] No further splits with positive gain, best gain: -inf\n",
            "[LightGBM] [Info] Number of positive: 426, number of negative: 394\n",
            "[LightGBM] [Info] Auto-choosing col-wise multi-threading, the overhead of testing was 0.000155 seconds.\n",
            "You can set `force_col_wise=true` to remove the overhead.\n",
            "[LightGBM] [Info] Total Bins 1785\n",
            "[LightGBM] [Info] Number of data points in the train set: 820, number of used features: 7\n",
            "[LightGBM] [Info] [binary:BoostFromScore]: pavg=0.519512 -> initscore=0.078088\n",
            "[LightGBM] [Info] Start training from score 0.078088\n",
            "[LightGBM] [Warning] No further splits with positive gain, best gain: -inf\n",
            "[LightGBM] [Warning] No further splits with positive gain, best gain: -inf\n",
            "[LightGBM] [Warning] No further splits with positive gain, best gain: -inf\n",
            "[LightGBM] [Warning] No further splits with positive gain, best gain: -inf\n",
            "[LightGBM] [Warning] No further splits with positive gain, best gain: -inf\n",
            "[LightGBM] [Info] Number of positive: 426, number of negative: 394\n",
            "[LightGBM] [Info] Auto-choosing col-wise multi-threading, the overhead of testing was 0.000129 seconds.\n",
            "You can set `force_col_wise=true` to remove the overhead.\n",
            "[LightGBM] [Info] Total Bins 1275\n",
            "[LightGBM] [Info] Number of data points in the train set: 820, number of used features: 5\n",
            "[LightGBM] [Info] [binary:BoostFromScore]: pavg=0.519512 -> initscore=0.078088\n",
            "[LightGBM] [Info] Start training from score 0.078088\n",
            "[LightGBM] [Warning] No further splits with positive gain, best gain: -inf\n",
            "[LightGBM] [Warning] No further splits with positive gain, best gain: -inf\n",
            "[LightGBM] [Warning] No further splits with positive gain, best gain: -inf\n",
            "[LightGBM] [Warning] No further splits with positive gain, best gain: -inf\n",
            "[LightGBM] [Warning] No further splits with positive gain, best gain: -inf\n",
            "[LightGBM] [Warning] No further splits with positive gain, best gain: -inf\n",
            "[LightGBM] [Warning] No further splits with positive gain, best gain: -inf\n",
            "[LightGBM] [Warning] No further splits with positive gain, best gain: -inf\n",
            "[LightGBM] [Warning] No further splits with positive gain, best gain: -inf\n",
            "[LightGBM] [Info] Number of positive: 426, number of negative: 394\n",
            "[LightGBM] [Info] Auto-choosing col-wise multi-threading, the overhead of testing was 0.000122 seconds.\n",
            "You can set `force_col_wise=true` to remove the overhead.\n",
            "[LightGBM] [Info] Total Bins 1275\n",
            "[LightGBM] [Info] Number of data points in the train set: 820, number of used features: 5\n",
            "[LightGBM] [Info] [binary:BoostFromScore]: pavg=0.519512 -> initscore=0.078088\n",
            "[LightGBM] [Info] Start training from score 0.078088\n",
            "[LightGBM] [Warning] No further splits with positive gain, best gain: -inf\n",
            "[LightGBM] [Warning] No further splits with positive gain, best gain: -inf\n",
            "[LightGBM] [Warning] No further splits with positive gain, best gain: -inf\n",
            "[LightGBM] [Warning] No further splits with positive gain, best gain: -inf\n",
            "[LightGBM] [Warning] No further splits with positive gain, best gain: -inf\n",
            "[LightGBM] [Warning] No further splits with positive gain, best gain: -inf\n",
            "[LightGBM] [Warning] No further splits with positive gain, best gain: -inf\n",
            "[LightGBM] [Info] Number of positive: 426, number of negative: 394\n",
            "[LightGBM] [Info] Auto-choosing col-wise multi-threading, the overhead of testing was 0.000108 seconds.\n",
            "You can set `force_col_wise=true` to remove the overhead.\n",
            "[LightGBM] [Info] Total Bins 1275\n",
            "[LightGBM] [Info] Number of data points in the train set: 820, number of used features: 5\n",
            "[LightGBM] [Info] [binary:BoostFromScore]: pavg=0.519512 -> initscore=0.078088\n",
            "[LightGBM] [Info] Start training from score 0.078088\n",
            "[LightGBM] [Warning] No further splits with positive gain, best gain: -inf\n",
            "[LightGBM] [Warning] No further splits with positive gain, best gain: -inf\n",
            "[LightGBM] [Warning] No further splits with positive gain, best gain: -inf\n",
            "[LightGBM] [Warning] No further splits with positive gain, best gain: -inf\n",
            "[LightGBM] [Warning] No further splits with positive gain, best gain: -inf\n",
            "[LightGBM] [Info] Number of positive: 426, number of negative: 394\n",
            "[LightGBM] [Info] Auto-choosing col-wise multi-threading, the overhead of testing was 0.000144 seconds.\n",
            "You can set `force_col_wise=true` to remove the overhead.\n",
            "[LightGBM] [Info] Total Bins 1785\n",
            "[LightGBM] [Info] Number of data points in the train set: 820, number of used features: 7\n",
            "[LightGBM] [Info] [binary:BoostFromScore]: pavg=0.519512 -> initscore=0.078088\n",
            "[LightGBM] [Info] Start training from score 0.078088\n",
            "[LightGBM] [Warning] No further splits with positive gain, best gain: -inf\n",
            "[LightGBM] [Warning] No further splits with positive gain, best gain: -inf\n",
            "[LightGBM] [Warning] No further splits with positive gain, best gain: -inf\n",
            "[LightGBM] [Warning] No further splits with positive gain, best gain: -inf\n",
            "[LightGBM] [Info] Number of positive: 426, number of negative: 394\n",
            "[LightGBM] [Info] Auto-choosing col-wise multi-threading, the overhead of testing was 0.000114 seconds.\n",
            "You can set `force_col_wise=true` to remove the overhead.\n",
            "[LightGBM] [Info] Total Bins 1275\n",
            "[LightGBM] [Info] Number of data points in the train set: 820, number of used features: 5\n",
            "[LightGBM] [Info] [binary:BoostFromScore]: pavg=0.519512 -> initscore=0.078088\n",
            "[LightGBM] [Info] Start training from score 0.078088\n",
            "[LightGBM] [Warning] No further splits with positive gain, best gain: -inf\n",
            "[LightGBM] [Warning] No further splits with positive gain, best gain: -inf\n",
            "[LightGBM] [Warning] No further splits with positive gain, best gain: -inf\n",
            "[LightGBM] [Warning] No further splits with positive gain, best gain: -inf\n",
            "[LightGBM] [Info] Number of positive: 426, number of negative: 394\n",
            "[LightGBM] [Info] Auto-choosing col-wise multi-threading, the overhead of testing was 0.000116 seconds.\n",
            "You can set `force_col_wise=true` to remove the overhead.\n",
            "[LightGBM] [Info] Total Bins 1275\n",
            "[LightGBM] [Info] Number of data points in the train set: 820, number of used features: 5\n",
            "[LightGBM] [Info] [binary:BoostFromScore]: pavg=0.519512 -> initscore=0.078088\n",
            "[LightGBM] [Info] Start training from score 0.078088\n",
            "[LightGBM] [Warning] No further splits with positive gain, best gain: -inf\n",
            "[LightGBM] [Warning] No further splits with positive gain, best gain: -inf\n",
            "[LightGBM] [Warning] No further splits with positive gain, best gain: -inf\n",
            "[LightGBM] [Warning] No further splits with positive gain, best gain: -inf\n",
            "[LightGBM] [Info] Number of positive: 426, number of negative: 394\n",
            "[LightGBM] [Info] Auto-choosing col-wise multi-threading, the overhead of testing was 0.000120 seconds.\n",
            "You can set `force_col_wise=true` to remove the overhead.\n",
            "[LightGBM] [Info] Total Bins 1275\n",
            "[LightGBM] [Info] Number of data points in the train set: 820, number of used features: 5\n",
            "[LightGBM] [Info] [binary:BoostFromScore]: pavg=0.519512 -> initscore=0.078088\n",
            "[LightGBM] [Info] Start training from score 0.078088\n",
            "[LightGBM] [Warning] No further splits with positive gain, best gain: -inf\n",
            "[LightGBM] [Warning] No further splits with positive gain, best gain: -inf\n",
            "[LightGBM] [Warning] No further splits with positive gain, best gain: -inf\n",
            "[LightGBM] [Warning] No further splits with positive gain, best gain: -inf\n",
            "[LightGBM] [Warning] No further splits with positive gain, best gain: -inf\n",
            "[LightGBM] [Warning] No further splits with positive gain, best gain: -inf\n",
            "[LightGBM] [Warning] No further splits with positive gain, best gain: -inf\n",
            "[LightGBM] [Warning] No further splits with positive gain, best gain: -inf\n",
            "[LightGBM] [Warning] No further splits with positive gain, best gain: -inf\n",
            "[LightGBM] [Warning] No further splits with positive gain, best gain: -inf\n",
            "[LightGBM] [Info] Number of positive: 426, number of negative: 394\n",
            "[LightGBM] [Info] Auto-choosing col-wise multi-threading, the overhead of testing was 0.000154 seconds.\n",
            "You can set `force_col_wise=true` to remove the overhead.\n",
            "[LightGBM] [Info] Total Bins 1785\n",
            "[LightGBM] [Info] Number of data points in the train set: 820, number of used features: 7\n",
            "[LightGBM] [Info] [binary:BoostFromScore]: pavg=0.519512 -> initscore=0.078088\n",
            "[LightGBM] [Info] Start training from score 0.078088\n",
            "[LightGBM] [Warning] No further splits with positive gain, best gain: -inf\n",
            "[LightGBM] [Warning] No further splits with positive gain, best gain: -inf\n",
            "[LightGBM] [Info] Number of positive: 426, number of negative: 394\n",
            "[LightGBM] [Info] Auto-choosing col-wise multi-threading, the overhead of testing was 0.000122 seconds.\n",
            "You can set `force_col_wise=true` to remove the overhead.\n",
            "[LightGBM] [Info] Total Bins 1275\n",
            "[LightGBM] [Info] Number of data points in the train set: 820, number of used features: 5\n",
            "[LightGBM] [Info] [binary:BoostFromScore]: pavg=0.519512 -> initscore=0.078088\n",
            "[LightGBM] [Info] Start training from score 0.078088\n",
            "[LightGBM] [Warning] No further splits with positive gain, best gain: -inf\n",
            "[LightGBM] [Warning] No further splits with positive gain, best gain: -inf\n",
            "[LightGBM] [Warning] No further splits with positive gain, best gain: -inf\n",
            "[LightGBM] [Warning] No further splits with positive gain, best gain: -inf\n",
            "[LightGBM] [Warning] No further splits with positive gain, best gain: -inf\n",
            "[LightGBM] [Warning] No further splits with positive gain, best gain: -inf\n",
            "[LightGBM] [Warning] No further splits with positive gain, best gain: -inf\n",
            "[LightGBM] [Info] Number of positive: 426, number of negative: 394\n",
            "[LightGBM] [Info] Auto-choosing col-wise multi-threading, the overhead of testing was 0.000108 seconds.\n",
            "You can set `force_col_wise=true` to remove the overhead.\n",
            "[LightGBM] [Info] Total Bins 1275\n",
            "[LightGBM] [Info] Number of data points in the train set: 820, number of used features: 5\n",
            "[LightGBM] [Info] [binary:BoostFromScore]: pavg=0.519512 -> initscore=0.078088\n",
            "[LightGBM] [Info] Start training from score 0.078088\n",
            "[LightGBM] [Warning] No further splits with positive gain, best gain: -inf\n",
            "[LightGBM] [Warning] No further splits with positive gain, best gain: -inf\n",
            "       frontal  central  parietal  occipital\n",
            "theta    55.88    58.33     56.86      60.29\n",
            "alpha    58.33    57.35     59.31      55.39\n",
            "beta     56.37    58.82     57.35      58.33\n",
            "gamma    63.73    59.31     53.92      59.31\n"
          ]
        }
      ]
    },
    {
      "cell_type": "code",
      "source": [
        "print_accuracy('arousal', 'gpc')"
      ],
      "metadata": {
        "id": "QBw1c8r9O6s5",
        "colab": {
          "base_uri": "https://localhost:8080/"
        },
        "outputId": "3230df88-a37e-4470-e407-eb99b5b246ad"
      },
      "execution_count": 69,
      "outputs": [
        {
          "output_type": "stream",
          "name": "stdout",
          "text": [
            "       frontal  central  parietal  occipital\n",
            "theta    57.84    52.45     61.76      52.45\n",
            "alpha    65.20    51.47     65.20      53.43\n",
            "beta     60.29    58.33     62.25      55.88\n",
            "gamma    63.73    55.88     59.31      63.73\n"
          ]
        }
      ]
    },
    {
      "cell_type": "code",
      "source": [
        "print_accuracy('valence', 'gpc')"
      ],
      "metadata": {
        "id": "_mBzYOJwO-Tc",
        "colab": {
          "base_uri": "https://localhost:8080/"
        },
        "outputId": "c148edf4-777f-43ff-b876-ed3f027baffe"
      },
      "execution_count": 70,
      "outputs": [
        {
          "output_type": "stream",
          "name": "stdout",
          "text": [
            "       frontal  central  parietal  occipital\n",
            "theta    55.88    55.88     54.41      54.41\n",
            "alpha    56.86    56.37     61.76      55.88\n",
            "beta     56.37    61.76     63.24      56.86\n",
            "gamma    56.86    63.73     52.94      57.35\n"
          ]
        }
      ]
    },
    {
      "cell_type": "code",
      "source": [
        "print_accuracy('arousal', 'per')"
      ],
      "metadata": {
        "id": "J_tYtr1vPEwA",
        "colab": {
          "base_uri": "https://localhost:8080/"
        },
        "outputId": "83be5f4b-9d93-4a78-cc88-43ccc6490410"
      },
      "execution_count": 71,
      "outputs": [
        {
          "output_type": "stream",
          "name": "stdout",
          "text": [
            "       frontal  central  parietal  occipital\n",
            "theta    52.45    48.53     53.43      50.00\n",
            "alpha    49.02    50.00     50.49      50.49\n",
            "beta     50.98    50.49     51.47      50.49\n",
            "gamma    50.49    57.84     52.45      50.00\n"
          ]
        }
      ]
    },
    {
      "cell_type": "code",
      "source": [
        "print_accuracy('valence', 'per')"
      ],
      "metadata": {
        "id": "Yz0L94FJPKCx",
        "colab": {
          "base_uri": "https://localhost:8080/"
        },
        "outputId": "87c55b41-3935-40c4-96ee-de3e18f76d94"
      },
      "execution_count": 72,
      "outputs": [
        {
          "output_type": "stream",
          "name": "stdout",
          "text": [
            "       frontal  central  parietal  occipital\n",
            "theta    43.63    47.06     48.53      43.14\n",
            "alpha    43.14    49.02     48.53      44.12\n",
            "beta     54.41    47.55     44.12      43.63\n",
            "gamma    44.12    51.47     45.10      46.08\n"
          ]
        }
      ]
    },
    {
      "cell_type": "code",
      "source": [
        "print_accuracy('arousal', 'cb')"
      ],
      "metadata": {
        "id": "OPkBIcPtPTXf",
        "colab": {
          "base_uri": "https://localhost:8080/"
        },
        "outputId": "4584115d-7bde-4ffd-9549-5ad75cd96238"
      },
      "execution_count": 73,
      "outputs": [
        {
          "output_type": "stream",
          "name": "stdout",
          "text": [
            "       frontal  central  parietal  occipital\n",
            "theta    60.78    59.31     52.94      62.25\n",
            "alpha    65.20    63.73     57.84      62.25\n",
            "beta     60.29    54.90     56.86      55.88\n",
            "gamma    66.67    59.31     60.29      64.71\n"
          ]
        }
      ]
    },
    {
      "cell_type": "code",
      "source": [
        "print_conf(\"gamma\",\"frontal\",\"arousal\",\"cb\")"
      ],
      "metadata": {
        "id": "al5LA0spYBqU",
        "colab": {
          "base_uri": "https://localhost:8080/",
          "height": 451
        },
        "outputId": "9941a79a-e8a5-4de6-f417-623dce826644"
      },
      "execution_count": 74,
      "outputs": [
        {
          "output_type": "display_data",
          "data": {
            "text/plain": [
              "<Figure size 400x200 with 2 Axes>"
            ],
            "image/png": "[encoded data removed]"
          },
          "metadata": {}
        },
        {
          "output_type": "stream",
          "name": "stdout",
          "text": [
            "\n",
            "Classification Report:\n",
            "              precision    recall  f1-score   support\n",
            "\n",
            "    Not Spam       0.65      0.71      0.68       101\n",
            "        Spam       0.69      0.62      0.65       103\n",
            "\n",
            "    accuracy                           0.67       204\n",
            "   macro avg       0.67      0.67      0.67       204\n",
            "weighted avg       0.67      0.67      0.67       204\n",
            "\n"
          ]
        }
      ]
    },
    {
      "cell_type": "code",
      "source": [
        "print_accuracy('valence', 'cb')"
      ],
      "metadata": {
        "id": "7LB1NnMQQcTD",
        "colab": {
          "base_uri": "https://localhost:8080/"
        },
        "outputId": "54987fc9-3784-42eb-b2ad-bae4750e8a2c"
      },
      "execution_count": 75,
      "outputs": [
        {
          "output_type": "stream",
          "name": "stdout",
          "text": [
            "       frontal  central  parietal  occipital\n",
            "theta    54.90    56.37     55.88      61.27\n",
            "alpha    55.88    58.33     56.37      55.88\n",
            "beta     60.78    61.27     59.31      62.75\n",
            "gamma    58.82    58.33     57.84      59.80\n"
          ]
        }
      ]
    }
  ]
}